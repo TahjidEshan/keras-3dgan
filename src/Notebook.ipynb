{
 "cells": [
  {
   "cell_type": "code",
   "execution_count": 20,
   "metadata": {},
   "outputs": [],
   "source": [
    "import os\n",
    "import nibabel as nib\n",
    "import numpy as np\n",
    "from scipy.ndimage.interpolation import zoom\n",
    "import scipy as sp\n",
    "from tqdm.notebook import tqdm_notebook\n",
    "\n",
    "import keras\n",
    "from keras.models import Model\n",
    "from keras.layers import Input\n",
    "from keras.layers.core import Activation\n",
    "from keras.layers.convolutional import Conv3D, Deconv3D\n",
    "from keras.layers.advanced_activations import LeakyReLU\n",
    "from keras.layers.normalization import BatchNormalization\n",
    "from keras.utils.vis_utils import plot_model\n",
    "def load_nifti(file_path, mask=None, z_factor=None, remove_nan=False):\n",
    "    \"\"\"Load a 3D array from a NIFTI file.\"\"\"\n",
    "    img = nib.load(file_path)\n",
    "    struct_arr = np.array(img.get_data())\n",
    "\n",
    "    if remove_nan:\n",
    "        struct_arr = np.nan_to_num(struct_arr)\n",
    "    if mask is not None:\n",
    "        struct_arr *= mask\n",
    "    if z_factor is not None:\n",
    "        struct_arr = np.around(zoom(struct_arr, z_factor), 0)\n",
    "\n",
    "    return struct_arr\n",
    "\n",
    "\n",
    "def save_nifti(file_path, struct_arr):\n",
    "    \"\"\"Save a 3D array to a NIFTI file.\"\"\"\n",
    "    img = nib.Nifti1Image(struct_arr, np.eye(4))\n",
    "    nib.save(img, file_path)\n",
    "    \n",
    "\n",
    "\n"
   ]
  },
  {
   "cell_type": "code",
   "execution_count": 2,
   "metadata": {},
   "outputs": [],
   "source": [
    "def prepareData(use_smooth = False, runningOnServer = False):\n",
    "    rootDir = 'C:/Users/Eshan/Google Drive UALBERTA/Data/' if not runningOnServer else '/mnt/hdd1/lxc-hdd1/tahjid/PD Data/'\n",
    "    patientList, patientNumbers, dataset = [], [], []\n",
    "    labelMap = dict(Control=0, PD=1)\n",
    "    typeMap = dict(FullScan=0, GrayMatter=1, WhiteMatter=2)\n",
    "    fullScanPath = rootDir + 'FinalData/'\n",
    "    wmgmpath = rootDir + 'FinalDataWMGM/' if not use_smooth else rootDir + 'FinalDataWMGMSmooth/'\n",
    "    prefix = 'mwp' if not use_smooth else 'smwp'\n",
    "    ext = '.nii'\n",
    "    for i in ['Control', 'PD']:\n",
    "        path = fullScanPath + i + '/'\n",
    "        listOfFiles = [f for f in os.listdir(path) if f.endswith(ext)]\n",
    "        for file in listOfFiles:\n",
    "            patientNumbers.append(file[:4])\n",
    "        path = wmgmpath + i + '/'\n",
    "        listOfFiles = [f for f in os.listdir(path) if f.endswith(ext)]\n",
    "        for file in listOfFiles:\n",
    "            filename = file[4:8] if not use_smooth else file[5:9]\n",
    "            if filename not in patientNumbers:\n",
    "                continue\n",
    "            if not use_smooth:\n",
    "                patientList.append([i, file[4:8]])\n",
    "            else:\n",
    "                patientList.append([i, file[5:9]])\n",
    "\n",
    "    for i in patientList:\n",
    "        path = fullScanPath + i[0] + '/'\n",
    "        patientIdVal = i[1]\n",
    "        fullScanvalue = os.path.join(path + i[1] + ext)\n",
    "        path = wmgmpath + i[0] + '/'\n",
    "        gmval = os.path.join(path + prefix + str(typeMap['GrayMatter']) + i[1] + ext)\n",
    "        wmval = os.path.join(path + prefix + str(typeMap['WhiteMatter']) + i[1] + ext)\n",
    "        labelval = labelMap[i[0]]\n",
    "        dataset.append([patientIdVal,fullScanvalue, gmval, wmval, labelval])\n",
    "    return np.array(dataset)\n",
    "dataset = prepareData()"
   ]
  },
  {
   "cell_type": "code",
   "execution_count": 10,
   "outputs": [],
   "source": [
    "from sklearn.model_selection import train_test_split\n",
    "X = dataset[:,:4]\n",
    "y = dataset[:,4:]"
   ],
   "metadata": {
    "collapsed": false,
    "pycharm": {
     "name": "#%%\n"
    }
   }
  },
  {
   "cell_type": "code",
   "execution_count": 11,
   "outputs": [],
   "source": [
    "x_train, x_test, y_train, y_test = train_test_split(X, y, test_size=.20, random_state=42)\n"
   ],
   "metadata": {
    "collapsed": false,
    "pycharm": {
     "name": "#%%\n"
    }
   }
  },
  {
   "cell_type": "code",
   "execution_count": 17,
   "outputs": [
    {
     "data": {
      "text/plain": "array([['3004'],\n       ['3011'],\n       ['3013'],\n       ...,\n       ['4117'],\n       ['4135'],\n       ['4136']], dtype='<U76')"
     },
     "execution_count": 17,
     "metadata": {},
     "output_type": "execute_result"
    }
   ],
   "source": [
    "dataset[:,:1]"
   ],
   "metadata": {
    "collapsed": false,
    "pycharm": {
     "name": "#%%\n"
    }
   }
  },
  {
   "cell_type": "code",
   "execution_count": 58,
   "metadata": {},
   "outputs": [],
   "source": [
    "class DataGenerator(keras.utils.Sequence):\n",
    "    'Generates data for Keras'\n",
    "    def __init__(self, data, labels, batch_size=2, dim1=(91,109,91), dim2=(121,145,121) , n_channels=1,\n",
    "                 n_classes=2, shuffle=True):\n",
    "        'Initialization'\n",
    "        self.dim1 = dim1\n",
    "        self.dim2 = dim2\n",
    "        self.batch_size = batch_size\n",
    "        self.labels = list(labels)\n",
    "        self.data = data\n",
    "        self.n_channels = n_channels\n",
    "        self.n_classes = n_classes\n",
    "        self.shuffle = shuffle\n",
    "        self.list_IDs = list(data[:,:1])\n",
    "        self.on_epoch_end()\n",
    "\n",
    "    def __len__(self):\n",
    "        'Denotes the number of batches per epoch'\n",
    "        return int(np.floor(len(self.list_IDs) / self.batch_size))\n",
    "\n",
    "    def __getitem__(self, index):\n",
    "        'Generate one batch of data'\n",
    "        # Generate indexes of the batch\n",
    "        indexes = self.indexes[index*self.batch_size:(index+1)*self.batch_size]\n",
    "        # print(indexes)\n",
    "        # Find list of IDs\n",
    "        # list_IDs_temp = [self.list_IDs[k] for k in indexes]\n",
    "\n",
    "        # Generate data\n",
    "        fs, gm, wm, y = self.__data_generation(indexes)\n",
    "\n",
    "        return fs, gm, wm, y\n",
    "\n",
    "    def on_epoch_end(self):\n",
    "        'Updates indexes after each epoch'\n",
    "        self.indexes = np.arange(len(self.list_IDs))\n",
    "        if self.shuffle:\n",
    "            np.random.shuffle(self.indexes)\n",
    "\n",
    "    def __data_generation(self, indexes):\n",
    "        'Generates data containing batch_size samples' # X : (n_samples, *dim, n_channels)\n",
    "        # Initialization\n",
    "        fs = np.empty((self.batch_size, *self.dim1, self.n_channels))\n",
    "        gm = np.empty((self.batch_size, *self.dim2, self.n_channels))\n",
    "        wm = np.empty((self.batch_size, *self.dim2, self.n_channels))\n",
    "        y = np.empty((self.batch_size), dtype=int)\n",
    "\n",
    "        # Generate data\n",
    "        for i, count in enumerate(indexes):\n",
    "            val = self.data[count]\n",
    "            fullscan = load_nifti(val[1])\n",
    "            graymatter = load_nifti(val[2])\n",
    "            whitematter = load_nifti(val[3])\n",
    "            # print(fullscan.shape, graymatter.shape, whitematter.shape)\n",
    "            # break\n",
    "            # Store sample\n",
    "            fs[i,] = fullscan[..., np.newaxis]\n",
    "            gm[i,] = graymatter[..., np.newaxis]\n",
    "            wm[i,] = whitematter[..., np.newaxis]\n",
    "\n",
    "\n",
    "            # Store class\n",
    "            y[i] = self.labels[i]\n",
    "\n",
    "        return fs, gm, wm, keras.utils.to_categorical(y, num_classes=self.n_classes)\n",
    "    "
   ]
  },
  {
   "cell_type": "code",
   "execution_count": 59,
   "metadata": {},
   "outputs": [],
   "source": [
    "d = DataGenerator(x_train, y_train)\n"
   ]
  },
  {
   "cell_type": "code",
   "execution_count": 60,
   "outputs": [
    {
     "name": "stdout",
     "output_type": "stream",
     "text": [
      "[783 131]\n"
     ]
    },
    {
     "name": "stderr",
     "output_type": "stream",
     "text": [
      "C:\\Users\\Eshan\\anaconda3\\envs\\tf-gpu\\lib\\site-packages\\ipykernel_launcher.py:14: DeprecationWarning: get_data() is deprecated in favor of get_fdata(), which has a more predictable return type. To obtain get_data() behavior going forward, use numpy.asanyarray(img.dataobj).\n",
      "\n",
      "* deprecated from version: 3.0\n",
      "* Will raise <class 'nibabel.deprecator.ExpiredDeprecationError'> as of version: 5.0\n",
      "  \n",
      "C:\\Users\\Eshan\\anaconda3\\envs\\tf-gpu\\lib\\site-packages\\ipykernel_launcher.py:14: DeprecationWarning: get_data() is deprecated in favor of get_fdata(), which has a more predictable return type. To obtain get_data() behavior going forward, use numpy.asanyarray(img.dataobj).\n",
      "\n",
      "* deprecated from version: 3.0\n",
      "* Will raise <class 'nibabel.deprecator.ExpiredDeprecationError'> as of version: 5.0\n",
      "  \n",
      "C:\\Users\\Eshan\\anaconda3\\envs\\tf-gpu\\lib\\site-packages\\ipykernel_launcher.py:14: DeprecationWarning: get_data() is deprecated in favor of get_fdata(), which has a more predictable return type. To obtain get_data() behavior going forward, use numpy.asanyarray(img.dataobj).\n",
      "\n",
      "* deprecated from version: 3.0\n",
      "* Will raise <class 'nibabel.deprecator.ExpiredDeprecationError'> as of version: 5.0\n",
      "  \n",
      "C:\\Users\\Eshan\\anaconda3\\envs\\tf-gpu\\lib\\site-packages\\ipykernel_launcher.py:14: DeprecationWarning: get_data() is deprecated in favor of get_fdata(), which has a more predictable return type. To obtain get_data() behavior going forward, use numpy.asanyarray(img.dataobj).\n",
      "\n",
      "* deprecated from version: 3.0\n",
      "* Will raise <class 'nibabel.deprecator.ExpiredDeprecationError'> as of version: 5.0\n",
      "  \n"
     ]
    },
    {
     "data": {
      "text/plain": "(array([[[[[0.],\n           [0.],\n           [0.],\n           ...,\n           [0.],\n           [0.],\n           [0.]],\n \n          [[0.],\n           [0.],\n           [0.],\n           ...,\n           [0.],\n           [0.],\n           [0.]],\n \n          [[0.],\n           [0.],\n           [0.],\n           ...,\n           [0.],\n           [0.],\n           [0.]],\n \n          ...,\n \n          [[0.],\n           [0.],\n           [0.],\n           ...,\n           [0.],\n           [0.],\n           [0.]],\n \n          [[0.],\n           [0.],\n           [0.],\n           ...,\n           [0.],\n           [0.],\n           [0.]],\n \n          [[0.],\n           [0.],\n           [0.],\n           ...,\n           [0.],\n           [0.],\n           [0.]]],\n \n \n         [[[0.],\n           [0.],\n           [0.],\n           ...,\n           [0.],\n           [0.],\n           [0.]],\n \n          [[0.],\n           [0.],\n           [0.],\n           ...,\n           [0.],\n           [0.],\n           [0.]],\n \n          [[0.],\n           [0.],\n           [0.],\n           ...,\n           [0.],\n           [0.],\n           [0.]],\n \n          ...,\n \n          [[0.],\n           [0.],\n           [0.],\n           ...,\n           [0.],\n           [0.],\n           [0.]],\n \n          [[0.],\n           [0.],\n           [0.],\n           ...,\n           [0.],\n           [0.],\n           [0.]],\n \n          [[0.],\n           [0.],\n           [0.],\n           ...,\n           [0.],\n           [0.],\n           [0.]]],\n \n \n         [[[0.],\n           [0.],\n           [0.],\n           ...,\n           [0.],\n           [0.],\n           [0.]],\n \n          [[0.],\n           [0.],\n           [0.],\n           ...,\n           [0.],\n           [0.],\n           [0.]],\n \n          [[0.],\n           [0.],\n           [0.],\n           ...,\n           [0.],\n           [0.],\n           [0.]],\n \n          ...,\n \n          [[0.],\n           [0.],\n           [0.],\n           ...,\n           [0.],\n           [0.],\n           [0.]],\n \n          [[0.],\n           [0.],\n           [0.],\n           ...,\n           [0.],\n           [0.],\n           [0.]],\n \n          [[0.],\n           [0.],\n           [0.],\n           ...,\n           [0.],\n           [0.],\n           [0.]]],\n \n \n         ...,\n \n \n         [[[0.],\n           [0.],\n           [0.],\n           ...,\n           [0.],\n           [0.],\n           [0.]],\n \n          [[0.],\n           [0.],\n           [0.],\n           ...,\n           [0.],\n           [0.],\n           [0.]],\n \n          [[0.],\n           [0.],\n           [0.],\n           ...,\n           [0.],\n           [0.],\n           [0.]],\n \n          ...,\n \n          [[0.],\n           [0.],\n           [0.],\n           ...,\n           [0.],\n           [0.],\n           [0.]],\n \n          [[0.],\n           [0.],\n           [0.],\n           ...,\n           [0.],\n           [0.],\n           [0.]],\n \n          [[0.],\n           [0.],\n           [0.],\n           ...,\n           [0.],\n           [0.],\n           [0.]]],\n \n \n         [[[0.],\n           [0.],\n           [0.],\n           ...,\n           [0.],\n           [0.],\n           [0.]],\n \n          [[0.],\n           [0.],\n           [0.],\n           ...,\n           [0.],\n           [0.],\n           [0.]],\n \n          [[0.],\n           [0.],\n           [0.],\n           ...,\n           [0.],\n           [0.],\n           [0.]],\n \n          ...,\n \n          [[0.],\n           [0.],\n           [0.],\n           ...,\n           [0.],\n           [0.],\n           [0.]],\n \n          [[0.],\n           [0.],\n           [0.],\n           ...,\n           [0.],\n           [0.],\n           [0.]],\n \n          [[0.],\n           [0.],\n           [0.],\n           ...,\n           [0.],\n           [0.],\n           [0.]]],\n \n \n         [[[0.],\n           [0.],\n           [0.],\n           ...,\n           [0.],\n           [0.],\n           [0.]],\n \n          [[0.],\n           [0.],\n           [0.],\n           ...,\n           [0.],\n           [0.],\n           [0.]],\n \n          [[0.],\n           [0.],\n           [0.],\n           ...,\n           [0.],\n           [0.],\n           [0.]],\n \n          ...,\n \n          [[0.],\n           [0.],\n           [0.],\n           ...,\n           [0.],\n           [0.],\n           [0.]],\n \n          [[0.],\n           [0.],\n           [0.],\n           ...,\n           [0.],\n           [0.],\n           [0.]],\n \n          [[0.],\n           [0.],\n           [0.],\n           ...,\n           [0.],\n           [0.],\n           [0.]]]],\n \n \n \n        [[[[0.],\n           [0.],\n           [0.],\n           ...,\n           [0.],\n           [0.],\n           [0.]],\n \n          [[0.],\n           [0.],\n           [0.],\n           ...,\n           [0.],\n           [0.],\n           [0.]],\n \n          [[0.],\n           [0.],\n           [0.],\n           ...,\n           [0.],\n           [0.],\n           [0.]],\n \n          ...,\n \n          [[0.],\n           [0.],\n           [0.],\n           ...,\n           [0.],\n           [0.],\n           [0.]],\n \n          [[0.],\n           [0.],\n           [0.],\n           ...,\n           [0.],\n           [0.],\n           [0.]],\n \n          [[0.],\n           [0.],\n           [0.],\n           ...,\n           [0.],\n           [0.],\n           [0.]]],\n \n \n         [[[0.],\n           [0.],\n           [0.],\n           ...,\n           [0.],\n           [0.],\n           [0.]],\n \n          [[0.],\n           [0.],\n           [0.],\n           ...,\n           [0.],\n           [0.],\n           [0.]],\n \n          [[0.],\n           [0.],\n           [0.],\n           ...,\n           [0.],\n           [0.],\n           [0.]],\n \n          ...,\n \n          [[0.],\n           [0.],\n           [0.],\n           ...,\n           [0.],\n           [0.],\n           [0.]],\n \n          [[0.],\n           [0.],\n           [0.],\n           ...,\n           [0.],\n           [0.],\n           [0.]],\n \n          [[0.],\n           [0.],\n           [0.],\n           ...,\n           [0.],\n           [0.],\n           [0.]]],\n \n \n         [[[0.],\n           [0.],\n           [0.],\n           ...,\n           [0.],\n           [0.],\n           [0.]],\n \n          [[0.],\n           [0.],\n           [0.],\n           ...,\n           [0.],\n           [0.],\n           [0.]],\n \n          [[0.],\n           [0.],\n           [0.],\n           ...,\n           [0.],\n           [0.],\n           [0.]],\n \n          ...,\n \n          [[0.],\n           [0.],\n           [0.],\n           ...,\n           [0.],\n           [0.],\n           [0.]],\n \n          [[0.],\n           [0.],\n           [0.],\n           ...,\n           [0.],\n           [0.],\n           [0.]],\n \n          [[0.],\n           [0.],\n           [0.],\n           ...,\n           [0.],\n           [0.],\n           [0.]]],\n \n \n         ...,\n \n \n         [[[0.],\n           [0.],\n           [0.],\n           ...,\n           [0.],\n           [0.],\n           [0.]],\n \n          [[0.],\n           [0.],\n           [0.],\n           ...,\n           [0.],\n           [0.],\n           [0.]],\n \n          [[0.],\n           [0.],\n           [0.],\n           ...,\n           [0.],\n           [0.],\n           [0.]],\n \n          ...,\n \n          [[0.],\n           [0.],\n           [0.],\n           ...,\n           [0.],\n           [0.],\n           [0.]],\n \n          [[0.],\n           [0.],\n           [0.],\n           ...,\n           [0.],\n           [0.],\n           [0.]],\n \n          [[0.],\n           [0.],\n           [0.],\n           ...,\n           [0.],\n           [0.],\n           [0.]]],\n \n \n         [[[0.],\n           [0.],\n           [0.],\n           ...,\n           [0.],\n           [0.],\n           [0.]],\n \n          [[0.],\n           [0.],\n           [0.],\n           ...,\n           [0.],\n           [0.],\n           [0.]],\n \n          [[0.],\n           [0.],\n           [0.],\n           ...,\n           [0.],\n           [0.],\n           [0.]],\n \n          ...,\n \n          [[0.],\n           [0.],\n           [0.],\n           ...,\n           [0.],\n           [0.],\n           [0.]],\n \n          [[0.],\n           [0.],\n           [0.],\n           ...,\n           [0.],\n           [0.],\n           [0.]],\n \n          [[0.],\n           [0.],\n           [0.],\n           ...,\n           [0.],\n           [0.],\n           [0.]]],\n \n \n         [[[0.],\n           [0.],\n           [0.],\n           ...,\n           [0.],\n           [0.],\n           [0.]],\n \n          [[0.],\n           [0.],\n           [0.],\n           ...,\n           [0.],\n           [0.],\n           [0.]],\n \n          [[0.],\n           [0.],\n           [0.],\n           ...,\n           [0.],\n           [0.],\n           [0.]],\n \n          ...,\n \n          [[0.],\n           [0.],\n           [0.],\n           ...,\n           [0.],\n           [0.],\n           [0.]],\n \n          [[0.],\n           [0.],\n           [0.],\n           ...,\n           [0.],\n           [0.],\n           [0.]],\n \n          [[0.],\n           [0.],\n           [0.],\n           ...,\n           [0.],\n           [0.],\n           [0.]]]]]),\n array([[[[[0.],\n           [0.],\n           [0.],\n           ...,\n           [0.],\n           [0.],\n           [0.]],\n \n          [[0.],\n           [0.],\n           [0.],\n           ...,\n           [0.],\n           [0.],\n           [0.]],\n \n          [[0.],\n           [0.],\n           [0.],\n           ...,\n           [0.],\n           [0.],\n           [0.]],\n \n          ...,\n \n          [[0.],\n           [0.],\n           [0.],\n           ...,\n           [0.],\n           [0.],\n           [0.]],\n \n          [[0.],\n           [0.],\n           [0.],\n           ...,\n           [0.],\n           [0.],\n           [0.]],\n \n          [[0.],\n           [0.],\n           [0.],\n           ...,\n           [0.],\n           [0.],\n           [0.]]],\n \n \n         [[[0.],\n           [0.],\n           [0.],\n           ...,\n           [0.],\n           [0.],\n           [0.]],\n \n          [[0.],\n           [0.],\n           [0.],\n           ...,\n           [0.],\n           [0.],\n           [0.]],\n \n          [[0.],\n           [0.],\n           [0.],\n           ...,\n           [0.],\n           [0.],\n           [0.]],\n \n          ...,\n \n          [[0.],\n           [0.],\n           [0.],\n           ...,\n           [0.],\n           [0.],\n           [0.]],\n \n          [[0.],\n           [0.],\n           [0.],\n           ...,\n           [0.],\n           [0.],\n           [0.]],\n \n          [[0.],\n           [0.],\n           [0.],\n           ...,\n           [0.],\n           [0.],\n           [0.]]],\n \n \n         [[[0.],\n           [0.],\n           [0.],\n           ...,\n           [0.],\n           [0.],\n           [0.]],\n \n          [[0.],\n           [0.],\n           [0.],\n           ...,\n           [0.],\n           [0.],\n           [0.]],\n \n          [[0.],\n           [0.],\n           [0.],\n           ...,\n           [0.],\n           [0.],\n           [0.]],\n \n          ...,\n \n          [[0.],\n           [0.],\n           [0.],\n           ...,\n           [0.],\n           [0.],\n           [0.]],\n \n          [[0.],\n           [0.],\n           [0.],\n           ...,\n           [0.],\n           [0.],\n           [0.]],\n \n          [[0.],\n           [0.],\n           [0.],\n           ...,\n           [0.],\n           [0.],\n           [0.]]],\n \n \n         ...,\n \n \n         [[[0.],\n           [0.],\n           [0.],\n           ...,\n           [0.],\n           [0.],\n           [0.]],\n \n          [[0.],\n           [0.],\n           [0.],\n           ...,\n           [0.],\n           [0.],\n           [0.]],\n \n          [[0.],\n           [0.],\n           [0.],\n           ...,\n           [0.],\n           [0.],\n           [0.]],\n \n          ...,\n \n          [[0.],\n           [0.],\n           [0.],\n           ...,\n           [0.],\n           [0.],\n           [0.]],\n \n          [[0.],\n           [0.],\n           [0.],\n           ...,\n           [0.],\n           [0.],\n           [0.]],\n \n          [[0.],\n           [0.],\n           [0.],\n           ...,\n           [0.],\n           [0.],\n           [0.]]],\n \n \n         [[[0.],\n           [0.],\n           [0.],\n           ...,\n           [0.],\n           [0.],\n           [0.]],\n \n          [[0.],\n           [0.],\n           [0.],\n           ...,\n           [0.],\n           [0.],\n           [0.]],\n \n          [[0.],\n           [0.],\n           [0.],\n           ...,\n           [0.],\n           [0.],\n           [0.]],\n \n          ...,\n \n          [[0.],\n           [0.],\n           [0.],\n           ...,\n           [0.],\n           [0.],\n           [0.]],\n \n          [[0.],\n           [0.],\n           [0.],\n           ...,\n           [0.],\n           [0.],\n           [0.]],\n \n          [[0.],\n           [0.],\n           [0.],\n           ...,\n           [0.],\n           [0.],\n           [0.]]],\n \n \n         [[[0.],\n           [0.],\n           [0.],\n           ...,\n           [0.],\n           [0.],\n           [0.]],\n \n          [[0.],\n           [0.],\n           [0.],\n           ...,\n           [0.],\n           [0.],\n           [0.]],\n \n          [[0.],\n           [0.],\n           [0.],\n           ...,\n           [0.],\n           [0.],\n           [0.]],\n \n          ...,\n \n          [[0.],\n           [0.],\n           [0.],\n           ...,\n           [0.],\n           [0.],\n           [0.]],\n \n          [[0.],\n           [0.],\n           [0.],\n           ...,\n           [0.],\n           [0.],\n           [0.]],\n \n          [[0.],\n           [0.],\n           [0.],\n           ...,\n           [0.],\n           [0.],\n           [0.]]]],\n \n \n \n        [[[[0.],\n           [0.],\n           [0.],\n           ...,\n           [0.],\n           [0.],\n           [0.]],\n \n          [[0.],\n           [0.],\n           [0.],\n           ...,\n           [0.],\n           [0.],\n           [0.]],\n \n          [[0.],\n           [0.],\n           [0.],\n           ...,\n           [0.],\n           [0.],\n           [0.]],\n \n          ...,\n \n          [[0.],\n           [0.],\n           [0.],\n           ...,\n           [0.],\n           [0.],\n           [0.]],\n \n          [[0.],\n           [0.],\n           [0.],\n           ...,\n           [0.],\n           [0.],\n           [0.]],\n \n          [[0.],\n           [0.],\n           [0.],\n           ...,\n           [0.],\n           [0.],\n           [0.]]],\n \n \n         [[[0.],\n           [0.],\n           [0.],\n           ...,\n           [0.],\n           [0.],\n           [0.]],\n \n          [[0.],\n           [0.],\n           [0.],\n           ...,\n           [0.],\n           [0.],\n           [0.]],\n \n          [[0.],\n           [0.],\n           [0.],\n           ...,\n           [0.],\n           [0.],\n           [0.]],\n \n          ...,\n \n          [[0.],\n           [0.],\n           [0.],\n           ...,\n           [0.],\n           [0.],\n           [0.]],\n \n          [[0.],\n           [0.],\n           [0.],\n           ...,\n           [0.],\n           [0.],\n           [0.]],\n \n          [[0.],\n           [0.],\n           [0.],\n           ...,\n           [0.],\n           [0.],\n           [0.]]],\n \n \n         [[[0.],\n           [0.],\n           [0.],\n           ...,\n           [0.],\n           [0.],\n           [0.]],\n \n          [[0.],\n           [0.],\n           [0.],\n           ...,\n           [0.],\n           [0.],\n           [0.]],\n \n          [[0.],\n           [0.],\n           [0.],\n           ...,\n           [0.],\n           [0.],\n           [0.]],\n \n          ...,\n \n          [[0.],\n           [0.],\n           [0.],\n           ...,\n           [0.],\n           [0.],\n           [0.]],\n \n          [[0.],\n           [0.],\n           [0.],\n           ...,\n           [0.],\n           [0.],\n           [0.]],\n \n          [[0.],\n           [0.],\n           [0.],\n           ...,\n           [0.],\n           [0.],\n           [0.]]],\n \n \n         ...,\n \n \n         [[[0.],\n           [0.],\n           [0.],\n           ...,\n           [0.],\n           [0.],\n           [0.]],\n \n          [[0.],\n           [0.],\n           [0.],\n           ...,\n           [0.],\n           [0.],\n           [0.]],\n \n          [[0.],\n           [0.],\n           [0.],\n           ...,\n           [0.],\n           [0.],\n           [0.]],\n \n          ...,\n \n          [[0.],\n           [0.],\n           [0.],\n           ...,\n           [0.],\n           [0.],\n           [0.]],\n \n          [[0.],\n           [0.],\n           [0.],\n           ...,\n           [0.],\n           [0.],\n           [0.]],\n \n          [[0.],\n           [0.],\n           [0.],\n           ...,\n           [0.],\n           [0.],\n           [0.]]],\n \n \n         [[[0.],\n           [0.],\n           [0.],\n           ...,\n           [0.],\n           [0.],\n           [0.]],\n \n          [[0.],\n           [0.],\n           [0.],\n           ...,\n           [0.],\n           [0.],\n           [0.]],\n \n          [[0.],\n           [0.],\n           [0.],\n           ...,\n           [0.],\n           [0.],\n           [0.]],\n \n          ...,\n \n          [[0.],\n           [0.],\n           [0.],\n           ...,\n           [0.],\n           [0.],\n           [0.]],\n \n          [[0.],\n           [0.],\n           [0.],\n           ...,\n           [0.],\n           [0.],\n           [0.]],\n \n          [[0.],\n           [0.],\n           [0.],\n           ...,\n           [0.],\n           [0.],\n           [0.]]],\n \n \n         [[[0.],\n           [0.],\n           [0.],\n           ...,\n           [0.],\n           [0.],\n           [0.]],\n \n          [[0.],\n           [0.],\n           [0.],\n           ...,\n           [0.],\n           [0.],\n           [0.]],\n \n          [[0.],\n           [0.],\n           [0.],\n           ...,\n           [0.],\n           [0.],\n           [0.]],\n \n          ...,\n \n          [[0.],\n           [0.],\n           [0.],\n           ...,\n           [0.],\n           [0.],\n           [0.]],\n \n          [[0.],\n           [0.],\n           [0.],\n           ...,\n           [0.],\n           [0.],\n           [0.]],\n \n          [[0.],\n           [0.],\n           [0.],\n           ...,\n           [0.],\n           [0.],\n           [0.]]]]]),\n array([[[[[0.],\n           [0.],\n           [0.],\n           ...,\n           [0.],\n           [0.],\n           [0.]],\n \n          [[0.],\n           [0.],\n           [0.],\n           ...,\n           [0.],\n           [0.],\n           [0.]],\n \n          [[0.],\n           [0.],\n           [0.],\n           ...,\n           [0.],\n           [0.],\n           [0.]],\n \n          ...,\n \n          [[0.],\n           [0.],\n           [0.],\n           ...,\n           [0.],\n           [0.],\n           [0.]],\n \n          [[0.],\n           [0.],\n           [0.],\n           ...,\n           [0.],\n           [0.],\n           [0.]],\n \n          [[0.],\n           [0.],\n           [0.],\n           ...,\n           [0.],\n           [0.],\n           [0.]]],\n \n \n         [[[0.],\n           [0.],\n           [0.],\n           ...,\n           [0.],\n           [0.],\n           [0.]],\n \n          [[0.],\n           [0.],\n           [0.],\n           ...,\n           [0.],\n           [0.],\n           [0.]],\n \n          [[0.],\n           [0.],\n           [0.],\n           ...,\n           [0.],\n           [0.],\n           [0.]],\n \n          ...,\n \n          [[0.],\n           [0.],\n           [0.],\n           ...,\n           [0.],\n           [0.],\n           [0.]],\n \n          [[0.],\n           [0.],\n           [0.],\n           ...,\n           [0.],\n           [0.],\n           [0.]],\n \n          [[0.],\n           [0.],\n           [0.],\n           ...,\n           [0.],\n           [0.],\n           [0.]]],\n \n \n         [[[0.],\n           [0.],\n           [0.],\n           ...,\n           [0.],\n           [0.],\n           [0.]],\n \n          [[0.],\n           [0.],\n           [0.],\n           ...,\n           [0.],\n           [0.],\n           [0.]],\n \n          [[0.],\n           [0.],\n           [0.],\n           ...,\n           [0.],\n           [0.],\n           [0.]],\n \n          ...,\n \n          [[0.],\n           [0.],\n           [0.],\n           ...,\n           [0.],\n           [0.],\n           [0.]],\n \n          [[0.],\n           [0.],\n           [0.],\n           ...,\n           [0.],\n           [0.],\n           [0.]],\n \n          [[0.],\n           [0.],\n           [0.],\n           ...,\n           [0.],\n           [0.],\n           [0.]]],\n \n \n         ...,\n \n \n         [[[0.],\n           [0.],\n           [0.],\n           ...,\n           [0.],\n           [0.],\n           [0.]],\n \n          [[0.],\n           [0.],\n           [0.],\n           ...,\n           [0.],\n           [0.],\n           [0.]],\n \n          [[0.],\n           [0.],\n           [0.],\n           ...,\n           [0.],\n           [0.],\n           [0.]],\n \n          ...,\n \n          [[0.],\n           [0.],\n           [0.],\n           ...,\n           [0.],\n           [0.],\n           [0.]],\n \n          [[0.],\n           [0.],\n           [0.],\n           ...,\n           [0.],\n           [0.],\n           [0.]],\n \n          [[0.],\n           [0.],\n           [0.],\n           ...,\n           [0.],\n           [0.],\n           [0.]]],\n \n \n         [[[0.],\n           [0.],\n           [0.],\n           ...,\n           [0.],\n           [0.],\n           [0.]],\n \n          [[0.],\n           [0.],\n           [0.],\n           ...,\n           [0.],\n           [0.],\n           [0.]],\n \n          [[0.],\n           [0.],\n           [0.],\n           ...,\n           [0.],\n           [0.],\n           [0.]],\n \n          ...,\n \n          [[0.],\n           [0.],\n           [0.],\n           ...,\n           [0.],\n           [0.],\n           [0.]],\n \n          [[0.],\n           [0.],\n           [0.],\n           ...,\n           [0.],\n           [0.],\n           [0.]],\n \n          [[0.],\n           [0.],\n           [0.],\n           ...,\n           [0.],\n           [0.],\n           [0.]]],\n \n \n         [[[0.],\n           [0.],\n           [0.],\n           ...,\n           [0.],\n           [0.],\n           [0.]],\n \n          [[0.],\n           [0.],\n           [0.],\n           ...,\n           [0.],\n           [0.],\n           [0.]],\n \n          [[0.],\n           [0.],\n           [0.],\n           ...,\n           [0.],\n           [0.],\n           [0.]],\n \n          ...,\n \n          [[0.],\n           [0.],\n           [0.],\n           ...,\n           [0.],\n           [0.],\n           [0.]],\n \n          [[0.],\n           [0.],\n           [0.],\n           ...,\n           [0.],\n           [0.],\n           [0.]],\n \n          [[0.],\n           [0.],\n           [0.],\n           ...,\n           [0.],\n           [0.],\n           [0.]]]],\n \n \n \n        [[[[0.],\n           [0.],\n           [0.],\n           ...,\n           [0.],\n           [0.],\n           [0.]],\n \n          [[0.],\n           [0.],\n           [0.],\n           ...,\n           [0.],\n           [0.],\n           [0.]],\n \n          [[0.],\n           [0.],\n           [0.],\n           ...,\n           [0.],\n           [0.],\n           [0.]],\n \n          ...,\n \n          [[0.],\n           [0.],\n           [0.],\n           ...,\n           [0.],\n           [0.],\n           [0.]],\n \n          [[0.],\n           [0.],\n           [0.],\n           ...,\n           [0.],\n           [0.],\n           [0.]],\n \n          [[0.],\n           [0.],\n           [0.],\n           ...,\n           [0.],\n           [0.],\n           [0.]]],\n \n \n         [[[0.],\n           [0.],\n           [0.],\n           ...,\n           [0.],\n           [0.],\n           [0.]],\n \n          [[0.],\n           [0.],\n           [0.],\n           ...,\n           [0.],\n           [0.],\n           [0.]],\n \n          [[0.],\n           [0.],\n           [0.],\n           ...,\n           [0.],\n           [0.],\n           [0.]],\n \n          ...,\n \n          [[0.],\n           [0.],\n           [0.],\n           ...,\n           [0.],\n           [0.],\n           [0.]],\n \n          [[0.],\n           [0.],\n           [0.],\n           ...,\n           [0.],\n           [0.],\n           [0.]],\n \n          [[0.],\n           [0.],\n           [0.],\n           ...,\n           [0.],\n           [0.],\n           [0.]]],\n \n \n         [[[0.],\n           [0.],\n           [0.],\n           ...,\n           [0.],\n           [0.],\n           [0.]],\n \n          [[0.],\n           [0.],\n           [0.],\n           ...,\n           [0.],\n           [0.],\n           [0.]],\n \n          [[0.],\n           [0.],\n           [0.],\n           ...,\n           [0.],\n           [0.],\n           [0.]],\n \n          ...,\n \n          [[0.],\n           [0.],\n           [0.],\n           ...,\n           [0.],\n           [0.],\n           [0.]],\n \n          [[0.],\n           [0.],\n           [0.],\n           ...,\n           [0.],\n           [0.],\n           [0.]],\n \n          [[0.],\n           [0.],\n           [0.],\n           ...,\n           [0.],\n           [0.],\n           [0.]]],\n \n \n         ...,\n \n \n         [[[0.],\n           [0.],\n           [0.],\n           ...,\n           [0.],\n           [0.],\n           [0.]],\n \n          [[0.],\n           [0.],\n           [0.],\n           ...,\n           [0.],\n           [0.],\n           [0.]],\n \n          [[0.],\n           [0.],\n           [0.],\n           ...,\n           [0.],\n           [0.],\n           [0.]],\n \n          ...,\n \n          [[0.],\n           [0.],\n           [0.],\n           ...,\n           [0.],\n           [0.],\n           [0.]],\n \n          [[0.],\n           [0.],\n           [0.],\n           ...,\n           [0.],\n           [0.],\n           [0.]],\n \n          [[0.],\n           [0.],\n           [0.],\n           ...,\n           [0.],\n           [0.],\n           [0.]]],\n \n \n         [[[0.],\n           [0.],\n           [0.],\n           ...,\n           [0.],\n           [0.],\n           [0.]],\n \n          [[0.],\n           [0.],\n           [0.],\n           ...,\n           [0.],\n           [0.],\n           [0.]],\n \n          [[0.],\n           [0.],\n           [0.],\n           ...,\n           [0.],\n           [0.],\n           [0.]],\n \n          ...,\n \n          [[0.],\n           [0.],\n           [0.],\n           ...,\n           [0.],\n           [0.],\n           [0.]],\n \n          [[0.],\n           [0.],\n           [0.],\n           ...,\n           [0.],\n           [0.],\n           [0.]],\n \n          [[0.],\n           [0.],\n           [0.],\n           ...,\n           [0.],\n           [0.],\n           [0.]]],\n \n \n         [[[0.],\n           [0.],\n           [0.],\n           ...,\n           [0.],\n           [0.],\n           [0.]],\n \n          [[0.],\n           [0.],\n           [0.],\n           ...,\n           [0.],\n           [0.],\n           [0.]],\n \n          [[0.],\n           [0.],\n           [0.],\n           ...,\n           [0.],\n           [0.],\n           [0.]],\n \n          ...,\n \n          [[0.],\n           [0.],\n           [0.],\n           ...,\n           [0.],\n           [0.],\n           [0.]],\n \n          [[0.],\n           [0.],\n           [0.],\n           ...,\n           [0.],\n           [0.],\n           [0.]],\n \n          [[0.],\n           [0.],\n           [0.],\n           ...,\n           [0.],\n           [0.],\n           [0.]]]]]),\n array([[0., 1.],\n        [0., 1.]], dtype=float32))"
     },
     "execution_count": 60,
     "metadata": {},
     "output_type": "execute_result"
    }
   ],
   "source": [
    "d.__getitem__(0)"
   ],
   "metadata": {
    "collapsed": false,
    "pycharm": {
     "name": "#%%\n"
    }
   }
  },
  {
   "cell_type": "code",
   "execution_count": 16,
   "outputs": [],
   "source": [
    "def generator(phase_train=True, params={'z_size':200, 'strides':(2,2,2), 'kernel_size':(4,4,4)}):\n",
    "    \"\"\"\n",
    "    Returns a Generator Model with input params and phase_train\n",
    "    Args:\n",
    "        phase_train (boolean): training phase or not\n",
    "        params (dict): Dictionary with model parameters\n",
    "    Returns:\n",
    "        model (keras.Model): Keras Generator model\n",
    "    \"\"\"\n",
    "\n",
    "    z_size = params['z_size']\n",
    "    strides = params['strides']\n",
    "    kernel_size = params['kernel_size']\n",
    "\n",
    "    inputs = Input(shape=(1, 1, 1, z_size))\n",
    "\n",
    "    g1 = Deconv3D(filters=512, kernel_size=kernel_size,\n",
    "                  strides=(1, 1, 1), kernel_initializer='glorot_normal',\n",
    "                  bias_initializer='zeros', padding='valid')(inputs)\n",
    "    g1 = BatchNormalization()(g1, training=phase_train)\n",
    "    g1 = Activation(activation='relu')(g1)\n",
    "\n",
    "    g2 = Deconv3D(filters=256, kernel_size=kernel_size,\n",
    "                  strides=strides, kernel_initializer='glorot_normal',\n",
    "                  bias_initializer='zeros', padding='same')(g1)\n",
    "    g2 = BatchNormalization()(g2, training=phase_train)\n",
    "    g2 = Activation(activation='relu')(g2)\n",
    "\n",
    "    g3 = Deconv3D(filters=128, kernel_size=kernel_size,\n",
    "                  strides=strides, kernel_initializer='glorot_normal',\n",
    "                  bias_initializer='zeros', padding='same')(g2)\n",
    "    g3 = BatchNormalization()(g3, training=phase_train)\n",
    "    g3 = Activation(activation='relu')(g3)\n",
    "\n",
    "    g4 = Deconv3D(filters=64, kernel_size=kernel_size,\n",
    "                  strides=strides, kernel_initializer='glorot_normal',\n",
    "                  bias_initializer='zeros', padding='same')(g3)\n",
    "    g4 = BatchNormalization()(g4, training=phase_train)\n",
    "    g4 = Activation(activation='relu')(g4)\n",
    "\n",
    "    g5 = Deconv3D(filters=1, kernel_size=kernel_size,\n",
    "                  strides=strides, kernel_initializer='glorot_normal',\n",
    "                  bias_initializer='zeros', padding='same')(g4)\n",
    "    g5 = BatchNormalization()(g5, training=phase_train)\n",
    "    g5 = Activation(activation='sigmoid')(g5)\n",
    "\n",
    "    model = Model(inputs=inputs, outputs=g5)\n",
    "    model.summary()\n",
    "\n",
    "    return model"
   ],
   "metadata": {
    "collapsed": false,
    "pycharm": {
     "name": "#%%\n"
    }
   }
  },
  {
   "cell_type": "code",
   "execution_count": 22,
   "outputs": [
    {
     "name": "stdout",
     "output_type": "stream",
     "text": [
      "Model: \"model_2\"\n",
      "_________________________________________________________________\n",
      "Layer (type)                 Output Shape              Param #   \n",
      "=================================================================\n",
      "input_4 (InputLayer)         (None, 1, 1, 1, 200)      0         \n",
      "_________________________________________________________________\n",
      "conv3d_transpose_6 (Conv3DTr (None, 512, 4, 4, 203)    33280     \n",
      "_________________________________________________________________\n",
      "batch_normalization_6 (Batch (None, 512, 4, 4, 203)    812       \n",
      "_________________________________________________________________\n",
      "activation_6 (Activation)    (None, 512, 4, 4, 203)    0         \n",
      "_________________________________________________________________\n",
      "conv3d_transpose_7 (Conv3DTr (None, 256, 8, 8, 406)    8388864   \n",
      "_________________________________________________________________\n",
      "batch_normalization_7 (Batch (None, 256, 8, 8, 406)    1624      \n",
      "_________________________________________________________________\n",
      "activation_7 (Activation)    (None, 256, 8, 8, 406)    0         \n",
      "_________________________________________________________________\n",
      "conv3d_transpose_8 (Conv3DTr (None, 128, 16, 16, 812)  2097280   \n",
      "_________________________________________________________________\n",
      "batch_normalization_8 (Batch (None, 128, 16, 16, 812)  3248      \n",
      "_________________________________________________________________\n",
      "activation_8 (Activation)    (None, 128, 16, 16, 812)  0         \n",
      "_________________________________________________________________\n",
      "conv3d_transpose_9 (Conv3DTr (None, 64, 32, 32, 1624)  524352    \n",
      "_________________________________________________________________\n",
      "batch_normalization_9 (Batch (None, 64, 32, 32, 1624)  6496      \n",
      "_________________________________________________________________\n",
      "activation_9 (Activation)    (None, 64, 32, 32, 1624)  0         \n",
      "_________________________________________________________________\n",
      "conv3d_transpose_10 (Conv3DT (None, 1, 64, 64, 3248)   4097      \n",
      "_________________________________________________________________\n",
      "batch_normalization_10 (Batc (None, 1, 64, 64, 3248)   12992     \n",
      "_________________________________________________________________\n",
      "activation_10 (Activation)   (None, 1, 64, 64, 3248)   0         \n",
      "=================================================================\n",
      "Total params: 11,073,045\n",
      "Trainable params: 11,060,459\n",
      "Non-trainable params: 12,586\n",
      "_________________________________________________________________\n",
      "Model: \"model_2\"\n",
      "_________________________________________________________________\n",
      "Layer (type)                 Output Shape              Param #   \n",
      "=================================================================\n",
      "input_4 (InputLayer)         (None, 1, 1, 1, 200)      0         \n",
      "_________________________________________________________________\n",
      "conv3d_transpose_6 (Conv3DTr (None, 512, 4, 4, 203)    33280     \n",
      "_________________________________________________________________\n",
      "batch_normalization_6 (Batch (None, 512, 4, 4, 203)    812       \n",
      "_________________________________________________________________\n",
      "activation_6 (Activation)    (None, 512, 4, 4, 203)    0         \n",
      "_________________________________________________________________\n",
      "conv3d_transpose_7 (Conv3DTr (None, 256, 8, 8, 406)    8388864   \n",
      "_________________________________________________________________\n",
      "batch_normalization_7 (Batch (None, 256, 8, 8, 406)    1624      \n",
      "_________________________________________________________________\n",
      "activation_7 (Activation)    (None, 256, 8, 8, 406)    0         \n",
      "_________________________________________________________________\n",
      "conv3d_transpose_8 (Conv3DTr (None, 128, 16, 16, 812)  2097280   \n",
      "_________________________________________________________________\n",
      "batch_normalization_8 (Batch (None, 128, 16, 16, 812)  3248      \n",
      "_________________________________________________________________\n",
      "activation_8 (Activation)    (None, 128, 16, 16, 812)  0         \n",
      "_________________________________________________________________\n",
      "conv3d_transpose_9 (Conv3DTr (None, 64, 32, 32, 1624)  524352    \n",
      "_________________________________________________________________\n",
      "batch_normalization_9 (Batch (None, 64, 32, 32, 1624)  6496      \n",
      "_________________________________________________________________\n",
      "activation_9 (Activation)    (None, 64, 32, 32, 1624)  0         \n",
      "_________________________________________________________________\n",
      "conv3d_transpose_10 (Conv3DT (None, 1, 64, 64, 3248)   4097      \n",
      "_________________________________________________________________\n",
      "batch_normalization_10 (Batc (None, 1, 64, 64, 3248)   12992     \n",
      "_________________________________________________________________\n",
      "activation_10 (Activation)   (None, 1, 64, 64, 3248)   0         \n",
      "=================================================================\n",
      "Total params: 11,073,045\n",
      "Trainable params: 11,060,459\n",
      "Non-trainable params: 12,586\n",
      "_________________________________________________________________\n"
     ]
    },
    {
     "ename": "ImportError",
     "evalue": "Failed to import `pydot`. Please install `pydot`. For example with `pip install pydot`.",
     "output_type": "error",
     "traceback": [
      "\u001B[1;31m---------------------------------------------------------------------------\u001B[0m",
      "\u001B[1;31mImportError\u001B[0m                               Traceback (most recent call last)",
      "\u001B[1;32m<ipython-input-22-fd7c53614dd9>\u001B[0m in \u001B[0;36m<module>\u001B[1;34m\u001B[0m\n\u001B[0;32m      1\u001B[0m \u001B[0mmodel\u001B[0m \u001B[1;33m=\u001B[0m \u001B[0mgenerator\u001B[0m\u001B[1;33m(\u001B[0m\u001B[1;33m)\u001B[0m\u001B[1;33m\u001B[0m\u001B[1;33m\u001B[0m\u001B[0m\n\u001B[0;32m      2\u001B[0m \u001B[0mmodel\u001B[0m\u001B[1;33m.\u001B[0m\u001B[0msummary\u001B[0m\u001B[1;33m(\u001B[0m\u001B[1;33m)\u001B[0m\u001B[1;33m\u001B[0m\u001B[1;33m\u001B[0m\u001B[0m\n\u001B[1;32m----> 3\u001B[1;33m \u001B[0mplot_model\u001B[0m\u001B[1;33m(\u001B[0m\u001B[0mmodel\u001B[0m\u001B[1;33m,\u001B[0m \u001B[0mto_file\u001B[0m \u001B[1;33m=\u001B[0m \u001B[1;34m\"generator_plot.png\"\u001B[0m\u001B[1;33m,\u001B[0m \u001B[0mshow_shapes\u001B[0m \u001B[1;33m=\u001B[0m \u001B[1;32mTrue\u001B[0m\u001B[1;33m,\u001B[0m \u001B[0mshow_layer_names\u001B[0m \u001B[1;33m=\u001B[0m \u001B[1;32mTrue\u001B[0m\u001B[1;33m)\u001B[0m\u001B[1;33m\u001B[0m\u001B[1;33m\u001B[0m\u001B[0m\n\u001B[0m",
      "\u001B[1;32m~\\AppData\\Roaming\\Python\\Python37\\site-packages\\keras\\utils\\vis_utils.py\u001B[0m in \u001B[0;36mplot_model\u001B[1;34m(model, to_file, show_shapes, show_layer_names, rankdir, expand_nested, dpi)\u001B[0m\n\u001B[0;32m    238\u001B[0m     \"\"\"\n\u001B[0;32m    239\u001B[0m     dot = model_to_dot(model, show_shapes, show_layer_names, rankdir,\n\u001B[1;32m--> 240\u001B[1;33m                        expand_nested, dpi)\n\u001B[0m\u001B[0;32m    241\u001B[0m     \u001B[0m_\u001B[0m\u001B[1;33m,\u001B[0m \u001B[0mextension\u001B[0m \u001B[1;33m=\u001B[0m \u001B[0mos\u001B[0m\u001B[1;33m.\u001B[0m\u001B[0mpath\u001B[0m\u001B[1;33m.\u001B[0m\u001B[0msplitext\u001B[0m\u001B[1;33m(\u001B[0m\u001B[0mto_file\u001B[0m\u001B[1;33m)\u001B[0m\u001B[1;33m\u001B[0m\u001B[1;33m\u001B[0m\u001B[0m\n\u001B[0;32m    242\u001B[0m     \u001B[1;32mif\u001B[0m \u001B[1;32mnot\u001B[0m \u001B[0mextension\u001B[0m\u001B[1;33m:\u001B[0m\u001B[1;33m\u001B[0m\u001B[1;33m\u001B[0m\u001B[0m\n",
      "\u001B[1;32m~\\AppData\\Roaming\\Python\\Python37\\site-packages\\keras\\utils\\vis_utils.py\u001B[0m in \u001B[0;36mmodel_to_dot\u001B[1;34m(model, show_shapes, show_layer_names, rankdir, expand_nested, dpi, subgraph)\u001B[0m\n\u001B[0;32m     77\u001B[0m     \u001B[1;32mfrom\u001B[0m \u001B[1;33m.\u001B[0m\u001B[1;33m.\u001B[0m\u001B[0mmodels\u001B[0m \u001B[1;32mimport\u001B[0m \u001B[0mSequential\u001B[0m\u001B[1;33m\u001B[0m\u001B[1;33m\u001B[0m\u001B[0m\n\u001B[0;32m     78\u001B[0m \u001B[1;33m\u001B[0m\u001B[0m\n\u001B[1;32m---> 79\u001B[1;33m     \u001B[0m_check_pydot\u001B[0m\u001B[1;33m(\u001B[0m\u001B[1;33m)\u001B[0m\u001B[1;33m\u001B[0m\u001B[1;33m\u001B[0m\u001B[0m\n\u001B[0m\u001B[0;32m     80\u001B[0m     \u001B[1;32mif\u001B[0m \u001B[0msubgraph\u001B[0m\u001B[1;33m:\u001B[0m\u001B[1;33m\u001B[0m\u001B[1;33m\u001B[0m\u001B[0m\n\u001B[0;32m     81\u001B[0m         \u001B[0mdot\u001B[0m \u001B[1;33m=\u001B[0m \u001B[0mpydot\u001B[0m\u001B[1;33m.\u001B[0m\u001B[0mCluster\u001B[0m\u001B[1;33m(\u001B[0m\u001B[0mstyle\u001B[0m\u001B[1;33m=\u001B[0m\u001B[1;34m'dashed'\u001B[0m\u001B[1;33m,\u001B[0m \u001B[0mgraph_name\u001B[0m\u001B[1;33m=\u001B[0m\u001B[0mmodel\u001B[0m\u001B[1;33m.\u001B[0m\u001B[0mname\u001B[0m\u001B[1;33m)\u001B[0m\u001B[1;33m\u001B[0m\u001B[1;33m\u001B[0m\u001B[0m\n",
      "\u001B[1;32m~\\AppData\\Roaming\\Python\\Python37\\site-packages\\keras\\utils\\vis_utils.py\u001B[0m in \u001B[0;36m_check_pydot\u001B[1;34m()\u001B[0m\n\u001B[0;32m     20\u001B[0m     \u001B[1;32mif\u001B[0m \u001B[0mpydot\u001B[0m \u001B[1;32mis\u001B[0m \u001B[1;32mNone\u001B[0m\u001B[1;33m:\u001B[0m\u001B[1;33m\u001B[0m\u001B[1;33m\u001B[0m\u001B[0m\n\u001B[0;32m     21\u001B[0m         raise ImportError(\n\u001B[1;32m---> 22\u001B[1;33m             \u001B[1;34m'Failed to import `pydot`. '\u001B[0m\u001B[1;33m\u001B[0m\u001B[1;33m\u001B[0m\u001B[0m\n\u001B[0m\u001B[0;32m     23\u001B[0m             \u001B[1;34m'Please install `pydot`. '\u001B[0m\u001B[1;33m\u001B[0m\u001B[1;33m\u001B[0m\u001B[0m\n\u001B[0;32m     24\u001B[0m             'For example with `pip install pydot`.')\n",
      "\u001B[1;31mImportError\u001B[0m: Failed to import `pydot`. Please install `pydot`. For example with `pip install pydot`."
     ]
    }
   ],
   "source": [
    "model = generator()\n",
    "model.summary()\n",
    "plot_model(model, to_file = \"generator_plot.png\", show_shapes = True, show_layer_names = True)"
   ],
   "metadata": {
    "collapsed": false,
    "pycharm": {
     "name": "#%%\n"
    }
   }
  }
 ],
 "metadata": {
  "kernelspec": {
   "name": "python3",
   "language": "python",
   "display_name": "Python 3"
  },
  "language_info": {
   "codemirror_mode": {
    "name": "ipython",
    "version": 3
   },
   "file_extension": ".py",
   "mimetype": "text/x-python",
   "name": "python",
   "nbconvert_exporter": "python",
   "pygments_lexer": "ipython3",
   "version": "3.8.5"
  }
 },
 "nbformat": 4,
 "nbformat_minor": 4
}