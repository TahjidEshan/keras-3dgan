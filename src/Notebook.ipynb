{
 "cells": [
  {
   "cell_type": "code",
   "execution_count": 1,
   "metadata": {},
   "outputs": [
    {
     "name": "stderr",
     "output_type": "stream",
     "text": [
      "Using TensorFlow backend.\n",
      "/mnt/hdd1/lxc-hdd1/tahjid/anaconda3/envs/tf-gpu/lib/python3.6/site-packages/tensorflow/python/framework/dtypes.py:523: FutureWarning: Passing (type, 1) or '1type' as a synonym of type is deprecated; in a future version of numpy, it will be understood as (type, (1,)) / '(1,)type'.\n",
      "  _np_qint8 = np.dtype([(\"qint8\", np.int8, 1)])\n",
      "/mnt/hdd1/lxc-hdd1/tahjid/anaconda3/envs/tf-gpu/lib/python3.6/site-packages/tensorflow/python/framework/dtypes.py:524: FutureWarning: Passing (type, 1) or '1type' as a synonym of type is deprecated; in a future version of numpy, it will be understood as (type, (1,)) / '(1,)type'.\n",
      "  _np_quint8 = np.dtype([(\"quint8\", np.uint8, 1)])\n",
      "/mnt/hdd1/lxc-hdd1/tahjid/anaconda3/envs/tf-gpu/lib/python3.6/site-packages/tensorflow/python/framework/dtypes.py:525: FutureWarning: Passing (type, 1) or '1type' as a synonym of type is deprecated; in a future version of numpy, it will be understood as (type, (1,)) / '(1,)type'.\n",
      "  _np_qint16 = np.dtype([(\"qint16\", np.int16, 1)])\n",
      "/mnt/hdd1/lxc-hdd1/tahjid/anaconda3/envs/tf-gpu/lib/python3.6/site-packages/tensorflow/python/framework/dtypes.py:526: FutureWarning: Passing (type, 1) or '1type' as a synonym of type is deprecated; in a future version of numpy, it will be understood as (type, (1,)) / '(1,)type'.\n",
      "  _np_quint16 = np.dtype([(\"quint16\", np.uint16, 1)])\n",
      "/mnt/hdd1/lxc-hdd1/tahjid/anaconda3/envs/tf-gpu/lib/python3.6/site-packages/tensorflow/python/framework/dtypes.py:527: FutureWarning: Passing (type, 1) or '1type' as a synonym of type is deprecated; in a future version of numpy, it will be understood as (type, (1,)) / '(1,)type'.\n",
      "  _np_qint32 = np.dtype([(\"qint32\", np.int32, 1)])\n",
      "/mnt/hdd1/lxc-hdd1/tahjid/anaconda3/envs/tf-gpu/lib/python3.6/site-packages/tensorflow/python/framework/dtypes.py:532: FutureWarning: Passing (type, 1) or '1type' as a synonym of type is deprecated; in a future version of numpy, it will be understood as (type, (1,)) / '(1,)type'.\n",
      "  np_resource = np.dtype([(\"resource\", np.ubyte, 1)])\n"
     ]
    }
   ],
   "source": [
    "import os\n",
    "import nibabel as nib\n",
    "import numpy as np\n",
    "from scipy.ndimage.interpolation import zoom\n",
    "import scipy as sp\n",
    "from tqdm import tqdm, trange\n",
    "from tqdm.notebook import tqdm_notebook\n",
    "\n",
    "import keras\n",
    "from keras.models import Model, Sequential\n",
    "from keras.layers import Input, Dense, Reshape, Flatten, LeakyReLU, Dropout, Embedding, Concatenate\n",
    "from keras.layers.core import Activation\n",
    "from keras.layers.convolutional import Conv3D, Deconv3D\n",
    "from keras.layers.advanced_activations import LeakyReLU\n",
    "from keras.layers.normalization import BatchNormalization\n",
    "from keras.utils.vis_utils import plot_model\n",
    "from keras.optimizers import Adam\n",
    "\n",
    "\n",
    "def load_nifti(file_path, mask=None, z_factor=None, remove_nan=False):\n",
    "    \"\"\"Load a 3D array from a NIFTI file.\"\"\"\n",
    "    img = nib.load(file_path)\n",
    "    struct_arr = np.array(img.get_fdata())\n",
    "\n",
    "    if remove_nan:\n",
    "        struct_arr = np.nan_to_num(struct_arr)\n",
    "    if mask is not None:\n",
    "        struct_arr *= mask\n",
    "    if z_factor is not None:\n",
    "        struct_arr = np.around(zoom(struct_arr, z_factor), 0)\n",
    "\n",
    "    return struct_arr\n",
    "\n",
    "\n",
    "def save_nifti(file_path, struct_arr):\n",
    "    \"\"\"Save a 3D array to a NIFTI file.\"\"\"\n",
    "    img = nib.Nifti1Image(struct_arr, np.eye(4))\n",
    "    nib.save(img, file_path)"
   ]
  },
  {
   "cell_type": "code",
   "execution_count": 2,
   "metadata": {},
   "outputs": [
    {
     "name": "stderr",
     "output_type": "stream",
     "text": [
      "  0%|          | 0/2 [00:00<?, ?it/s]\n",
      "100%|██████████| 299/299 [00:00<00:00, 2251520.46it/s]\n",
      "\n",
      "100%|██████████| 626/626 [00:00<00:00, 348689.81it/s]\n",
      " 50%|█████     | 1/2 [00:00<00:00,  3.32it/s]\n",
      "100%|██████████| 299/299 [00:00<00:00, 2523333.79it/s]\n",
      "\n",
      "100%|██████████| 714/714 [00:00<00:00, 104171.87it/s]\n",
      "100%|██████████| 2/2 [00:00<00:00,  6.36it/s]\n",
      "100%|██████████| 1170/1170 [00:00<00:00, 138927.49it/s]\n"
     ]
    }
   ],
   "source": [
    "def prepareData(use_smooth = False, runningOnServer = True):\n",
    "    rootDir = 'C:/Users/Eshan/Google Drive UALBERTA/Data/' if not runningOnServer else '/mnt/hdd1/lxc-hdd1/tahjid/PD Data/'\n",
    "    patientList, patientNumbers, dataset = [], [], []\n",
    "    labelMap = dict(Control=0, PD=1)\n",
    "    typeMap = dict(FullScan=0, GrayMatter=1, WhiteMatter=2)\n",
    "    fullScanPath = rootDir + 'FinalData/'\n",
    "    wmgmpath = rootDir + 'FinalDataWMGM/' if not use_smooth else rootDir + 'FinalDataWMGMSmooth/'\n",
    "    prefix = 'mwp' if not use_smooth else 'smwp'\n",
    "    ext = '.nii'\n",
    "    for i in tqdm(['Control', 'PD']):\n",
    "        path = fullScanPath + i + '/'\n",
    "        listOfFiles = [f for f in os.listdir(path) if f.endswith(ext)]\n",
    "        for file in tqdm(listOfFiles):\n",
    "            patientNumbers.append(file[:4])\n",
    "        path = wmgmpath + i + '/'\n",
    "        listOfFiles = [f for f in os.listdir(path) if f.endswith(ext)]\n",
    "        for file in tqdm(listOfFiles):\n",
    "            filename = file[4:8] if not use_smooth else file[5:9]\n",
    "            if filename not in patientNumbers:\n",
    "                continue\n",
    "            if not use_smooth:\n",
    "                patientList.append([i, file[4:8]])\n",
    "            else:\n",
    "                patientList.append([i, file[5:9]])\n",
    "\n",
    "    for i in tqdm(patientList):\n",
    "        path = fullScanPath + i[0] + '/'\n",
    "        patientIdVal = i[1]\n",
    "        fullScanvalue = os.path.join(path + i[1] + ext)\n",
    "        path = wmgmpath + i[0] + '/'\n",
    "        gmval = os.path.join(path + prefix + str(typeMap['GrayMatter']) + i[1] + ext)\n",
    "        wmval = os.path.join(path + prefix + str(typeMap['WhiteMatter']) + i[1] + ext)\n",
    "        labelval = labelMap[i[0]]\n",
    "        dataset.append([patientIdVal,fullScanvalue, gmval, wmval, labelval])\n",
    "    return np.array(dataset)\n",
    "dataset = prepareData()"
   ]
  },
  {
   "cell_type": "code",
   "execution_count": null,
   "metadata": {
    "pycharm": {
     "name": "#%%\n"
    }
   },
   "outputs": [],
   "source": [
    "from sklearn.model_selection import train_test_split\n"
   ]
  },
  {
   "cell_type": "code",
   "execution_count": null,
   "metadata": {
    "pycharm": {
     "name": "#%%\n"
    }
   },
   "outputs": [],
   "source": [
    "x_train, x_test, y_train, y_test = train_test_split(X, y, test_size=.20, random_state=42)\n"
   ]
  },
  {
   "cell_type": "code",
   "execution_count": 24,
   "metadata": {},
   "outputs": [],
   "source": [
    "class DataGenerator(keras.utils.Sequence):\n",
    "    'Generates data for Keras'\n",
    "    def __init__(self, data, labels, batch_size=2, dim1=(91,109,91), dim2=(242,145,121) , n_channels=1,\n",
    "                 n_classes=2, shuffle=True):\n",
    "        'Initialization'\n",
    "        self.dim1 = dim1\n",
    "        self.dim2 = dim2\n",
    "        self.batch_size = batch_size\n",
    "        self.labels = list(labels)\n",
    "        self.data = data\n",
    "        self.n_channels = n_channels\n",
    "        self.n_classes = n_classes\n",
    "        self.shuffle = shuffle\n",
    "        self.list_IDs = list(data[:,:1])\n",
    "        self.on_epoch_end()\n",
    "\n",
    "    def __len__(self):\n",
    "        'Denotes the number of batches per epoch'\n",
    "        return int(np.floor(len(self.list_IDs) / self.batch_size))\n",
    "    \n",
    "    def __numbatches__(self):\n",
    "        return int(np.floor(len(self.list_IDs) / self.__len__()))\n",
    "    \n",
    "    def __getitem__(self, index):\n",
    "        'Generate one batch of data'\n",
    "        # Generate indexes of the batch\n",
    "        indexes = self.indexes[index*self.batch_size:(index+1)*self.batch_size]\n",
    "        # print(indexes)\n",
    "        # Find list of IDs\n",
    "        # list_IDs_temp = [self.list_IDs[k] for k in indexes]\n",
    "\n",
    "        # Generate data\n",
    "        X, y = self.__data_generation(indexes)\n",
    "\n",
    "        return X, y\n",
    "\n",
    "    def on_epoch_end(self):\n",
    "        'Updates indexes after each epoch'\n",
    "        self.indexes = np.arange(len(self.list_IDs))\n",
    "        if self.shuffle:\n",
    "            np.random.shuffle(self.indexes)\n",
    "\n",
    "    def __data_generation(self, indexes):\n",
    "        'Generates data containing batch_size samples' # X : (n_samples, *dim, n_channels)\n",
    "        # Initialization\n",
    "#         fs = np.empty((self.batch_size, *self.dim1, self.n_channels))\n",
    "#         gm = np.empty((self.batch_size, *self.dim2, self.n_channels))\n",
    "#         wm = np.empty((self.batch_size, *self.dim2, self.n_channels))\n",
    "        gmwm = np.empty((self.batch_size, *self.dim2, self.n_channels))\n",
    "        y = np.empty((self.batch_size), dtype=int)\n",
    "\n",
    "        # Generate data\n",
    "        for i, count in enumerate(indexes):\n",
    "            val = self.data[count]\n",
    "#             fullscan = load_nifti(val[1])\n",
    "            graymatter = load_nifti(val[2])\n",
    "            whitematter = load_nifti(val[3])\n",
    "            # print(fullscan.shape, graymatter.shape, whitematter.shape)\n",
    "            # break\n",
    "            # Store sample\n",
    "#             fs[i,] = fullscan[..., np.newaxis]\n",
    "#             gm[i,] = graymatter[..., np.newaxis]\n",
    "#             wm[i,] = whitematter[..., np.newaxis]\n",
    "#             print(graymatter.shape)\n",
    "#             print(whitematter.shape)\n",
    "            gmwm[i,] = np.concatenate((graymatter, whitematter))[..., np.newaxis]\n",
    "\n",
    "\n",
    "            # Store class\n",
    "            y[i] = self.labels[i]\n",
    "\n",
    "        return gmwm, y #keras.utils.to_categorical(y, num_classes=self.n_classes)\n",
    "    "
   ]
  },
  {
   "cell_type": "code",
   "execution_count": 20,
   "metadata": {},
   "outputs": [],
   "source": [
    "X = dataset[:,:4]\n",
    "y = dataset[:,4:]\n",
    "d = DataGenerator(X, y)\n"
   ]
  },
  {
   "cell_type": "code",
   "execution_count": null,
   "metadata": {},
   "outputs": [],
   "source": [
    "d.__numbatches__()"
   ]
  },
  {
   "cell_type": "code",
   "execution_count": 21,
   "metadata": {
    "pycharm": {
     "name": "#%%\n"
    },
    "scrolled": false
   },
   "outputs": [],
   "source": [
    "a = d.__getitem__(0)\n",
    "# b = np.concatenate((a[1][0].reshape(121,145,121), a[1][0].reshape(121,145,121)), axis=0)"
   ]
  },
  {
   "cell_type": "code",
   "execution_count": 23,
   "metadata": {},
   "outputs": [
    {
     "data": {
      "text/plain": [
       "(2, 242, 145, 121, 1)"
      ]
     },
     "execution_count": 23,
     "metadata": {},
     "output_type": "execute_result"
    }
   ],
   "source": [
    "a[0].shape"
   ]
  },
  {
   "cell_type": "code",
   "execution_count": 6,
   "metadata": {
    "pycharm": {
     "name": "#%%\n"
    }
   },
   "outputs": [],
   "source": [
    "def gen(phase_train=True, n_classes = 2 ,params={'z_size':500, 'strides':(11,5,11), 'kernel_size':(22,29,11)}):\n",
    "    \"\"\"\n",
    "    Returns a Generator Model with input params and phase_train\n",
    "    Args:\n",
    "        phase_train (boolean): training phase or not\n",
    "        params (dict): Dictionary with model parameters\n",
    "    Returns:\n",
    "        model (keras.Model): Keras Generator model\n",
    "    \"\"\"\n",
    "\n",
    "    z_size = params['z_size']\n",
    "    strides = params['strides']\n",
    "    kernel_size = params['kernel_size']\n",
    "    \n",
    "    in_label = Input(shape=(1,))\n",
    "    li = Embedding(n_classes, 50)(in_label)\n",
    "    li = Dense(z_size)(li)\n",
    "    li = Reshape((1,1,1,z_size))(li)\n",
    "    \n",
    "    \n",
    "    inputs = Input(shape=(1, 1, 1, z_size))\n",
    "    \n",
    "    \n",
    "    merge_inputs = Concatenate()([inputs, li])\n",
    "    \n",
    "    g1 = Deconv3D(filters=1024, kernel_size=kernel_size,\n",
    "                  strides=(1, 1, 1), kernel_initializer='glorot_normal',\n",
    "                  bias_initializer='zeros', padding='valid')(merge_inputs)\n",
    "    g1 = BatchNormalization()(g1, training=phase_train)\n",
    "    g1 = Activation(activation='relu')(g1)\n",
    "\n",
    "    g2 = Deconv3D(filters=512, kernel_size=kernel_size,\n",
    "                  strides=strides, kernel_initializer='glorot_normal',\n",
    "                  bias_initializer='zeros', padding='same')(g1)\n",
    "    g2 = BatchNormalization()(g2, training=phase_train)\n",
    "    g2 = Activation(activation='relu')(g2)\n",
    "\n",
    "    g3 = Deconv3D(filters=264, kernel_size=kernel_size,\n",
    "                  strides=(1, 1, 1), kernel_initializer='glorot_normal',\n",
    "                  bias_initializer='zeros', padding='same')(g2)\n",
    "    g3 = BatchNormalization()(g3, training=phase_train)\n",
    "    g3 = Activation(activation='relu')(g3)\n",
    "\n",
    "    g4 = Deconv3D(filters=128, kernel_size=kernel_size,\n",
    "                  strides=(1, 1, 1), kernel_initializer='glorot_normal',\n",
    "                  bias_initializer='zeros', padding='same')(g3)\n",
    "    g4 = BatchNormalization()(g4, training=phase_train)\n",
    "    g4 = Activation(activation='relu')(g4)\n",
    "\n",
    "    g5 = Deconv3D(filters=1, kernel_size=kernel_size,\n",
    "                  strides=(1, 1, 1), kernel_initializer='glorot_normal',\n",
    "                  bias_initializer='zeros', padding='same')(g4)\n",
    "    g5 = BatchNormalization()(g5, training=phase_train)\n",
    "    g5 = Activation(activation='sigmoid')(g5)\n",
    "\n",
    "    model = Model(inputs=[inputs, in_label], outputs=g5)\n",
    "#     model.summary()\n",
    "\n",
    "    return model"
   ]
  },
  {
   "cell_type": "code",
   "execution_count": null,
   "metadata": {
    "pycharm": {
     "name": "#%%\n"
    },
    "scrolled": true
   },
   "outputs": [],
   "source": [
    "model = generator()\n",
    "# model.summary()\n",
    "# plt.show()\n",
    "plot_model(model, to_file = \"generator_plot.png\", show_shapes = True, show_layer_names = True)\n",
    "# "
   ]
  },
  {
   "cell_type": "code",
   "execution_count": 40,
   "metadata": {},
   "outputs": [],
   "source": [
    "def dis(phase_train = True, n_classes = 2, params={'cube_len':64, 'strides':(11,5,11), 'kernel_size':(22,29,11), 'leak_value':0.2}):\n",
    "    \"\"\"\n",
    "    Returns a Discriminator Model with input params and phase_train \n",
    "    Args:\n",
    "        phase_train (boolean): training phase or not\n",
    "        params (dict): Dictionary with model parameters    \n",
    "    Returns:\n",
    "        model (keras.Model): Keras Discriminator model\n",
    "    \"\"\"\n",
    "    cube_len = params['cube_len']\n",
    "    strides = params['strides']\n",
    "    kernel_size = params['kernel_size'] \n",
    "    leak_value = params['leak_value']\n",
    "    \n",
    "    in_label = Input(shape=(1,))\n",
    "    li = Embedding(n_classes, 50)(in_label)\n",
    "    n_nodes = 242 * 145 * 121\n",
    "    li = Dense(n_nodes)(li)\n",
    "    li = Reshape((242, 145, 121, 1))(li)\n",
    "    \n",
    "    inputs = Input(shape=(242, 145, 121, 1))\n",
    "    \n",
    "    merge_inputs = Concatenate()([inputs, li])\n",
    "    \n",
    "    d1 = Conv3D(filters=128, kernel_size=kernel_size,\n",
    "                  strides=strides, kernel_initializer='glorot_normal',\n",
    "                  bias_initializer='zeros', padding='same')(merge_inputs)\n",
    "    d1 = BatchNormalization()(d1, training=phase_train)\n",
    "    d1 = LeakyReLU(leak_value)(d1)\n",
    "\n",
    "    d2 = Conv3D(filters=256, kernel_size=kernel_size,\n",
    "                  strides=strides, kernel_initializer='glorot_normal',\n",
    "                  bias_initializer='zeros', padding='same')(d1)\n",
    "    d2 = BatchNormalization()(d2, training=phase_train)\n",
    "    d2 = LeakyReLU(leak_value)(d2)\n",
    "\n",
    "    d3 = Conv3D(filters=512, kernel_size=kernel_size,\n",
    "                  strides=strides, kernel_initializer='glorot_normal',\n",
    "                  bias_initializer='zeros', padding='same')(d2)\n",
    "    d3 = BatchNormalization()(d3, training=phase_train)\n",
    "    d3 = LeakyReLU(leak_value)(d3)\n",
    "\n",
    "    d4 = Conv3D(filters=1024, kernel_size=kernel_size,\n",
    "                  strides=strides, kernel_initializer='glorot_normal',\n",
    "                  bias_initializer='zeros', padding='same')(d3)\n",
    "    d4 = BatchNormalization()(d4, training=phase_train)\n",
    "    d4 = LeakyReLU(leak_value)(d4)\n",
    "\n",
    "    d5 = Conv3D(filters=1, kernel_size=(1,1,1),\n",
    "                  strides=(1, 1, 1), kernel_initializer='glorot_normal',\n",
    "                  bias_initializer='zeros', padding='valid')(d4)\n",
    "    d5 = BatchNormalization()(d5, training=phase_train)\n",
    "    d5 = Activation(activation='sigmoid')(d5) \n",
    "    \n",
    "    d6 = Flatten()(d5)\n",
    "    d6 = Dropout(0.4)(d6)\n",
    "    d6 = Dense(1, activation='sigmoid')(d6)\n",
    "    model = Model(inputs=[inputs, in_label], outputs=d6)\n",
    "#     model.summary()\n",
    "\n",
    "    return model"
   ]
  },
  {
   "cell_type": "code",
   "execution_count": null,
   "metadata": {},
   "outputs": [],
   "source": [
    "dis = discriminator()\n",
    "plot_model(dis, to_file = \"discriminator_plot.png\", show_shapes = True, show_layer_names = True)"
   ]
  },
  {
   "cell_type": "code",
   "execution_count": 38,
   "metadata": {},
   "outputs": [],
   "source": [
    "def GAN(generator, discriminator):\n",
    "#     model = Sequential()\n",
    "#     model.add(generator)\n",
    "#     discriminator.trainable = False\n",
    "#     model.add(discriminator)\n",
    "\n",
    "    discriminator.trainable = False\n",
    "    g_image, g_label = generator.input\n",
    "    g_output = generator.output\n",
    "    gan_output = discriminator([g_output, g_label])\n",
    "    model = Model([g_image, g_label], gan_output)\n",
    "    model.summary()\n",
    "    return model"
   ]
  },
  {
   "cell_type": "code",
   "execution_count": 35,
   "metadata": {},
   "outputs": [
    {
     "data": {
      "text/plain": [
       "array([[1.],\n",
       "       [1.],\n",
       "       [1.],\n",
       "       [1.],\n",
       "       [1.]])"
      ]
     },
     "execution_count": 35,
     "metadata": {},
     "output_type": "execute_result"
    }
   ],
   "source": [
    "# bs = 5\n",
    "# np.reshape([1]*bs, (5,))\n",
    "np.ones((5,1))"
   ]
  },
  {
   "cell_type": "code",
   "execution_count": null,
   "metadata": {},
   "outputs": [
    {
     "name": "stdout",
     "output_type": "stream",
     "text": [
      "__________________________________________________________________________________________________\n",
      "Layer (type)                    Output Shape         Param #     Connected to                     \n",
      "==================================================================================================\n",
      "input_50 (InputLayer)           (None, 1)            0                                            \n",
      "__________________________________________________________________________________________________\n",
      "embedding_26 (Embedding)        (None, 1, 50)        100         input_50[0][0]                   \n",
      "__________________________________________________________________________________________________\n",
      "dense_38 (Dense)                (None, 1, 500)       25500       embedding_26[0][0]               \n",
      "__________________________________________________________________________________________________\n",
      "input_51 (InputLayer)           (None, 1, 1, 1, 500) 0                                            \n",
      "__________________________________________________________________________________________________\n",
      "reshape_26 (Reshape)            (None, 1, 1, 1, 500) 0           dense_38[0][0]                   \n",
      "__________________________________________________________________________________________________\n",
      "concatenate_25 (Concatenate)    (None, 1, 1, 1, 1000 0           input_51[0][0]                   \n",
      "                                                                 reshape_26[0][0]                 \n",
      "__________________________________________________________________________________________________\n",
      "conv3d_transpose_56 (Conv3DTran (None, 22, 29, 11, 1 7186433024  concatenate_25[0][0]             \n",
      "__________________________________________________________________________________________________\n",
      "batch_normalization_119 (BatchN (None, 22, 29, 11, 1 4096        conv3d_transpose_56[0][0]        \n",
      "__________________________________________________________________________________________________\n",
      "activation_68 (Activation)      (None, 22, 29, 11, 1 0           batch_normalization_119[0][0]    \n",
      "__________________________________________________________________________________________________\n",
      "conv3d_transpose_57 (Conv3DTran (None, 242, 145, 121 3679453696  activation_68[0][0]              \n",
      "__________________________________________________________________________________________________\n",
      "batch_normalization_120 (BatchN (None, 242, 145, 121 2048        conv3d_transpose_57[0][0]        \n",
      "__________________________________________________________________________________________________\n",
      "activation_69 (Activation)      (None, 242, 145, 121 0           batch_normalization_120[0][0]    \n",
      "__________________________________________________________________________________________________\n",
      "conv3d_transpose_58 (Conv3DTran (None, 242, 145, 121 948609288   activation_69[0][0]              \n",
      "__________________________________________________________________________________________________\n",
      "batch_normalization_121 (BatchN (None, 242, 145, 121 1056        conv3d_transpose_58[0][0]        \n",
      "__________________________________________________________________________________________________\n",
      "activation_70 (Activation)      (None, 242, 145, 121 0           batch_normalization_121[0][0]    \n",
      "__________________________________________________________________________________________________\n",
      "conv3d_transpose_59 (Conv3DTran (None, 242, 145, 121 237152384   activation_70[0][0]              \n",
      "__________________________________________________________________________________________________\n",
      "batch_normalization_122 (BatchN (None, 242, 145, 121 512         conv3d_transpose_59[0][0]        \n",
      "__________________________________________________________________________________________________\n",
      "activation_71 (Activation)      (None, 242, 145, 121 0           batch_normalization_122[0][0]    \n",
      "__________________________________________________________________________________________________\n",
      "conv3d_transpose_60 (Conv3DTran (None, 242, 145, 121 898305      activation_71[0][0]              \n",
      "__________________________________________________________________________________________________\n",
      "batch_normalization_123 (BatchN (None, 242, 145, 121 4           conv3d_transpose_60[0][0]        \n",
      "__________________________________________________________________________________________________\n",
      "activation_72 (Activation)      (None, 242, 145, 121 0           batch_normalization_123[0][0]    \n",
      "__________________________________________________________________________________________________\n",
      "model_34 (Model)                (None, 1)            5047630033  activation_72[0][0]              \n",
      "                                                                 input_50[0][0]                   \n",
      "==================================================================================================\n",
      "Total params: 17,100,210,046\n",
      "Trainable params: 12,052,576,155\n",
      "Non-trainable params: 5,047,633,891\n",
      "__________________________________________________________________________________________________\n"
     ]
    },
    {
     "name": "stderr",
     "output_type": "stream",
     "text": [
      "  0%|          | 0/1 [00:00<?, ?it/s]\n",
      "  0%|          | 0/30 [00:00<?, ?it/s]\u001b[A"
     ]
    },
    {
     "name": "stdout",
     "output_type": "stream",
     "text": [
      "Data loaded .......\n"
     ]
    }
   ],
   "source": [
    "def train():\n",
    "    n_epochs   = 10000\n",
    "    batch_size = 30\n",
    "    g_lr       = 0.008\n",
    "    d_lr       = 0.000001\n",
    "    beta       = 0.5\n",
    "    z_size     = 500\n",
    "    obj_ratio  = 0.5\n",
    "    discriminator = dis()\n",
    "    generator = gen()\n",
    "    discriminator_on_generator = GAN(generator, discriminator)\n",
    "\n",
    "    g_optim = Adam(lr=g_lr, beta_1=beta)\n",
    "    generator.compile(loss='binary_crossentropy', optimizer=\"SGD\")\n",
    "\n",
    "    d_optim = Adam(lr=d_lr, beta_1=0.9)\n",
    "    discriminator_on_generator.compile(loss='binary_crossentropy', optimizer=g_optim)\n",
    "    discriminator.trainable = True\n",
    "    discriminator.compile(loss='binary_crossentropy', optimizer=d_optim)\n",
    "  \n",
    "     \n",
    "    z_sample = np.random.normal(0, 0.33, size=[batch_size, 1, 1, 1, z_size]).astype(np.float32)\n",
    "#     volumes = d.getAll(obj=obj, train=True, is_local=is_local, obj_ratio=obj_ratio)\n",
    "    X = dataset[:,:4]\n",
    "    y = dataset[:,4:]\n",
    "    dataloader = DataGenerator(X, y, batch_size = batch_size)\n",
    "    print('Data loaded .......')\n",
    "#     volumes = volu/mes[...,np.newaxis].astype(np.float) \n",
    "\n",
    "#     if not os.path.exists(train_sample_directory):\n",
    "#         os.makedirs(train_sample_directory)\n",
    "#     if not os.path.exists(model_directory):\n",
    "#         os.makedirs(model_directory)         \n",
    "\n",
    "    for epoch in trange(1):\n",
    "        for batch in trange(dataloader.__numbatches__()):\n",
    "            batchdata = dataloader.__getitem__(batch)\n",
    "#             print(batchdata[0].shape)\n",
    "#             idx = np.random.randint(len(volumes), size=batch_size)\n",
    "#             x = volumes[idx]\n",
    "            z = np.random.normal(0, 0.33, size=[batch_size, 1, 1, 1, z_size]).astype(np.float32)\n",
    "            scans = batchdata[0]\n",
    "            labels = batchdata[1]\n",
    "\n",
    "#             generated_volumes = generator.predict(z, verbose=0)\n",
    "\n",
    "#             X = np.concatenate((x, generated_volumes))\n",
    "#             Y = np.reshape(labels + [0]*batch_size, (batch_size,))\n",
    "            \n",
    "            d_loss = discriminator.train_on_batch([scans, labels], np.ones((batch_size, 1)))       \n",
    "            print(\"d_loss : %f\" % (d_loss))\n",
    "\n",
    "#             z = np.random.normal(0, 0.33, size=[batch_size, 1, 1, 1, z_size]).astype(np.float32)            \n",
    "#             discriminator.trainable = False\n",
    "#             g_loss = discriminator_on_generator.train_on_batch(z, np.reshape([1]*batch_size, (-1,1,1,1,1)))\n",
    "#             discriminator.trainable = True\n",
    "\n",
    "#             print(\"g_loss : %f\" % (g_loss))\n",
    "\n",
    "#             if epoch % 1000 == 10:\n",
    "#                 generator.save_weights(model_directory +'generator_' + str(epoch), True)\n",
    "#                 discriminator.save_weights(model_directory +'discriminator_' + str(epoch), True)\n",
    "\n",
    "#             if epoch % 500 == 10:\n",
    "#                 generated_volumes = generator.predict(z_sample, verbose=0)\n",
    "#                 generated_volumes.dump(train_sample_directory+'/'+str(epoch))  \n",
    "train()        "
   ]
  },
  {
   "cell_type": "code",
   "execution_count": null,
   "metadata": {},
   "outputs": [],
   "source": [
    "dataloader = DataGenerator(X, y)"
   ]
  },
  {
   "cell_type": "code",
   "execution_count": null,
   "metadata": {},
   "outputs": [],
   "source": [
    "x, y = dataloader.__getitem__(0)"
   ]
  },
  {
   "cell_type": "code",
   "execution_count": null,
   "metadata": {},
   "outputs": [],
   "source": [
    "x.shape"
   ]
  }
 ],
 "metadata": {
  "kernelspec": {
   "display_name": "Python 3",
   "language": "python",
   "name": "python3"
  },
  "language_info": {
   "codemirror_mode": {
    "name": "ipython",
    "version": 3
   },
   "file_extension": ".py",
   "mimetype": "text/x-python",
   "name": "python",
   "nbconvert_exporter": "python",
   "pygments_lexer": "ipython3",
   "version": "3.6.12"
  }
 },
 "nbformat": 4,
 "nbformat_minor": 4
}
