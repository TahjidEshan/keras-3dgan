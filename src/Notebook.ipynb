{
 "cells": [
  {
   "cell_type": "code",
   "execution_count": 1,
   "metadata": {},
   "outputs": [
    {
     "name": "stderr",
     "output_type": "stream",
     "text": [
      "Using TensorFlow backend.\n"
     ]
    }
   ],
   "source": [
    "import os\n",
    "import nibabel as nib\n",
    "import numpy as np\n",
    "from scipy.ndimage.interpolation import zoom\n",
    "import scipy as sp\n",
    "from tqdm.notebook import tqdm_notebook\n",
    "\n",
    "import keras\n",
    "\n",
    "\n",
    "def load_nifti(file_path, mask=None, z_factor=None, remove_nan=False):\n",
    "    \"\"\"Load a 3D array from a NIFTI file.\"\"\"\n",
    "    img = nib.load(file_path)\n",
    "    struct_arr = np.array(img.get_data())\n",
    "\n",
    "    if remove_nan:\n",
    "        struct_arr = np.nan_to_num(struct_arr)\n",
    "    if mask is not None:\n",
    "        struct_arr *= mask\n",
    "    if z_factor is not None:\n",
    "        struct_arr = np.around(zoom(struct_arr, z_factor), 0)\n",
    "\n",
    "    return struct_arr\n",
    "\n",
    "\n",
    "def save_nifti(file_path, struct_arr):\n",
    "    \"\"\"Save a 3D array to a NIFTI file.\"\"\"\n",
    "    img = nib.Nifti1Image(struct_arr, np.eye(4))\n",
    "    nib.save(img, file_path)\n",
    "    \n",
    "\n",
    "\n"
   ]
  },
  {
   "cell_type": "code",
   "execution_count": 2,
   "metadata": {},
   "outputs": [],
   "source": [
    "def prepareData(use_smooth = False, runningOnServer = False):\n",
    "    rootDir = 'C:/Users/Eshan/Google Drive UALBERTA/Data/' if not runningOnServer else '/mnt/hdd1/lxc-hdd1/tahjid/PD Data/'\n",
    "    patientList, patientNumbers, dataset = [], [], []\n",
    "    labelMap = dict(Control=0, PD=1)\n",
    "    typeMap = dict(FullScan=0, GrayMatter=1, WhiteMatter=2)\n",
    "    fullScanPath = rootDir + 'FinalData/'\n",
    "    wmgmpath = rootDir + 'FinalDataWMGM/' if not use_smooth else rootDir + 'FinalDataWMGMSmooth/'\n",
    "    prefix = 'mwp' if not use_smooth else 'smwp'\n",
    "    ext = '.nii'\n",
    "    for i in ['Control', 'PD']:\n",
    "        path = fullScanPath + i + '/'\n",
    "        listOfFiles = [f for f in os.listdir(path) if f.endswith(ext)]\n",
    "        for file in listOfFiles:\n",
    "            patientNumbers.append(file[:4])\n",
    "        path = wmgmpath + i + '/'\n",
    "        listOfFiles = [f for f in os.listdir(path) if f.endswith(ext)]\n",
    "        for file in listOfFiles:\n",
    "            filename = file[4:8] if not use_smooth else file[5:9]\n",
    "            if filename not in patientNumbers:\n",
    "                continue\n",
    "            if not use_smooth:\n",
    "                patientList.append([i, file[4:8]])\n",
    "            else:\n",
    "                patientList.append([i, file[5:9]])\n",
    "\n",
    "    for i in patientList:\n",
    "        path = fullScanPath + i[0] + '/'\n",
    "        patientIdVal = i[1]\n",
    "        fullScanvalue = os.path.join(path + i[1] + ext)\n",
    "        path = wmgmpath + i[0] + '/'\n",
    "        gmval = os.path.join(path + prefix + str(typeMap['GrayMatter']) + i[1] + ext)\n",
    "        wmval = os.path.join(path + prefix + str(typeMap['WhiteMatter']) + i[1] + ext)\n",
    "        labelval = labelMap[i[0]]\n",
    "        dataset.append([patientIdVal,fullScanvalue, gmval, wmval, labelval])\n",
    "    return np.array(dataset)\n",
    "dataset = prepareData()"
   ]
  },
  {
   "cell_type": "code",
   "execution_count": 10,
   "outputs": [],
   "source": [
    "from sklearn.model_selection import train_test_split\n",
    "X = dataset[:,:4]\n",
    "y = dataset[:,4:]"
   ],
   "metadata": {
    "collapsed": false,
    "pycharm": {
     "name": "#%%\n"
    }
   }
  },
  {
   "cell_type": "code",
   "execution_count": 11,
   "outputs": [],
   "source": [
    "x_train, x_test, y_train, y_test = train_test_split(X, y, test_size=.20, random_state=42)\n"
   ],
   "metadata": {
    "collapsed": false,
    "pycharm": {
     "name": "#%%\n"
    }
   }
  },
  {
   "cell_type": "code",
   "execution_count": 17,
   "outputs": [
    {
     "data": {
      "text/plain": "array([['3004'],\n       ['3011'],\n       ['3013'],\n       ...,\n       ['4117'],\n       ['4135'],\n       ['4136']], dtype='<U76')"
     },
     "execution_count": 17,
     "metadata": {},
     "output_type": "execute_result"
    }
   ],
   "source": [
    "dataset[:,:1]"
   ],
   "metadata": {
    "collapsed": false,
    "pycharm": {
     "name": "#%%\n"
    }
   }
  },
  {
   "cell_type": "code",
   "execution_count": 58,
   "metadata": {},
   "outputs": [],
   "source": [
    "class DataGenerator(keras.utils.Sequence):\n",
    "    'Generates data for Keras'\n",
    "    def __init__(self, data, labels, batch_size=2, dim1=(91,109,91), dim2=(121,145,121) , n_channels=1,\n",
    "                 n_classes=2, shuffle=True):\n",
    "        'Initialization'\n",
    "        self.dim1 = dim1\n",
    "        self.dim2 = dim2\n",
    "        self.batch_size = batch_size\n",
    "        self.labels = list(labels)\n",
    "        self.data = data\n",
    "        self.n_channels = n_channels\n",
    "        self.n_classes = n_classes\n",
    "        self.shuffle = shuffle\n",
    "        self.list_IDs = list(data[:,:1])\n",
    "        self.on_epoch_end()\n",
    "\n",
    "    def __len__(self):\n",
    "        'Denotes the number of batches per epoch'\n",
    "        return int(np.floor(len(self.list_IDs) / self.batch_size))\n",
    "\n",
    "    def __getitem__(self, index):\n",
    "        'Generate one batch of data'\n",
    "        # Generate indexes of the batch\n",
    "        indexes = self.indexes[index*self.batch_size:(index+1)*self.batch_size]\n",
    "        # print(indexes)\n",
    "        # Find list of IDs\n",
    "        # list_IDs_temp = [self.list_IDs[k] for k in indexes]\n",
    "\n",
    "        # Generate data\n",
    "        fs, gm, wm, y = self.__data_generation(indexes)\n",
    "\n",
    "        return fs, gm, wm, y\n",
    "\n",
    "    def on_epoch_end(self):\n",
    "        'Updates indexes after each epoch'\n",
    "        self.indexes = np.arange(len(self.list_IDs))\n",
    "        if self.shuffle:\n",
    "            np.random.shuffle(self.indexes)\n",
    "\n",
    "    def __data_generation(self, indexes):\n",
    "        'Generates data containing batch_size samples' # X : (n_samples, *dim, n_channels)\n",
    "        # Initialization\n",
    "        fs = np.empty((self.batch_size, *self.dim1, self.n_channels))\n",
    "        gm = np.empty((self.batch_size, *self.dim2, self.n_channels))\n",
    "        wm = np.empty((self.batch_size, *self.dim2, self.n_channels))\n",
    "        y = np.empty((self.batch_size), dtype=int)\n",
    "\n",
    "        # Generate data\n",
    "        for i, count in enumerate(indexes):\n",
    "            val = self.data[count]\n",
    "            fullscan = load_nifti(val[1])\n",
    "            graymatter = load_nifti(val[2])\n",
    "            whitematter = load_nifti(val[3])\n",
    "            # print(fullscan.shape, graymatter.shape, whitematter.shape)\n",
    "            # break\n",
    "            # Store sample\n",
    "            fs[i,] = fullscan[..., np.newaxis]\n",
    "            gm[i,] = graymatter[..., np.newaxis]\n",
    "            wm[i,] = whitematter[..., np.newaxis]\n",
    "\n",
    "\n",
    "            # Store class\n",
    "            y[i] = self.labels[i]\n",
    "\n",
    "        return fs, gm, wm, keras.utils.to_categorical(y, num_classes=self.n_classes)\n",
    "    "
   ]
  },
  {
   "cell_type": "code",
   "execution_count": 59,
   "metadata": {},
   "outputs": [],
   "source": [
    "d = DataGenerator(x_train, y_train)\n"
   ]
  },
  {
   "cell_type": "code",
   "execution_count": 60,
   "outputs": [
    {
     "name": "stdout",
     "output_type": "stream",
     "text": [
      "[783 131]\n"
     ]
    },
    {
     "name": "stderr",
     "output_type": "stream",
     "text": [
      "C:\\Users\\Eshan\\anaconda3\\envs\\tf-gpu\\lib\\site-packages\\ipykernel_launcher.py:14: DeprecationWarning: get_data() is deprecated in favor of get_fdata(), which has a more predictable return type. To obtain get_data() behavior going forward, use numpy.asanyarray(img.dataobj).\n",
      "\n",
      "* deprecated from version: 3.0\n",
      "* Will raise <class 'nibabel.deprecator.ExpiredDeprecationError'> as of version: 5.0\n",
      "  \n",
      "C:\\Users\\Eshan\\anaconda3\\envs\\tf-gpu\\lib\\site-packages\\ipykernel_launcher.py:14: DeprecationWarning: get_data() is deprecated in favor of get_fdata(), which has a more predictable return type. To obtain get_data() behavior going forward, use numpy.asanyarray(img.dataobj).\n",
      "\n",
      "* deprecated from version: 3.0\n",
      "* Will raise <class 'nibabel.deprecator.ExpiredDeprecationError'> as of version: 5.0\n",
      "  \n",
      "C:\\Users\\Eshan\\anaconda3\\envs\\tf-gpu\\lib\\site-packages\\ipykernel_launcher.py:14: DeprecationWarning: get_data() is deprecated in favor of get_fdata(), which has a more predictable return type. To obtain get_data() behavior going forward, use numpy.asanyarray(img.dataobj).\n",
      "\n",
      "* deprecated from version: 3.0\n",
      "* Will raise <class 'nibabel.deprecator.ExpiredDeprecationError'> as of version: 5.0\n",
      "  \n",
      "C:\\Users\\Eshan\\anaconda3\\envs\\tf-gpu\\lib\\site-packages\\ipykernel_launcher.py:14: DeprecationWarning: get_data() is deprecated in favor of get_fdata(), which has a more predictable return type. To obtain get_data() behavior going forward, use numpy.asanyarray(img.dataobj).\n",
      "\n",
      "* deprecated from version: 3.0\n",
      "* Will raise <class 'nibabel.deprecator.ExpiredDeprecationError'> as of version: 5.0\n",
      "  \n"
     ]
    },
    {
     "data": {
      "text/plain": "(array([[[[[0.],\n           [0.],\n           [0.],\n           ...,\n           [0.],\n           [0.],\n           [0.]],\n \n          [[0.],\n           [0.],\n           [0.],\n           ...,\n           [0.],\n           [0.],\n           [0.]],\n \n          [[0.],\n           [0.],\n           [0.],\n           ...,\n           [0.],\n           [0.],\n           [0.]],\n \n          ...,\n \n          [[0.],\n           [0.],\n           [0.],\n           ...,\n           [0.],\n           [0.],\n           [0.]],\n \n          [[0.],\n           [0.],\n           [0.],\n           ...,\n           [0.],\n           [0.],\n           [0.]],\n \n          [[0.],\n           [0.],\n           [0.],\n           ...,\n           [0.],\n           [0.],\n           [0.]]],\n \n \n         [[[0.],\n           [0.],\n           [0.],\n           ...,\n           [0.],\n           [0.],\n           [0.]],\n \n          [[0.],\n           [0.],\n           [0.],\n           ...,\n           [0.],\n           [0.],\n           [0.]],\n \n          [[0.],\n           [0.],\n           [0.],\n           ...,\n           [0.],\n           [0.],\n           [0.]],\n \n          ...,\n \n          [[0.],\n           [0.],\n           [0.],\n           ...,\n           [0.],\n           [0.],\n           [0.]],\n \n          [[0.],\n           [0.],\n           [0.],\n           ...,\n           [0.],\n           [0.],\n           [0.]],\n \n          [[0.],\n           [0.],\n           [0.],\n           ...,\n           [0.],\n           [0.],\n           [0.]]],\n \n \n         [[[0.],\n           [0.],\n           [0.],\n           ...,\n           [0.],\n           [0.],\n           [0.]],\n \n          [[0.],\n           [0.],\n           [0.],\n           ...,\n           [0.],\n           [0.],\n           [0.]],\n \n          [[0.],\n           [0.],\n           [0.],\n           ...,\n           [0.],\n           [0.],\n           [0.]],\n \n          ...,\n \n          [[0.],\n           [0.],\n           [0.],\n           ...,\n           [0.],\n           [0.],\n           [0.]],\n \n          [[0.],\n           [0.],\n           [0.],\n           ...,\n           [0.],\n           [0.],\n           [0.]],\n \n          [[0.],\n           [0.],\n           [0.],\n           ...,\n           [0.],\n           [0.],\n           [0.]]],\n \n \n         ...,\n \n \n         [[[0.],\n           [0.],\n           [0.],\n           ...,\n           [0.],\n           [0.],\n           [0.]],\n \n          [[0.],\n           [0.],\n           [0.],\n           ...,\n           [0.],\n           [0.],\n           [0.]],\n \n          [[0.],\n           [0.],\n           [0.],\n           ...,\n           [0.],\n           [0.],\n           [0.]],\n \n          ...,\n \n          [[0.],\n           [0.],\n           [0.],\n           ...,\n           [0.],\n           [0.],\n           [0.]],\n \n          [[0.],\n           [0.],\n           [0.],\n           ...,\n           [0.],\n           [0.],\n           [0.]],\n \n          [[0.],\n           [0.],\n           [0.],\n           ...,\n           [0.],\n           [0.],\n           [0.]]],\n \n \n         [[[0.],\n           [0.],\n           [0.],\n           ...,\n           [0.],\n           [0.],\n           [0.]],\n \n          [[0.],\n           [0.],\n           [0.],\n           ...,\n           [0.],\n           [0.],\n           [0.]],\n \n          [[0.],\n           [0.],\n           [0.],\n           ...,\n           [0.],\n           [0.],\n           [0.]],\n \n          ...,\n \n          [[0.],\n           [0.],\n           [0.],\n           ...,\n           [0.],\n           [0.],\n           [0.]],\n \n          [[0.],\n           [0.],\n           [0.],\n           ...,\n           [0.],\n           [0.],\n           [0.]],\n \n          [[0.],\n           [0.],\n           [0.],\n           ...,\n           [0.],\n           [0.],\n           [0.]]],\n \n \n         [[[0.],\n           [0.],\n           [0.],\n           ...,\n           [0.],\n           [0.],\n           [0.]],\n \n          [[0.],\n           [0.],\n           [0.],\n           ...,\n           [0.],\n           [0.],\n           [0.]],\n \n          [[0.],\n           [0.],\n           [0.],\n           ...,\n           [0.],\n           [0.],\n           [0.]],\n \n          ...,\n \n          [[0.],\n           [0.],\n           [0.],\n           ...,\n           [0.],\n           [0.],\n           [0.]],\n \n          [[0.],\n           [0.],\n           [0.],\n           ...,\n           [0.],\n           [0.],\n           [0.]],\n \n          [[0.],\n           [0.],\n           [0.],\n           ...,\n           [0.],\n           [0.],\n           [0.]]]],\n \n \n \n        [[[[0.],\n           [0.],\n           [0.],\n           ...,\n           [0.],\n           [0.],\n           [0.]],\n \n          [[0.],\n           [0.],\n           [0.],\n           ...,\n           [0.],\n           [0.],\n           [0.]],\n \n          [[0.],\n           [0.],\n           [0.],\n           ...,\n           [0.],\n           [0.],\n           [0.]],\n \n          ...,\n \n          [[0.],\n           [0.],\n           [0.],\n           ...,\n           [0.],\n           [0.],\n           [0.]],\n \n          [[0.],\n           [0.],\n           [0.],\n           ...,\n           [0.],\n           [0.],\n           [0.]],\n \n          [[0.],\n           [0.],\n           [0.],\n           ...,\n           [0.],\n           [0.],\n           [0.]]],\n \n \n         [[[0.],\n           [0.],\n           [0.],\n           ...,\n           [0.],\n           [0.],\n           [0.]],\n \n          [[0.],\n           [0.],\n           [0.],\n           ...,\n           [0.],\n           [0.],\n           [0.]],\n \n          [[0.],\n           [0.],\n           [0.],\n           ...,\n           [0.],\n           [0.],\n           [0.]],\n \n          ...,\n \n          [[0.],\n           [0.],\n           [0.],\n           ...,\n           [0.],\n           [0.],\n           [0.]],\n \n          [[0.],\n           [0.],\n           [0.],\n           ...,\n           [0.],\n           [0.],\n           [0.]],\n \n          [[0.],\n           [0.],\n           [0.],\n           ...,\n           [0.],\n           [0.],\n           [0.]]],\n \n \n         [[[0.],\n           [0.],\n           [0.],\n           ...,\n           [0.],\n           [0.],\n           [0.]],\n \n          [[0.],\n           [0.],\n           [0.],\n           ...,\n           [0.],\n           [0.],\n           [0.]],\n \n          [[0.],\n           [0.],\n           [0.],\n           ...,\n           [0.],\n           [0.],\n           [0.]],\n \n          ...,\n \n          [[0.],\n           [0.],\n           [0.],\n           ...,\n           [0.],\n           [0.],\n           [0.]],\n \n          [[0.],\n           [0.],\n           [0.],\n           ...,\n           [0.],\n           [0.],\n           [0.]],\n \n          [[0.],\n           [0.],\n           [0.],\n           ...,\n           [0.],\n           [0.],\n           [0.]]],\n \n \n         ...,\n \n \n         [[[0.],\n           [0.],\n           [0.],\n           ...,\n           [0.],\n           [0.],\n           [0.]],\n \n          [[0.],\n           [0.],\n           [0.],\n           ...,\n           [0.],\n           [0.],\n           [0.]],\n \n          [[0.],\n           [0.],\n           [0.],\n           ...,\n           [0.],\n           [0.],\n           [0.]],\n \n          ...,\n \n          [[0.],\n           [0.],\n           [0.],\n           ...,\n           [0.],\n           [0.],\n           [0.]],\n \n          [[0.],\n           [0.],\n           [0.],\n           ...,\n           [0.],\n           [0.],\n           [0.]],\n \n          [[0.],\n           [0.],\n           [0.],\n           ...,\n           [0.],\n           [0.],\n           [0.]]],\n \n \n         [[[0.],\n           [0.],\n           [0.],\n           ...,\n           [0.],\n           [0.],\n           [0.]],\n \n          [[0.],\n           [0.],\n           [0.],\n           ...,\n           [0.],\n           [0.],\n           [0.]],\n \n          [[0.],\n           [0.],\n           [0.],\n           ...,\n           [0.],\n           [0.],\n           [0.]],\n \n          ...,\n \n          [[0.],\n           [0.],\n           [0.],\n           ...,\n           [0.],\n           [0.],\n           [0.]],\n \n          [[0.],\n           [0.],\n           [0.],\n           ...,\n           [0.],\n           [0.],\n           [0.]],\n \n          [[0.],\n           [0.],\n           [0.],\n           ...,\n           [0.],\n           [0.],\n           [0.]]],\n \n \n         [[[0.],\n           [0.],\n           [0.],\n           ...,\n           [0.],\n           [0.],\n           [0.]],\n \n          [[0.],\n           [0.],\n           [0.],\n           ...,\n           [0.],\n           [0.],\n           [0.]],\n \n          [[0.],\n           [0.],\n           [0.],\n           ...,\n           [0.],\n           [0.],\n           [0.]],\n \n          ...,\n \n          [[0.],\n           [0.],\n           [0.],\n           ...,\n           [0.],\n           [0.],\n           [0.]],\n \n          [[0.],\n           [0.],\n           [0.],\n           ...,\n           [0.],\n           [0.],\n           [0.]],\n \n          [[0.],\n           [0.],\n           [0.],\n           ...,\n           [0.],\n           [0.],\n           [0.]]]]]),\n array([[[[[0.],\n           [0.],\n           [0.],\n           ...,\n           [0.],\n           [0.],\n           [0.]],\n \n          [[0.],\n           [0.],\n           [0.],\n           ...,\n           [0.],\n           [0.],\n           [0.]],\n \n          [[0.],\n           [0.],\n           [0.],\n           ...,\n           [0.],\n           [0.],\n           [0.]],\n \n          ...,\n \n          [[0.],\n           [0.],\n           [0.],\n           ...,\n           [0.],\n           [0.],\n           [0.]],\n \n          [[0.],\n           [0.],\n           [0.],\n           ...,\n           [0.],\n           [0.],\n           [0.]],\n \n          [[0.],\n           [0.],\n           [0.],\n           ...,\n           [0.],\n           [0.],\n           [0.]]],\n \n \n         [[[0.],\n           [0.],\n           [0.],\n           ...,\n           [0.],\n           [0.],\n           [0.]],\n \n          [[0.],\n           [0.],\n           [0.],\n           ...,\n           [0.],\n           [0.],\n           [0.]],\n \n          [[0.],\n           [0.],\n           [0.],\n           ...,\n           [0.],\n           [0.],\n           [0.]],\n \n          ...,\n \n          [[0.],\n           [0.],\n           [0.],\n           ...,\n           [0.],\n           [0.],\n           [0.]],\n \n          [[0.],\n           [0.],\n           [0.],\n           ...,\n           [0.],\n           [0.],\n           [0.]],\n \n          [[0.],\n           [0.],\n           [0.],\n           ...,\n           [0.],\n           [0.],\n           [0.]]],\n \n \n         [[[0.],\n           [0.],\n           [0.],\n           ...,\n           [0.],\n           [0.],\n           [0.]],\n \n          [[0.],\n           [0.],\n           [0.],\n           ...,\n           [0.],\n           [0.],\n           [0.]],\n \n          [[0.],\n           [0.],\n           [0.],\n           ...,\n           [0.],\n           [0.],\n           [0.]],\n \n          ...,\n \n          [[0.],\n           [0.],\n           [0.],\n           ...,\n           [0.],\n           [0.],\n           [0.]],\n \n          [[0.],\n           [0.],\n           [0.],\n           ...,\n           [0.],\n           [0.],\n           [0.]],\n \n          [[0.],\n           [0.],\n           [0.],\n           ...,\n           [0.],\n           [0.],\n           [0.]]],\n \n \n         ...,\n \n \n         [[[0.],\n           [0.],\n           [0.],\n           ...,\n           [0.],\n           [0.],\n           [0.]],\n \n          [[0.],\n           [0.],\n           [0.],\n           ...,\n           [0.],\n           [0.],\n           [0.]],\n \n          [[0.],\n           [0.],\n           [0.],\n           ...,\n           [0.],\n           [0.],\n           [0.]],\n \n          ...,\n \n          [[0.],\n           [0.],\n           [0.],\n           ...,\n           [0.],\n           [0.],\n           [0.]],\n \n          [[0.],\n           [0.],\n           [0.],\n           ...,\n           [0.],\n           [0.],\n           [0.]],\n \n          [[0.],\n           [0.],\n           [0.],\n           ...,\n           [0.],\n           [0.],\n           [0.]]],\n \n \n         [[[0.],\n           [0.],\n           [0.],\n           ...,\n           [0.],\n           [0.],\n           [0.]],\n \n          [[0.],\n           [0.],\n           [0.],\n           ...,\n           [0.],\n           [0.],\n           [0.]],\n \n          [[0.],\n           [0.],\n           [0.],\n           ...,\n           [0.],\n           [0.],\n           [0.]],\n \n          ...,\n \n          [[0.],\n           [0.],\n           [0.],\n           ...,\n           [0.],\n           [0.],\n           [0.]],\n \n          [[0.],\n           [0.],\n           [0.],\n           ...,\n           [0.],\n           [0.],\n           [0.]],\n \n          [[0.],\n           [0.],\n           [0.],\n           ...,\n           [0.],\n           [0.],\n           [0.]]],\n \n \n         [[[0.],\n           [0.],\n           [0.],\n           ...,\n           [0.],\n           [0.],\n           [0.]],\n \n          [[0.],\n           [0.],\n           [0.],\n           ...,\n           [0.],\n           [0.],\n           [0.]],\n \n          [[0.],\n           [0.],\n           [0.],\n           ...,\n           [0.],\n           [0.],\n           [0.]],\n \n          ...,\n \n          [[0.],\n           [0.],\n           [0.],\n           ...,\n           [0.],\n           [0.],\n           [0.]],\n \n          [[0.],\n           [0.],\n           [0.],\n           ...,\n           [0.],\n           [0.],\n           [0.]],\n \n          [[0.],\n           [0.],\n           [0.],\n           ...,\n           [0.],\n           [0.],\n           [0.]]]],\n \n \n \n        [[[[0.],\n           [0.],\n           [0.],\n           ...,\n           [0.],\n           [0.],\n           [0.]],\n \n          [[0.],\n           [0.],\n           [0.],\n           ...,\n           [0.],\n           [0.],\n           [0.]],\n \n          [[0.],\n           [0.],\n           [0.],\n           ...,\n           [0.],\n           [0.],\n           [0.]],\n \n          ...,\n \n          [[0.],\n           [0.],\n           [0.],\n           ...,\n           [0.],\n           [0.],\n           [0.]],\n \n          [[0.],\n           [0.],\n           [0.],\n           ...,\n           [0.],\n           [0.],\n           [0.]],\n \n          [[0.],\n           [0.],\n           [0.],\n           ...,\n           [0.],\n           [0.],\n           [0.]]],\n \n \n         [[[0.],\n           [0.],\n           [0.],\n           ...,\n           [0.],\n           [0.],\n           [0.]],\n \n          [[0.],\n           [0.],\n           [0.],\n           ...,\n           [0.],\n           [0.],\n           [0.]],\n \n          [[0.],\n           [0.],\n           [0.],\n           ...,\n           [0.],\n           [0.],\n           [0.]],\n \n          ...,\n \n          [[0.],\n           [0.],\n           [0.],\n           ...,\n           [0.],\n           [0.],\n           [0.]],\n \n          [[0.],\n           [0.],\n           [0.],\n           ...,\n           [0.],\n           [0.],\n           [0.]],\n \n          [[0.],\n           [0.],\n           [0.],\n           ...,\n           [0.],\n           [0.],\n           [0.]]],\n \n \n         [[[0.],\n           [0.],\n           [0.],\n           ...,\n           [0.],\n           [0.],\n           [0.]],\n \n          [[0.],\n           [0.],\n           [0.],\n           ...,\n           [0.],\n           [0.],\n           [0.]],\n \n          [[0.],\n           [0.],\n           [0.],\n           ...,\n           [0.],\n           [0.],\n           [0.]],\n \n          ...,\n \n          [[0.],\n           [0.],\n           [0.],\n           ...,\n           [0.],\n           [0.],\n           [0.]],\n \n          [[0.],\n           [0.],\n           [0.],\n           ...,\n           [0.],\n           [0.],\n           [0.]],\n \n          [[0.],\n           [0.],\n           [0.],\n           ...,\n           [0.],\n           [0.],\n           [0.]]],\n \n \n         ...,\n \n \n         [[[0.],\n           [0.],\n           [0.],\n           ...,\n           [0.],\n           [0.],\n           [0.]],\n \n          [[0.],\n           [0.],\n           [0.],\n           ...,\n           [0.],\n           [0.],\n           [0.]],\n \n          [[0.],\n           [0.],\n           [0.],\n           ...,\n           [0.],\n           [0.],\n           [0.]],\n \n          ...,\n \n          [[0.],\n           [0.],\n           [0.],\n           ...,\n           [0.],\n           [0.],\n           [0.]],\n \n          [[0.],\n           [0.],\n           [0.],\n           ...,\n           [0.],\n           [0.],\n           [0.]],\n \n          [[0.],\n           [0.],\n           [0.],\n           ...,\n           [0.],\n           [0.],\n           [0.]]],\n \n \n         [[[0.],\n           [0.],\n           [0.],\n           ...,\n           [0.],\n           [0.],\n           [0.]],\n \n          [[0.],\n           [0.],\n           [0.],\n           ...,\n           [0.],\n           [0.],\n           [0.]],\n \n          [[0.],\n           [0.],\n           [0.],\n           ...,\n           [0.],\n           [0.],\n           [0.]],\n \n          ...,\n \n          [[0.],\n           [0.],\n           [0.],\n           ...,\n           [0.],\n           [0.],\n           [0.]],\n \n          [[0.],\n           [0.],\n           [0.],\n           ...,\n           [0.],\n           [0.],\n           [0.]],\n \n          [[0.],\n           [0.],\n           [0.],\n           ...,\n           [0.],\n           [0.],\n           [0.]]],\n \n \n         [[[0.],\n           [0.],\n           [0.],\n           ...,\n           [0.],\n           [0.],\n           [0.]],\n \n          [[0.],\n           [0.],\n           [0.],\n           ...,\n           [0.],\n           [0.],\n           [0.]],\n \n          [[0.],\n           [0.],\n           [0.],\n           ...,\n           [0.],\n           [0.],\n           [0.]],\n \n          ...,\n \n          [[0.],\n           [0.],\n           [0.],\n           ...,\n           [0.],\n           [0.],\n           [0.]],\n \n          [[0.],\n           [0.],\n           [0.],\n           ...,\n           [0.],\n           [0.],\n           [0.]],\n \n          [[0.],\n           [0.],\n           [0.],\n           ...,\n           [0.],\n           [0.],\n           [0.]]]]]),\n array([[[[[0.],\n           [0.],\n           [0.],\n           ...,\n           [0.],\n           [0.],\n           [0.]],\n \n          [[0.],\n           [0.],\n           [0.],\n           ...,\n           [0.],\n           [0.],\n           [0.]],\n \n          [[0.],\n           [0.],\n           [0.],\n           ...,\n           [0.],\n           [0.],\n           [0.]],\n \n          ...,\n \n          [[0.],\n           [0.],\n           [0.],\n           ...,\n           [0.],\n           [0.],\n           [0.]],\n \n          [[0.],\n           [0.],\n           [0.],\n           ...,\n           [0.],\n           [0.],\n           [0.]],\n \n          [[0.],\n           [0.],\n           [0.],\n           ...,\n           [0.],\n           [0.],\n           [0.]]],\n \n \n         [[[0.],\n           [0.],\n           [0.],\n           ...,\n           [0.],\n           [0.],\n           [0.]],\n \n          [[0.],\n           [0.],\n           [0.],\n           ...,\n           [0.],\n           [0.],\n           [0.]],\n \n          [[0.],\n           [0.],\n           [0.],\n           ...,\n           [0.],\n           [0.],\n           [0.]],\n \n          ...,\n \n          [[0.],\n           [0.],\n           [0.],\n           ...,\n           [0.],\n           [0.],\n           [0.]],\n \n          [[0.],\n           [0.],\n           [0.],\n           ...,\n           [0.],\n           [0.],\n           [0.]],\n \n          [[0.],\n           [0.],\n           [0.],\n           ...,\n           [0.],\n           [0.],\n           [0.]]],\n \n \n         [[[0.],\n           [0.],\n           [0.],\n           ...,\n           [0.],\n           [0.],\n           [0.]],\n \n          [[0.],\n           [0.],\n           [0.],\n           ...,\n           [0.],\n           [0.],\n           [0.]],\n \n          [[0.],\n           [0.],\n           [0.],\n           ...,\n           [0.],\n           [0.],\n           [0.]],\n \n          ...,\n \n          [[0.],\n           [0.],\n           [0.],\n           ...,\n           [0.],\n           [0.],\n           [0.]],\n \n          [[0.],\n           [0.],\n           [0.],\n           ...,\n           [0.],\n           [0.],\n           [0.]],\n \n          [[0.],\n           [0.],\n           [0.],\n           ...,\n           [0.],\n           [0.],\n           [0.]]],\n \n \n         ...,\n \n \n         [[[0.],\n           [0.],\n           [0.],\n           ...,\n           [0.],\n           [0.],\n           [0.]],\n \n          [[0.],\n           [0.],\n           [0.],\n           ...,\n           [0.],\n           [0.],\n           [0.]],\n \n          [[0.],\n           [0.],\n           [0.],\n           ...,\n           [0.],\n           [0.],\n           [0.]],\n \n          ...,\n \n          [[0.],\n           [0.],\n           [0.],\n           ...,\n           [0.],\n           [0.],\n           [0.]],\n \n          [[0.],\n           [0.],\n           [0.],\n           ...,\n           [0.],\n           [0.],\n           [0.]],\n \n          [[0.],\n           [0.],\n           [0.],\n           ...,\n           [0.],\n           [0.],\n           [0.]]],\n \n \n         [[[0.],\n           [0.],\n           [0.],\n           ...,\n           [0.],\n           [0.],\n           [0.]],\n \n          [[0.],\n           [0.],\n           [0.],\n           ...,\n           [0.],\n           [0.],\n           [0.]],\n \n          [[0.],\n           [0.],\n           [0.],\n           ...,\n           [0.],\n           [0.],\n           [0.]],\n \n          ...,\n \n          [[0.],\n           [0.],\n           [0.],\n           ...,\n           [0.],\n           [0.],\n           [0.]],\n \n          [[0.],\n           [0.],\n           [0.],\n           ...,\n           [0.],\n           [0.],\n           [0.]],\n \n          [[0.],\n           [0.],\n           [0.],\n           ...,\n           [0.],\n           [0.],\n           [0.]]],\n \n \n         [[[0.],\n           [0.],\n           [0.],\n           ...,\n           [0.],\n           [0.],\n           [0.]],\n \n          [[0.],\n           [0.],\n           [0.],\n           ...,\n           [0.],\n           [0.],\n           [0.]],\n \n          [[0.],\n           [0.],\n           [0.],\n           ...,\n           [0.],\n           [0.],\n           [0.]],\n \n          ...,\n \n          [[0.],\n           [0.],\n           [0.],\n           ...,\n           [0.],\n           [0.],\n           [0.]],\n \n          [[0.],\n           [0.],\n           [0.],\n           ...,\n           [0.],\n           [0.],\n           [0.]],\n \n          [[0.],\n           [0.],\n           [0.],\n           ...,\n           [0.],\n           [0.],\n           [0.]]]],\n \n \n \n        [[[[0.],\n           [0.],\n           [0.],\n           ...,\n           [0.],\n           [0.],\n           [0.]],\n \n          [[0.],\n           [0.],\n           [0.],\n           ...,\n           [0.],\n           [0.],\n           [0.]],\n \n          [[0.],\n           [0.],\n           [0.],\n           ...,\n           [0.],\n           [0.],\n           [0.]],\n \n          ...,\n \n          [[0.],\n           [0.],\n           [0.],\n           ...,\n           [0.],\n           [0.],\n           [0.]],\n \n          [[0.],\n           [0.],\n           [0.],\n           ...,\n           [0.],\n           [0.],\n           [0.]],\n \n          [[0.],\n           [0.],\n           [0.],\n           ...,\n           [0.],\n           [0.],\n           [0.]]],\n \n \n         [[[0.],\n           [0.],\n           [0.],\n           ...,\n           [0.],\n           [0.],\n           [0.]],\n \n          [[0.],\n           [0.],\n           [0.],\n           ...,\n           [0.],\n           [0.],\n           [0.]],\n \n          [[0.],\n           [0.],\n           [0.],\n           ...,\n           [0.],\n           [0.],\n           [0.]],\n \n          ...,\n \n          [[0.],\n           [0.],\n           [0.],\n           ...,\n           [0.],\n           [0.],\n           [0.]],\n \n          [[0.],\n           [0.],\n           [0.],\n           ...,\n           [0.],\n           [0.],\n           [0.]],\n \n          [[0.],\n           [0.],\n           [0.],\n           ...,\n           [0.],\n           [0.],\n           [0.]]],\n \n \n         [[[0.],\n           [0.],\n           [0.],\n           ...,\n           [0.],\n           [0.],\n           [0.]],\n \n          [[0.],\n           [0.],\n           [0.],\n           ...,\n           [0.],\n           [0.],\n           [0.]],\n \n          [[0.],\n           [0.],\n           [0.],\n           ...,\n           [0.],\n           [0.],\n           [0.]],\n \n          ...,\n \n          [[0.],\n           [0.],\n           [0.],\n           ...,\n           [0.],\n           [0.],\n           [0.]],\n \n          [[0.],\n           [0.],\n           [0.],\n           ...,\n           [0.],\n           [0.],\n           [0.]],\n \n          [[0.],\n           [0.],\n           [0.],\n           ...,\n           [0.],\n           [0.],\n           [0.]]],\n \n \n         ...,\n \n \n         [[[0.],\n           [0.],\n           [0.],\n           ...,\n           [0.],\n           [0.],\n           [0.]],\n \n          [[0.],\n           [0.],\n           [0.],\n           ...,\n           [0.],\n           [0.],\n           [0.]],\n \n          [[0.],\n           [0.],\n           [0.],\n           ...,\n           [0.],\n           [0.],\n           [0.]],\n \n          ...,\n \n          [[0.],\n           [0.],\n           [0.],\n           ...,\n           [0.],\n           [0.],\n           [0.]],\n \n          [[0.],\n           [0.],\n           [0.],\n           ...,\n           [0.],\n           [0.],\n           [0.]],\n \n          [[0.],\n           [0.],\n           [0.],\n           ...,\n           [0.],\n           [0.],\n           [0.]]],\n \n \n         [[[0.],\n           [0.],\n           [0.],\n           ...,\n           [0.],\n           [0.],\n           [0.]],\n \n          [[0.],\n           [0.],\n           [0.],\n           ...,\n           [0.],\n           [0.],\n           [0.]],\n \n          [[0.],\n           [0.],\n           [0.],\n           ...,\n           [0.],\n           [0.],\n           [0.]],\n \n          ...,\n \n          [[0.],\n           [0.],\n           [0.],\n           ...,\n           [0.],\n           [0.],\n           [0.]],\n \n          [[0.],\n           [0.],\n           [0.],\n           ...,\n           [0.],\n           [0.],\n           [0.]],\n \n          [[0.],\n           [0.],\n           [0.],\n           ...,\n           [0.],\n           [0.],\n           [0.]]],\n \n \n         [[[0.],\n           [0.],\n           [0.],\n           ...,\n           [0.],\n           [0.],\n           [0.]],\n \n          [[0.],\n           [0.],\n           [0.],\n           ...,\n           [0.],\n           [0.],\n           [0.]],\n \n          [[0.],\n           [0.],\n           [0.],\n           ...,\n           [0.],\n           [0.],\n           [0.]],\n \n          ...,\n \n          [[0.],\n           [0.],\n           [0.],\n           ...,\n           [0.],\n           [0.],\n           [0.]],\n \n          [[0.],\n           [0.],\n           [0.],\n           ...,\n           [0.],\n           [0.],\n           [0.]],\n \n          [[0.],\n           [0.],\n           [0.],\n           ...,\n           [0.],\n           [0.],\n           [0.]]]]]),\n array([[0., 1.],\n        [0., 1.]], dtype=float32))"
     },
     "execution_count": 60,
     "metadata": {},
     "output_type": "execute_result"
    }
   ],
   "source": [
    "d.__getitem__(0)"
   ],
   "metadata": {
    "collapsed": false,
    "pycharm": {
     "name": "#%%\n"
    }
   }
  },
  {
   "cell_type": "code",
   "execution_count": 27,
   "metadata": {},
   "outputs": [
    {
     "data": {
      "text/plain": [
       "'/home/eshan/Downloads/PD DATA/FinalDataWMGM/Control/mwp15007.nii'"
      ]
     },
     "execution_count": 27,
     "metadata": {},
     "output_type": "execute_result"
    }
   ],
   "source": [
    "b[0]"
   ]
  },
  {
   "cell_type": "code",
   "execution_count": 28,
   "metadata": {},
   "outputs": [
    {
     "data": {
      "text/plain": [
       "'/home/eshan/Downloads/PD DATA/FinalDataWMGM/Control/mwp25007.nii'"
      ]
     },
     "execution_count": 28,
     "metadata": {},
     "output_type": "execute_result"
    }
   ],
   "source": [
    "c[0]"
   ]
  },
  {
   "cell_type": "code",
   "execution_count": 29,
   "metadata": {},
   "outputs": [
    {
     "data": {
      "text/plain": [
       "0"
      ]
     },
     "execution_count": 29,
     "metadata": {},
     "output_type": "execute_result"
    }
   ],
   "source": [
    "d[0]"
   ]
  },
  {
   "cell_type": "code",
   "execution_count": 30,
   "metadata": {},
   "outputs": [
    {
     "data": {
      "text/plain": [
       "'5007'"
      ]
     },
     "execution_count": 30,
     "metadata": {},
     "output_type": "execute_result"
    }
   ],
   "source": [
    "e[0]"
   ]
  }
 ],
 "metadata": {
  "kernelspec": {
   "name": "python3",
   "language": "python",
   "display_name": "Python 3"
  },
  "language_info": {
   "codemirror_mode": {
    "name": "ipython",
    "version": 3
   },
   "file_extension": ".py",
   "mimetype": "text/x-python",
   "name": "python",
   "nbconvert_exporter": "python",
   "pygments_lexer": "ipython3",
   "version": "3.8.5"
  }
 },
 "nbformat": 4,
 "nbformat_minor": 4
}