{
 "cells": [
  {
   "cell_type": "code",
   "execution_count": 70,
   "metadata": {},
   "outputs": [],
   "source": [
    "import os\n",
    "import nibabel as nib\n",
    "import numpy as np\n",
    "from scipy.ndimage.interpolation import zoom\n",
    "import scipy as sp\n",
    "from tqdm import tqdm\n",
    "from tqdm.notebook import tqdm_notebook\n",
    "\n",
    "import keras\n",
    "from keras.models import Model\n",
    "from keras.layers import Input, Dense, Reshape, Flatten, LeakyReLU, Dropout, Embedding, Concatenate\n",
    "from keras.layers.core import Activation\n",
    "from keras.layers.convolutional import Conv3D, Deconv3D\n",
    "from keras.layers.advanced_activations import LeakyReLU\n",
    "from keras.layers.normalization import BatchNormalization\n",
    "from keras.utils.vis_utils import plot_model\n",
    "\n",
    "\n",
    "def load_nifti(file_path, mask=None, z_factor=None, remove_nan=False):\n",
    "    \"\"\"Load a 3D array from a NIFTI file.\"\"\"\n",
    "    img = nib.load(file_path)\n",
    "    struct_arr = np.array(img.get_data())\n",
    "\n",
    "    if remove_nan:\n",
    "        struct_arr = np.nan_to_num(struct_arr)\n",
    "    if mask is not None:\n",
    "        struct_arr *= mask\n",
    "    if z_factor is not None:\n",
    "        struct_arr = np.around(zoom(struct_arr, z_factor), 0)\n",
    "\n",
    "    return struct_arr\n",
    "\n",
    "\n",
    "def save_nifti(file_path, struct_arr):\n",
    "    \"\"\"Save a 3D array to a NIFTI file.\"\"\"\n",
    "    img = nib.Nifti1Image(struct_arr, np.eye(4))\n",
    "    nib.save(img, file_path)\n",
    "    \n",
    "\n",
    "\n"
   ]
  },
  {
   "cell_type": "code",
   "execution_count": 2,
   "metadata": {},
   "outputs": [
    {
     "name": "stderr",
     "output_type": "stream",
     "text": [
      "  0%|          | 0/2 [00:00<?, ?it/s]\n",
      "100%|██████████| 299/299 [00:00<00:00, 1518277.11it/s]\n",
      "\n",
      "100%|██████████| 626/626 [00:00<00:00, 248521.94it/s]\n",
      "\n",
      "100%|██████████| 299/299 [00:00<00:00, 2696982.57it/s]\n",
      "\n",
      "100%|██████████| 714/714 [00:00<00:00, 121569.09it/s]\n",
      "100%|██████████| 2/2 [00:00<00:00, 113.25it/s]\n",
      "100%|██████████| 1170/1170 [00:00<00:00, 279492.86it/s]\n"
     ]
    }
   ],
   "source": [
    "def prepareData(use_smooth = False, runningOnServer = True):\n",
    "    rootDir = 'C:/Users/Eshan/Google Drive UALBERTA/Data/' if not runningOnServer else '/mnt/hdd1/lxc-hdd1/tahjid/PD Data/'\n",
    "    patientList, patientNumbers, dataset = [], [], []\n",
    "    labelMap = dict(Control=0, PD=1)\n",
    "    typeMap = dict(FullScan=0, GrayMatter=1, WhiteMatter=2)\n",
    "    fullScanPath = rootDir + 'FinalData/'\n",
    "    wmgmpath = rootDir + 'FinalDataWMGM/' if not use_smooth else rootDir + 'FinalDataWMGMSmooth/'\n",
    "    prefix = 'mwp' if not use_smooth else 'smwp'\n",
    "    ext = '.nii'\n",
    "    for i in tqdm(['Control', 'PD']):\n",
    "        path = fullScanPath + i + '/'\n",
    "        listOfFiles = [f for f in os.listdir(path) if f.endswith(ext)]\n",
    "        for file in tqdm(listOfFiles):\n",
    "            patientNumbers.append(file[:4])\n",
    "        path = wmgmpath + i + '/'\n",
    "        listOfFiles = [f for f in os.listdir(path) if f.endswith(ext)]\n",
    "        for file in tqdm(listOfFiles):\n",
    "            filename = file[4:8] if not use_smooth else file[5:9]\n",
    "            if filename not in patientNumbers:\n",
    "                continue\n",
    "            if not use_smooth:\n",
    "                patientList.append([i, file[4:8]])\n",
    "            else:\n",
    "                patientList.append([i, file[5:9]])\n",
    "\n",
    "    for i in tqdm(patientList):\n",
    "        path = fullScanPath + i[0] + '/'\n",
    "        patientIdVal = i[1]\n",
    "        fullScanvalue = os.path.join(path + i[1] + ext)\n",
    "        path = wmgmpath + i[0] + '/'\n",
    "        gmval = os.path.join(path + prefix + str(typeMap['GrayMatter']) + i[1] + ext)\n",
    "        wmval = os.path.join(path + prefix + str(typeMap['WhiteMatter']) + i[1] + ext)\n",
    "        labelval = labelMap[i[0]]\n",
    "        dataset.append([patientIdVal,fullScanvalue, gmval, wmval, labelval])\n",
    "    return np.array(dataset)\n",
    "dataset = prepareData()"
   ]
  },
  {
   "cell_type": "code",
   "execution_count": 3,
   "metadata": {
    "pycharm": {
     "name": "#%%\n"
    }
   },
   "outputs": [],
   "source": [
    "from sklearn.model_selection import train_test_split\n",
    "X = dataset[:,:4]\n",
    "y = dataset[:,4:]"
   ]
  },
  {
   "cell_type": "code",
   "execution_count": 4,
   "metadata": {
    "pycharm": {
     "name": "#%%\n"
    }
   },
   "outputs": [],
   "source": [
    "x_train, x_test, y_train, y_test = train_test_split(X, y, test_size=.20, random_state=42)\n"
   ]
  },
  {
   "cell_type": "code",
   "execution_count": 10,
   "metadata": {
    "pycharm": {
     "name": "#%%\n"
    }
   },
   "outputs": [
    {
     "data": {
      "text/plain": [
       "array([['3554'],\n",
       "       ['5127'],\n",
       "       ['5037'],\n",
       "       ...,\n",
       "       ['3834'],\n",
       "       ['4109'],\n",
       "       ['3574']], dtype='<U68')"
      ]
     },
     "execution_count": 10,
     "metadata": {},
     "output_type": "execute_result"
    }
   ],
   "source": [
    "dataset[:,:1]"
   ]
  },
  {
   "cell_type": "code",
   "execution_count": 5,
   "metadata": {},
   "outputs": [],
   "source": [
    "class DataGenerator(keras.utils.Sequence):\n",
    "    'Generates data for Keras'\n",
    "    def __init__(self, data, labels, batch_size=2, dim1=(91,109,91), dim2=(121,145,121) , n_channels=1,\n",
    "                 n_classes=2, shuffle=True):\n",
    "        'Initialization'\n",
    "        self.dim1 = dim1\n",
    "        self.dim2 = dim2\n",
    "        self.batch_size = batch_size\n",
    "        self.labels = list(labels)\n",
    "        self.data = data\n",
    "        self.n_channels = n_channels\n",
    "        self.n_classes = n_classes\n",
    "        self.shuffle = shuffle\n",
    "        self.list_IDs = list(data[:,:1])\n",
    "        self.on_epoch_end()\n",
    "\n",
    "    def __len__(self):\n",
    "        'Denotes the number of batches per epoch'\n",
    "        return int(np.floor(len(self.list_IDs) / self.batch_size))\n",
    "\n",
    "    def __getitem__(self, index):\n",
    "        'Generate one batch of data'\n",
    "        # Generate indexes of the batch\n",
    "        indexes = self.indexes[index*self.batch_size:(index+1)*self.batch_size]\n",
    "        # print(indexes)\n",
    "        # Find list of IDs\n",
    "        # list_IDs_temp = [self.list_IDs[k] for k in indexes]\n",
    "\n",
    "        # Generate data\n",
    "        fs, gm, wm, y = self.__data_generation(indexes)\n",
    "\n",
    "        return fs, gm, wm, y\n",
    "\n",
    "    def on_epoch_end(self):\n",
    "        'Updates indexes after each epoch'\n",
    "        self.indexes = np.arange(len(self.list_IDs))\n",
    "        if self.shuffle:\n",
    "            np.random.shuffle(self.indexes)\n",
    "\n",
    "    def __data_generation(self, indexes):\n",
    "        'Generates data containing batch_size samples' # X : (n_samples, *dim, n_channels)\n",
    "        # Initialization\n",
    "        fs = np.empty((self.batch_size, *self.dim1, self.n_channels))\n",
    "        gm = np.empty((self.batch_size, *self.dim2, self.n_channels))\n",
    "        wm = np.empty((self.batch_size, *self.dim2, self.n_channels))\n",
    "        y = np.empty((self.batch_size), dtype=int)\n",
    "\n",
    "        # Generate data\n",
    "        for i, count in enumerate(indexes):\n",
    "            val = self.data[count]\n",
    "            fullscan = load_nifti(val[1])\n",
    "            graymatter = load_nifti(val[2])\n",
    "            whitematter = load_nifti(val[3])\n",
    "            # print(fullscan.shape, graymatter.shape, whitematter.shape)\n",
    "            # break\n",
    "            # Store sample\n",
    "            fs[i,] = fullscan[..., np.newaxis]\n",
    "            gm[i,] = graymatter[..., np.newaxis]\n",
    "            wm[i,] = whitematter[..., np.newaxis]\n",
    "\n",
    "\n",
    "            # Store class\n",
    "            y[i] = self.labels[i]\n",
    "\n",
    "        return fs, gm, wm, keras.utils.to_categorical(y, num_classes=self.n_classes)\n",
    "    "
   ]
  },
  {
   "cell_type": "code",
   "execution_count": 6,
   "metadata": {},
   "outputs": [],
   "source": [
    "d = DataGenerator(x_train, y_train)\n"
   ]
  },
  {
   "cell_type": "code",
   "execution_count": 23,
   "metadata": {
    "pycharm": {
     "name": "#%%\n"
    },
    "scrolled": true
   },
   "outputs": [
    {
     "name": "stderr",
     "output_type": "stream",
     "text": [
      "/mnt/hdd1/lxc-hdd1/tahjid/anaconda3/envs/tf-gpu/lib/python3.6/site-packages/ipykernel_launcher.py:20: DeprecationWarning: get_data() is deprecated in favor of get_fdata(), which has a more predictable return type. To obtain get_data() behavior going forward, use numpy.asanyarray(img.dataobj).\n",
      "\n",
      "* deprecated from version: 3.0\n",
      "* Will raise <class 'nibabel.deprecator.ExpiredDeprecationError'> as of version: 5.0\n",
      "/mnt/hdd1/lxc-hdd1/tahjid/anaconda3/envs/tf-gpu/lib/python3.6/site-packages/ipykernel_launcher.py:20: DeprecationWarning: get_data() is deprecated in favor of get_fdata(), which has a more predictable return type. To obtain get_data() behavior going forward, use numpy.asanyarray(img.dataobj).\n",
      "\n",
      "* deprecated from version: 3.0\n",
      "* Will raise <class 'nibabel.deprecator.ExpiredDeprecationError'> as of version: 5.0\n",
      "/mnt/hdd1/lxc-hdd1/tahjid/anaconda3/envs/tf-gpu/lib/python3.6/site-packages/ipykernel_launcher.py:20: DeprecationWarning: get_data() is deprecated in favor of get_fdata(), which has a more predictable return type. To obtain get_data() behavior going forward, use numpy.asanyarray(img.dataobj).\n",
      "\n",
      "* deprecated from version: 3.0\n",
      "* Will raise <class 'nibabel.deprecator.ExpiredDeprecationError'> as of version: 5.0\n",
      "/mnt/hdd1/lxc-hdd1/tahjid/anaconda3/envs/tf-gpu/lib/python3.6/site-packages/ipykernel_launcher.py:20: DeprecationWarning: get_data() is deprecated in favor of get_fdata(), which has a more predictable return type. To obtain get_data() behavior going forward, use numpy.asanyarray(img.dataobj).\n",
      "\n",
      "* deprecated from version: 3.0\n",
      "* Will raise <class 'nibabel.deprecator.ExpiredDeprecationError'> as of version: 5.0\n"
     ]
    }
   ],
   "source": [
    "a = d.__getitem__(0)\n",
    "b = np.concatenate((a[1][0].reshape(121,145,121), a[1][0].reshape(121,145,121)), axis=0)"
   ]
  },
  {
   "cell_type": "code",
   "execution_count": 28,
   "metadata": {},
   "outputs": [],
   "source": [
    "def plot(img, savefig = False, path = \"\", name = \"\"):\n",
    "    from nilearn import plotting\n",
    "    display = plotting.plot_anat(img)\n",
    "    if savefig: display.savefig(path + \"/\" + name)\n",
    "    plotting.show()\n",
    "    display.close()     "
   ]
  },
  {
   "cell_type": "code",
   "execution_count": 39,
   "metadata": {},
   "outputs": [],
   "source": [
    "import matplotlib.pyplot as plt\n",
    "from mpl_toolkits.mplot3d import Axes3D\n",
    "\n",
    "v = a[1][0].reshape(121,145,121)\n",
    "\n"
   ]
  },
  {
   "cell_type": "code",
   "execution_count": 47,
   "metadata": {},
   "outputs": [
    {
     "data": {
      "text/plain": [
       "(242, 145, 121)"
      ]
     },
     "execution_count": 47,
     "metadata": {},
     "output_type": "execute_result"
    }
   ],
   "source": [
    "b.shape"
   ]
  },
  {
   "cell_type": "code",
   "execution_count": null,
   "metadata": {},
   "outputs": [],
   "source": [
    "fig = plt.figure()\n",
    "ax = fig.add_subplot(111,projection = '3d')\n",
    "ax.plot(v[:,0], v[:,1], v[:,2])\n",
    "plt.show()"
   ]
  },
  {
   "cell_type": "code",
   "execution_count": 78,
   "metadata": {
    "pycharm": {
     "name": "#%%\n"
    }
   },
   "outputs": [],
   "source": [
    "def generator(phase_train=True, n_classes = 2 ,params={'z_size':500, 'strides':(11,5,11), 'kernel_size':(22,29,11)}):\n",
    "    \"\"\"\n",
    "    Returns a Generator Model with input params and phase_train\n",
    "    Args:\n",
    "        phase_train (boolean): training phase or not\n",
    "        params (dict): Dictionary with model parameters\n",
    "    Returns:\n",
    "        model (keras.Model): Keras Generator model\n",
    "    \"\"\"\n",
    "\n",
    "    z_size = params['z_size']\n",
    "    strides = params['strides']\n",
    "    kernel_size = params['kernel_size']\n",
    "    \n",
    "    in_label = Input(shape=(1,))\n",
    "    li = Embedding(n_classes, 50)(in_label)\n",
    "    li = Dense(z_size)(li)\n",
    "    li = Reshape((1,1,1,z_size))(li)\n",
    "    \n",
    "    \n",
    "    inputs = Input(shape=(1, 1, 1, z_size))\n",
    "    \n",
    "    \n",
    "    merge_inputs = Concatenate()([inputs, li])\n",
    "    \n",
    "    g1 = Deconv3D(filters=1024, kernel_size=kernel_size,\n",
    "                  strides=(1, 1, 1), kernel_initializer='glorot_normal',\n",
    "                  bias_initializer='zeros', padding='valid')(merge_inputs)\n",
    "    g1 = BatchNormalization()(g1, training=phase_train)\n",
    "    g1 = Activation(activation='relu')(g1)\n",
    "\n",
    "    g2 = Deconv3D(filters=512, kernel_size=kernel_size,\n",
    "                  strides=strides, kernel_initializer='glorot_normal',\n",
    "                  bias_initializer='zeros', padding='same')(g1)\n",
    "    g2 = BatchNormalization()(g2, training=phase_train)\n",
    "    g2 = Activation(activation='relu')(g2)\n",
    "\n",
    "    g3 = Deconv3D(filters=264, kernel_size=kernel_size,\n",
    "                  strides=(1, 1, 1), kernel_initializer='glorot_normal',\n",
    "                  bias_initializer='zeros', padding='same')(g2)\n",
    "    g3 = BatchNormalization()(g3, training=phase_train)\n",
    "    g3 = Activation(activation='relu')(g3)\n",
    "\n",
    "    g4 = Deconv3D(filters=128, kernel_size=kernel_size,\n",
    "                  strides=(1, 1, 1), kernel_initializer='glorot_normal',\n",
    "                  bias_initializer='zeros', padding='same')(g3)\n",
    "    g4 = BatchNormalization()(g4, training=phase_train)\n",
    "    g4 = Activation(activation='relu')(g4)\n",
    "\n",
    "    g5 = Deconv3D(filters=1, kernel_size=kernel_size,\n",
    "                  strides=(1, 1, 1), kernel_initializer='glorot_normal',\n",
    "                  bias_initializer='zeros', padding='same')(g4)\n",
    "    g5 = BatchNormalization()(g5, training=phase_train)\n",
    "    g5 = Activation(activation='sigmoid')(g5)\n",
    "\n",
    "    model = Model(inputs=[inputs, in_label], outputs=g5)\n",
    "    model.summary()\n",
    "\n",
    "    return model"
   ]
  },
  {
   "cell_type": "code",
   "execution_count": 80,
   "metadata": {
    "pycharm": {
     "name": "#%%\n"
    },
    "scrolled": true
   },
   "outputs": [
    {
     "name": "stdout",
     "output_type": "stream",
     "text": [
      "__________________________________________________________________________________________________\n",
      "Layer (type)                    Output Shape         Param #     Connected to                     \n",
      "==================================================================================================\n",
      "input_21 (InputLayer)           (None, 1)            0                                            \n",
      "__________________________________________________________________________________________________\n",
      "embedding_5 (Embedding)         (None, 1, 50)        100         input_21[0][0]                   \n",
      "__________________________________________________________________________________________________\n",
      "dense_5 (Dense)                 (None, 1, 500)       25500       embedding_5[0][0]                \n",
      "__________________________________________________________________________________________________\n",
      "input_22 (InputLayer)           (None, 1, 1, 1, 500) 0                                            \n",
      "__________________________________________________________________________________________________\n",
      "reshape_4 (Reshape)             (None, 1, 1, 1, 500) 0           dense_5[0][0]                    \n",
      "__________________________________________________________________________________________________\n",
      "concatenate_4 (Concatenate)     (None, 1, 1, 1, 1000 0           input_22[0][0]                   \n",
      "                                                                 reshape_4[0][0]                  \n",
      "__________________________________________________________________________________________________\n",
      "conv3d_transpose_77 (Conv3DTran (None, 22, 29, 11, 1 7186433024  concatenate_4[0][0]              \n",
      "__________________________________________________________________________________________________\n",
      "batch_normalization_76 (BatchNo (None, 22, 29, 11, 1 4096        conv3d_transpose_77[0][0]        \n",
      "__________________________________________________________________________________________________\n",
      "activation_76 (Activation)      (None, 22, 29, 11, 1 0           batch_normalization_76[0][0]     \n",
      "__________________________________________________________________________________________________\n",
      "conv3d_transpose_78 (Conv3DTran (None, 242, 145, 121 3679453696  activation_76[0][0]              \n",
      "__________________________________________________________________________________________________\n",
      "batch_normalization_77 (BatchNo (None, 242, 145, 121 2048        conv3d_transpose_78[0][0]        \n",
      "__________________________________________________________________________________________________\n",
      "activation_77 (Activation)      (None, 242, 145, 121 0           batch_normalization_77[0][0]     \n",
      "__________________________________________________________________________________________________\n",
      "conv3d_transpose_79 (Conv3DTran (None, 242, 145, 121 948609288   activation_77[0][0]              \n",
      "__________________________________________________________________________________________________\n",
      "batch_normalization_78 (BatchNo (None, 242, 145, 121 1056        conv3d_transpose_79[0][0]        \n",
      "__________________________________________________________________________________________________\n",
      "activation_78 (Activation)      (None, 242, 145, 121 0           batch_normalization_78[0][0]     \n",
      "__________________________________________________________________________________________________\n",
      "conv3d_transpose_80 (Conv3DTran (None, 242, 145, 121 237152384   activation_78[0][0]              \n",
      "__________________________________________________________________________________________________\n",
      "batch_normalization_79 (BatchNo (None, 242, 145, 121 512         conv3d_transpose_80[0][0]        \n",
      "__________________________________________________________________________________________________\n",
      "activation_79 (Activation)      (None, 242, 145, 121 0           batch_normalization_79[0][0]     \n",
      "__________________________________________________________________________________________________\n",
      "conv3d_transpose_81 (Conv3DTran (None, 242, 145, 121 898305      activation_79[0][0]              \n",
      "__________________________________________________________________________________________________\n",
      "batch_normalization_80 (BatchNo (None, 242, 145, 121 4           conv3d_transpose_81[0][0]        \n",
      "__________________________________________________________________________________________________\n",
      "activation_80 (Activation)      (None, 242, 145, 121 0           batch_normalization_80[0][0]     \n",
      "==================================================================================================\n",
      "Total params: 12,052,580,013\n",
      "Trainable params: 12,052,576,155\n",
      "Non-trainable params: 3,858\n",
      "__________________________________________________________________________________________________\n"
     ]
    }
   ],
   "source": [
    "model = generator()\n",
    "# model.summary()\n",
    "# plt.show()\n",
    "plot_model(model, to_file = \"generator_plot.png\", show_shapes = True, show_layer_names = True)\n",
    "# "
   ]
  },
  {
   "cell_type": "code",
   "execution_count": 98,
   "metadata": {},
   "outputs": [],
   "source": [
    "def discriminator(phase_train = True, n_classes = 2, params={'cube_len':64, 'strides':(11,5,11), 'kernel_size':(22,29,11), 'leak_value':0.2}):\n",
    "    \"\"\"\n",
    "    Returns a Discriminator Model with input params and phase_train \n",
    "    Args:\n",
    "        phase_train (boolean): training phase or not\n",
    "        params (dict): Dictionary with model parameters    \n",
    "    Returns:\n",
    "        model (keras.Model): Keras Discriminator model\n",
    "    \"\"\"\n",
    "    cube_len = params['cube_len']\n",
    "    strides = params['strides']\n",
    "    kernel_size = params['kernel_size'] \n",
    "    leak_value = params['leak_value']\n",
    "    \n",
    "    in_label = Input(shape=(1,))\n",
    "    li = Embedding(n_classes, 50)(in_label)\n",
    "    n_nodes = 242 * 145 * 141\n",
    "    li = Dense(n_nodes)(li)\n",
    "    li = Reshape((242, 145, 141, 1))(li)\n",
    "    \n",
    "    inputs = Input(shape=(242, 145, 141, 1))\n",
    "    \n",
    "    merge_inputs = Concatenate()([inputs, li])\n",
    "    \n",
    "    d1 = Conv3D(filters=128, kernel_size=kernel_size,\n",
    "                  strides=strides, kernel_initializer='glorot_normal',\n",
    "                  bias_initializer='zeros', padding='same')(merge_inputs)\n",
    "    d1 = BatchNormalization()(d1, training=phase_train)\n",
    "    d1 = LeakyReLU(leak_value)(d1)\n",
    "\n",
    "    d2 = Conv3D(filters=256, kernel_size=kernel_size,\n",
    "                  strides=strides, kernel_initializer='glorot_normal',\n",
    "                  bias_initializer='zeros', padding='same')(d1)\n",
    "    d2 = BatchNormalization()(d2, training=phase_train)\n",
    "    d2 = LeakyReLU(leak_value)(d2)\n",
    "\n",
    "    d3 = Conv3D(filters=512, kernel_size=kernel_size,\n",
    "                  strides=strides, kernel_initializer='glorot_normal',\n",
    "                  bias_initializer='zeros', padding='same')(d2)\n",
    "    d3 = BatchNormalization()(d3, training=phase_train)\n",
    "    d3 = LeakyReLU(leak_value)(d3)\n",
    "\n",
    "    d4 = Conv3D(filters=1024, kernel_size=kernel_size,\n",
    "                  strides=strides, kernel_initializer='glorot_normal',\n",
    "                  bias_initializer='zeros', padding='same')(d3)\n",
    "    d4 = BatchNormalization()(d4, training=phase_train)\n",
    "    d4 = LeakyReLU(leak_value)(d4)\n",
    "\n",
    "    d5 = Conv3D(filters=1, kernel_size=(1,1,1),\n",
    "                  strides=(1, 1, 1), kernel_initializer='glorot_normal',\n",
    "                  bias_initializer='zeros', padding='valid')(d4)\n",
    "    d5 = BatchNormalization()(d5, training=phase_train)\n",
    "    d5 = Activation(activation='sigmoid')(d5) \n",
    "    \n",
    "    d6 = Flatten()(d5)\n",
    "    d6 = Dropout(0.4)(d6)\n",
    "    d6 = Dense(1, activation='sigmoid')(d6)\n",
    "    model = Model(inputs=[inputs, in_label], outputs=d6)\n",
    "    model.summary()\n",
    "\n",
    "    return model"
   ]
  },
  {
   "cell_type": "code",
   "execution_count": 99,
   "metadata": {},
   "outputs": [
    {
     "name": "stderr",
     "output_type": "stream",
     "text": [
      "/mnt/hdd1/lxc-hdd1/tahjid/anaconda3/envs/tf-gpu/lib/python3.6/site-packages/keras/engine/network.py:180: UserWarning: Model inputs must come from `keras.layers.Input` (thus holding past layer metadata), they cannot be the output of a previous non-Input layer. Here, a tensor specified as input to your model was not an Input tensor, it was generated by layer concatenate_9.\n",
      "Note that input tensors are instantiated via `tensor = keras.layers.Input(shape)`.\n",
      "The tensor that caused the issue was: concatenate_9/concat:0\n",
      "  str(x.name))\n"
     ]
    },
    {
     "ename": "ValueError",
     "evalue": "Graph disconnected: cannot obtain value for tensor Tensor(\"input_36:0\", shape=(?, 1), dtype=float32) at layer \"input_36\". The following previous layers were accessed without issue: []",
     "output_type": "error",
     "traceback": [
      "\u001b[0;31m---------------------------------------------------------------------------\u001b[0m",
      "\u001b[0;31mValueError\u001b[0m                                Traceback (most recent call last)",
      "\u001b[0;32m<ipython-input-99-43769d3f8d02>\u001b[0m in \u001b[0;36m<module>\u001b[0;34m\u001b[0m\n\u001b[0;32m----> 1\u001b[0;31m \u001b[0mdis\u001b[0m \u001b[0;34m=\u001b[0m \u001b[0mdiscriminator\u001b[0m\u001b[0;34m(\u001b[0m\u001b[0;34m)\u001b[0m\u001b[0;34m\u001b[0m\u001b[0;34m\u001b[0m\u001b[0m\n\u001b[0m\u001b[1;32m      2\u001b[0m \u001b[0mplot_model\u001b[0m\u001b[0;34m(\u001b[0m\u001b[0mdis\u001b[0m\u001b[0;34m,\u001b[0m \u001b[0mto_file\u001b[0m \u001b[0;34m=\u001b[0m \u001b[0;34m\"discriminator_plot.png\"\u001b[0m\u001b[0;34m,\u001b[0m \u001b[0mshow_shapes\u001b[0m \u001b[0;34m=\u001b[0m \u001b[0;32mTrue\u001b[0m\u001b[0;34m,\u001b[0m \u001b[0mshow_layer_names\u001b[0m \u001b[0;34m=\u001b[0m \u001b[0;32mTrue\u001b[0m\u001b[0;34m)\u001b[0m\u001b[0;34m\u001b[0m\u001b[0;34m\u001b[0m\u001b[0m\n",
      "\u001b[0;32m<ipython-input-98-4f17d5f16d56>\u001b[0m in \u001b[0;36mdiscriminator\u001b[0;34m(phase_train, n_classes, params)\u001b[0m\n\u001b[1;32m     56\u001b[0m     \u001b[0md6\u001b[0m \u001b[0;34m=\u001b[0m \u001b[0mDropout\u001b[0m\u001b[0;34m(\u001b[0m\u001b[0;36m0.4\u001b[0m\u001b[0;34m)\u001b[0m\u001b[0;34m(\u001b[0m\u001b[0md6\u001b[0m\u001b[0;34m)\u001b[0m\u001b[0;34m\u001b[0m\u001b[0;34m\u001b[0m\u001b[0m\n\u001b[1;32m     57\u001b[0m     \u001b[0md6\u001b[0m \u001b[0;34m=\u001b[0m \u001b[0mDense\u001b[0m\u001b[0;34m(\u001b[0m\u001b[0;36m1\u001b[0m\u001b[0;34m,\u001b[0m \u001b[0mactivation\u001b[0m\u001b[0;34m=\u001b[0m\u001b[0;34m'sigmoid'\u001b[0m\u001b[0;34m)\u001b[0m\u001b[0;34m(\u001b[0m\u001b[0md6\u001b[0m\u001b[0;34m)\u001b[0m\u001b[0;34m\u001b[0m\u001b[0;34m\u001b[0m\u001b[0m\n\u001b[0;32m---> 58\u001b[0;31m     \u001b[0mmodel\u001b[0m \u001b[0;34m=\u001b[0m \u001b[0mModel\u001b[0m\u001b[0;34m(\u001b[0m\u001b[0minputs\u001b[0m\u001b[0;34m=\u001b[0m\u001b[0mmerge_inputs\u001b[0m\u001b[0;34m,\u001b[0m \u001b[0moutputs\u001b[0m\u001b[0;34m=\u001b[0m\u001b[0md6\u001b[0m\u001b[0;34m)\u001b[0m\u001b[0;34m\u001b[0m\u001b[0;34m\u001b[0m\u001b[0m\n\u001b[0m\u001b[1;32m     59\u001b[0m     \u001b[0mmodel\u001b[0m\u001b[0;34m.\u001b[0m\u001b[0msummary\u001b[0m\u001b[0;34m(\u001b[0m\u001b[0;34m)\u001b[0m\u001b[0;34m\u001b[0m\u001b[0;34m\u001b[0m\u001b[0m\n\u001b[1;32m     60\u001b[0m \u001b[0;34m\u001b[0m\u001b[0m\n",
      "\u001b[0;32m/mnt/hdd1/lxc-hdd1/tahjid/anaconda3/envs/tf-gpu/lib/python3.6/site-packages/keras/legacy/interfaces.py\u001b[0m in \u001b[0;36mwrapper\u001b[0;34m(*args, **kwargs)\u001b[0m\n\u001b[1;32m     89\u001b[0m                 warnings.warn('Update your `' + object_name + '` call to the ' +\n\u001b[1;32m     90\u001b[0m                               'Keras 2 API: ' + signature, stacklevel=2)\n\u001b[0;32m---> 91\u001b[0;31m             \u001b[0;32mreturn\u001b[0m \u001b[0mfunc\u001b[0m\u001b[0;34m(\u001b[0m\u001b[0;34m*\u001b[0m\u001b[0margs\u001b[0m\u001b[0;34m,\u001b[0m \u001b[0;34m**\u001b[0m\u001b[0mkwargs\u001b[0m\u001b[0;34m)\u001b[0m\u001b[0;34m\u001b[0m\u001b[0;34m\u001b[0m\u001b[0m\n\u001b[0m\u001b[1;32m     92\u001b[0m         \u001b[0mwrapper\u001b[0m\u001b[0;34m.\u001b[0m\u001b[0m_original_function\u001b[0m \u001b[0;34m=\u001b[0m \u001b[0mfunc\u001b[0m\u001b[0;34m\u001b[0m\u001b[0;34m\u001b[0m\u001b[0m\n\u001b[1;32m     93\u001b[0m         \u001b[0;32mreturn\u001b[0m \u001b[0mwrapper\u001b[0m\u001b[0;34m\u001b[0m\u001b[0;34m\u001b[0m\u001b[0m\n",
      "\u001b[0;32m/mnt/hdd1/lxc-hdd1/tahjid/anaconda3/envs/tf-gpu/lib/python3.6/site-packages/keras/engine/network.py\u001b[0m in \u001b[0;36m__init__\u001b[0;34m(self, *args, **kwargs)\u001b[0m\n\u001b[1;32m     91\u001b[0m                 'inputs' in kwargs and 'outputs' in kwargs):\n\u001b[1;32m     92\u001b[0m             \u001b[0;31m# Graph network\u001b[0m\u001b[0;34m\u001b[0m\u001b[0;34m\u001b[0m\u001b[0;34m\u001b[0m\u001b[0m\n\u001b[0;32m---> 93\u001b[0;31m             \u001b[0mself\u001b[0m\u001b[0;34m.\u001b[0m\u001b[0m_init_graph_network\u001b[0m\u001b[0;34m(\u001b[0m\u001b[0;34m*\u001b[0m\u001b[0margs\u001b[0m\u001b[0;34m,\u001b[0m \u001b[0;34m**\u001b[0m\u001b[0mkwargs\u001b[0m\u001b[0;34m)\u001b[0m\u001b[0;34m\u001b[0m\u001b[0;34m\u001b[0m\u001b[0m\n\u001b[0m\u001b[1;32m     94\u001b[0m         \u001b[0;32melse\u001b[0m\u001b[0;34m:\u001b[0m\u001b[0;34m\u001b[0m\u001b[0;34m\u001b[0m\u001b[0m\n\u001b[1;32m     95\u001b[0m             \u001b[0;31m# Subclassed network\u001b[0m\u001b[0;34m\u001b[0m\u001b[0;34m\u001b[0m\u001b[0;34m\u001b[0m\u001b[0m\n",
      "\u001b[0;32m/mnt/hdd1/lxc-hdd1/tahjid/anaconda3/envs/tf-gpu/lib/python3.6/site-packages/keras/engine/network.py\u001b[0m in \u001b[0;36m_init_graph_network\u001b[0;34m(self, inputs, outputs, name)\u001b[0m\n\u001b[1;32m    229\u001b[0m         \u001b[0;31m# Keep track of the network's nodes and layers.\u001b[0m\u001b[0;34m\u001b[0m\u001b[0;34m\u001b[0m\u001b[0;34m\u001b[0m\u001b[0m\n\u001b[1;32m    230\u001b[0m         nodes, nodes_by_depth, layers, layers_by_depth = _map_graph_network(\n\u001b[0;32m--> 231\u001b[0;31m             self.inputs, self.outputs)\n\u001b[0m\u001b[1;32m    232\u001b[0m         \u001b[0mself\u001b[0m\u001b[0;34m.\u001b[0m\u001b[0m_network_nodes\u001b[0m \u001b[0;34m=\u001b[0m \u001b[0mnodes\u001b[0m\u001b[0;34m\u001b[0m\u001b[0;34m\u001b[0m\u001b[0m\n\u001b[1;32m    233\u001b[0m         \u001b[0mself\u001b[0m\u001b[0;34m.\u001b[0m\u001b[0m_nodes_by_depth\u001b[0m \u001b[0;34m=\u001b[0m \u001b[0mnodes_by_depth\u001b[0m\u001b[0;34m\u001b[0m\u001b[0;34m\u001b[0m\u001b[0m\n",
      "\u001b[0;32m/mnt/hdd1/lxc-hdd1/tahjid/anaconda3/envs/tf-gpu/lib/python3.6/site-packages/keras/engine/network.py\u001b[0m in \u001b[0;36m_map_graph_network\u001b[0;34m(inputs, outputs)\u001b[0m\n\u001b[1;32m   1441\u001b[0m                                          \u001b[0;34m'The following previous layers '\u001b[0m\u001b[0;34m\u001b[0m\u001b[0;34m\u001b[0m\u001b[0m\n\u001b[1;32m   1442\u001b[0m                                          \u001b[0;34m'were accessed without issue: '\u001b[0m \u001b[0;34m+\u001b[0m\u001b[0;34m\u001b[0m\u001b[0;34m\u001b[0m\u001b[0m\n\u001b[0;32m-> 1443\u001b[0;31m                                          str(layers_with_complete_input))\n\u001b[0m\u001b[1;32m   1444\u001b[0m                 \u001b[0;32mfor\u001b[0m \u001b[0mx\u001b[0m \u001b[0;32min\u001b[0m \u001b[0mnode\u001b[0m\u001b[0;34m.\u001b[0m\u001b[0moutput_tensors\u001b[0m\u001b[0;34m:\u001b[0m\u001b[0;34m\u001b[0m\u001b[0;34m\u001b[0m\u001b[0m\n\u001b[1;32m   1445\u001b[0m                     \u001b[0mcomputable_tensors\u001b[0m\u001b[0;34m.\u001b[0m\u001b[0mappend\u001b[0m\u001b[0;34m(\u001b[0m\u001b[0mx\u001b[0m\u001b[0;34m)\u001b[0m\u001b[0;34m\u001b[0m\u001b[0;34m\u001b[0m\u001b[0m\n",
      "\u001b[0;31mValueError\u001b[0m: Graph disconnected: cannot obtain value for tensor Tensor(\"input_36:0\", shape=(?, 1), dtype=float32) at layer \"input_36\". The following previous layers were accessed without issue: []"
     ]
    }
   ],
   "source": [
    "dis = discriminator()\n",
    "plot_model(dis, to_file = \"discriminator_plot.png\", show_shapes = True, show_layer_names = True)"
   ]
  }
 ],
 "metadata": {
  "kernelspec": {
   "display_name": "Python 3",
   "language": "python",
   "name": "python3"
  },
  "language_info": {
   "codemirror_mode": {
    "name": "ipython",
    "version": 3
   },
   "file_extension": ".py",
   "mimetype": "text/x-python",
   "name": "python",
   "nbconvert_exporter": "python",
   "pygments_lexer": "ipython3",
   "version": "3.6.12"
  }
 },
 "nbformat": 4,
 "nbformat_minor": 4
}
