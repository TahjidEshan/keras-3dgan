{
 "cells": [
  {
   "cell_type": "code",
   "execution_count": 1,
   "metadata": {},
   "outputs": [
    {
     "name": "stderr",
     "output_type": "stream",
     "text": [
      "Using TensorFlow backend.\n",
      "/mnt/hdd1/lxc-hdd1/tahjid/anaconda3/envs/tf-gpu/lib/python3.6/site-packages/tensorflow/python/framework/dtypes.py:523: FutureWarning: Passing (type, 1) or '1type' as a synonym of type is deprecated; in a future version of numpy, it will be understood as (type, (1,)) / '(1,)type'.\n",
      "  _np_qint8 = np.dtype([(\"qint8\", np.int8, 1)])\n",
      "/mnt/hdd1/lxc-hdd1/tahjid/anaconda3/envs/tf-gpu/lib/python3.6/site-packages/tensorflow/python/framework/dtypes.py:524: FutureWarning: Passing (type, 1) or '1type' as a synonym of type is deprecated; in a future version of numpy, it will be understood as (type, (1,)) / '(1,)type'.\n",
      "  _np_quint8 = np.dtype([(\"quint8\", np.uint8, 1)])\n",
      "/mnt/hdd1/lxc-hdd1/tahjid/anaconda3/envs/tf-gpu/lib/python3.6/site-packages/tensorflow/python/framework/dtypes.py:525: FutureWarning: Passing (type, 1) or '1type' as a synonym of type is deprecated; in a future version of numpy, it will be understood as (type, (1,)) / '(1,)type'.\n",
      "  _np_qint16 = np.dtype([(\"qint16\", np.int16, 1)])\n",
      "/mnt/hdd1/lxc-hdd1/tahjid/anaconda3/envs/tf-gpu/lib/python3.6/site-packages/tensorflow/python/framework/dtypes.py:526: FutureWarning: Passing (type, 1) or '1type' as a synonym of type is deprecated; in a future version of numpy, it will be understood as (type, (1,)) / '(1,)type'.\n",
      "  _np_quint16 = np.dtype([(\"quint16\", np.uint16, 1)])\n",
      "/mnt/hdd1/lxc-hdd1/tahjid/anaconda3/envs/tf-gpu/lib/python3.6/site-packages/tensorflow/python/framework/dtypes.py:527: FutureWarning: Passing (type, 1) or '1type' as a synonym of type is deprecated; in a future version of numpy, it will be understood as (type, (1,)) / '(1,)type'.\n",
      "  _np_qint32 = np.dtype([(\"qint32\", np.int32, 1)])\n",
      "/mnt/hdd1/lxc-hdd1/tahjid/anaconda3/envs/tf-gpu/lib/python3.6/site-packages/tensorflow/python/framework/dtypes.py:532: FutureWarning: Passing (type, 1) or '1type' as a synonym of type is deprecated; in a future version of numpy, it will be understood as (type, (1,)) / '(1,)type'.\n",
      "  np_resource = np.dtype([(\"resource\", np.ubyte, 1)])\n"
     ]
    }
   ],
   "source": [
    "import os\n",
    "import nibabel as nib\n",
    "import numpy as np\n",
    "from scipy.ndimage.interpolation import zoom\n",
    "import scipy as sp\n",
    "from tqdm import tqdm, trange\n",
    "from tqdm.notebook import tqdm_notebook\n",
    "\n",
    "import keras\n",
    "from keras.models import Model, Sequential\n",
    "from keras.layers import Input, Dense, Reshape, Flatten, LeakyReLU, Dropout, Embedding, Concatenate\n",
    "from keras.layers.core import Activation\n",
    "from keras.layers.convolutional import Conv3D, Deconv3D\n",
    "from keras.layers.advanced_activations import LeakyReLU\n",
    "from keras.layers.normalization import BatchNormalization\n",
    "from keras.utils.vis_utils import plot_model\n",
    "from keras.optimizers import Adam\n",
    "import tensorflow as tf\n",
    "from keras.utils import multi_gpu_model\n",
    "from keras.utils import generic_utils as keras_generic_utils\n",
    "import keras.backend as K\n",
    "\n",
    "import skimage.transform as skt\n",
    "\n",
    "def load_nifti(file_path, mask=None, z_factor=None, remove_nan=False):\n",
    "    \"\"\"Load a 3D array from a NIFTI file.\"\"\"\n",
    "    img = nib.load(file_path)\n",
    "    struct_arr = np.array(img.get_fdata())\n",
    "\n",
    "    if remove_nan:\n",
    "        struct_arr = np.nan_to_num(struct_arr)\n",
    "    if mask is not None:\n",
    "        struct_arr *= mask\n",
    "    if z_factor is not None:\n",
    "        struct_arr = np.around(zoom(struct_arr, z_factor), 0)\n",
    "\n",
    "    return struct_arr\n",
    "\n",
    "\n",
    "def save_nifti(file_path, struct_arr):\n",
    "    \"\"\"Save a 3D array to a NIFTI file.\"\"\"\n",
    "    img = nib.Nifti1Image(struct_arr, np.eye(4))\n",
    "    nib.save(img, file_path)"
   ]
  },
  {
   "cell_type": "code",
   "execution_count": 2,
   "metadata": {},
   "outputs": [
    {
     "name": "stderr",
     "output_type": "stream",
     "text": [
      "  0%|          | 0/2 [00:00<?, ?it/s]\n",
      "100%|██████████| 299/299 [00:00<00:00, 2263712.81it/s]\n",
      "\n",
      "100%|██████████| 626/626 [00:00<00:00, 317642.67it/s]\n",
      " 50%|█████     | 1/2 [00:00<00:00,  6.01it/s]\n",
      "100%|██████████| 299/299 [00:00<00:00, 886914.35it/s]\n",
      "\n",
      "100%|██████████| 714/714 [00:00<00:00, 23364.41it/s]\n",
      "100%|██████████| 2/2 [00:00<00:00,  5.77it/s]\n",
      "100%|██████████| 1170/1170 [00:00<00:00, 99320.68it/s]\n"
     ]
    }
   ],
   "source": [
    "def prepareData(use_smooth = False, runningOnServer = True):\n",
    "    rootDir = 'C:/Users/Eshan/Google Drive UALBERTA/Data/' if not runningOnServer else '/mnt/hdd1/lxc-hdd1/tahjid/PD Data/'\n",
    "    patientList, patientNumbers, dataset = [], [], []\n",
    "    labelMap = dict(Control=0, PD=1)\n",
    "    typeMap = dict(FullScan=0, GrayMatter=1, WhiteMatter=2)\n",
    "    fullScanPath = rootDir + 'FinalData/'\n",
    "    wmgmpath = rootDir + 'FinalDataWMGM/' if not use_smooth else rootDir + 'FinalDataWMGMSmooth/'\n",
    "    prefix = 'mwp' if not use_smooth else 'smwp'\n",
    "    ext = '.nii'\n",
    "    for i in tqdm(['Control', 'PD']):\n",
    "        path = fullScanPath + i + '/'\n",
    "        listOfFiles = [f for f in os.listdir(path) if f.endswith(ext)]\n",
    "        for file in tqdm(listOfFiles):\n",
    "            patientNumbers.append(file[:4])\n",
    "        path = wmgmpath + i + '/'\n",
    "        listOfFiles = [f for f in os.listdir(path) if f.endswith(ext)]\n",
    "        for file in tqdm(listOfFiles):\n",
    "            filename = file[4:8] if not use_smooth else file[5:9]\n",
    "            if filename not in patientNumbers:\n",
    "                continue\n",
    "            if not use_smooth:\n",
    "                patientList.append([i, file[4:8]])\n",
    "            else:\n",
    "                patientList.append([i, file[5:9]])\n",
    "\n",
    "    for i in tqdm(patientList):\n",
    "        path = fullScanPath + i[0] + '/'\n",
    "        patientIdVal = i[1]\n",
    "        fullScanvalue = os.path.join(path + i[1] + ext)\n",
    "        path = wmgmpath + i[0] + '/'\n",
    "        gmval = os.path.join(path + prefix + str(typeMap['GrayMatter']) + i[1] + ext)\n",
    "        wmval = os.path.join(path + prefix + str(typeMap['WhiteMatter']) + i[1] + ext)\n",
    "        labelval = labelMap[i[0]]\n",
    "        dataset.append([patientIdVal,fullScanvalue, gmval, wmval, labelval])\n",
    "    return np.array(dataset)\n",
    "dataset = prepareData()"
   ]
  },
  {
   "cell_type": "code",
   "execution_count": 24,
   "metadata": {
    "pycharm": {
     "name": "#%%\n"
    }
   },
   "outputs": [],
   "source": [
    "from sklearn.model_selection import train_test_split\n"
   ]
  },
  {
   "cell_type": "code",
   "execution_count": 27,
   "metadata": {
    "pycharm": {
     "name": "#%%\n"
    }
   },
   "outputs": [],
   "source": [
    "x_train, x_test, y_train, y_test = train_test_split(X, y, test_size=.20, random_state=42)\n"
   ]
  },
  {
   "cell_type": "code",
   "execution_count": 3,
   "metadata": {},
   "outputs": [],
   "source": [
    "def normalize(input):\n",
    "    return 2*(input-input.min())/(input.max()-input.min())-1\n",
    "\n",
    "class DataGenerator(keras.utils.Sequence):\n",
    "    'Generates data for Keras'\n",
    "    def __init__(self, data, labels, batch_size=2, dim1=(91,109,91), dim2=(242,145,121) , n_channels=1,\n",
    "                 n_classes=2, shuffle=True, target_size = 256, resize = True, normalize = True):\n",
    "        'Initialization'\n",
    "        self.dim = dim2\n",
    "#         self.dim2 = dim2\n",
    "        self.batch_size = batch_size\n",
    "        self.labels = list(labels)\n",
    "        self.data = data\n",
    "        self.n_channels = n_channels\n",
    "        self.n_classes = n_classes\n",
    "        self.shuffle = shuffle\n",
    "        self.list_IDs = list(data[:,:1])\n",
    "        self.resize = resize\n",
    "        self.normalize = normalize\n",
    "        self.target_size = tuple(int(a) for a in (target_size/4, target_size/2, target_size/2))\n",
    "        self.on_epoch_end()\n",
    "\n",
    "    def __len__(self):\n",
    "        'Denotes the number of batches per epoch'\n",
    "        return int(np.floor(len(self.list_IDs) / self.batch_size))\n",
    "    \n",
    "    def __numbatches__(self):\n",
    "        return int(np.floor(len(self.list_IDs) / self.__len__()))\n",
    "    \n",
    "    def __getitem__(self, index):\n",
    "        'Generate one batch of data'\n",
    "        # Generate indexes of the batch\n",
    "        indexes = self.indexes[index*self.batch_size:(index+1)*self.batch_size]\n",
    "        # print(indexes)\n",
    "        # Find list of IDs\n",
    "        # list_IDs_temp = [self.list_IDs[k] for k in indexes]\n",
    "\n",
    "        # Generate data\n",
    "        X, y = self.__data_generation(indexes)\n",
    "\n",
    "        return X, y\n",
    "\n",
    "    def on_epoch_end(self):\n",
    "        'Updates indexes after each epoch'\n",
    "        self.indexes = np.arange(len(self.list_IDs))\n",
    "        if self.shuffle:\n",
    "            np.random.shuffle(self.indexes)\n",
    "\n",
    "    def __data_generation(self, indexes):\n",
    "        'Generates data containing batch_size samples' # X : (n_samples, *dim, n_channels)\n",
    "        # Initialization\n",
    "#         fs = np.empty((self.batch_size, *self.dim1, self.n_channels))\n",
    "#         gm = np.empty((self.batch_size, *self.dim2, self.n_channels))\n",
    "#         wm = np.empty((self.batch_size, *self.dim2, self.n_channels))\n",
    "#         gmwm = np.empty((self.batch_size, *self.dim, self.n_channels))\n",
    "        gmwm = np.empty((self.batch_size, self.target_size[1], self.target_size[1], self.target_size[2], self.n_channels))\n",
    "        y = np.empty((self.batch_size), dtype=int)\n",
    "\n",
    "        # Generate data\n",
    "        for i, count in enumerate(indexes):\n",
    "            val = self.data[count]\n",
    "#             fullscan = load_nifti(val[1])\n",
    "            graymatter = load_nifti(val[2])\n",
    "            whitematter = load_nifti(val[3])\n",
    "        \n",
    "            graymatter = graymatter.astype(np.float64)\n",
    "            whitematter = whitematter.astype(np.float64)\n",
    "            \n",
    "            if self.normalize:\n",
    "                graymatter = normalize(graymatter)\n",
    "                whitematter = normalize(whitematter)\n",
    "            \n",
    "            if self.resize:\n",
    "                graymatter = skt.resize(graymatter, self.target_size, mode = 'constant')\n",
    "                whitematter = skt.resize(whitematter, self.target_size, mode = 'constant')\n",
    "            \n",
    "            graymatter = graymatter.astype(np.float32)\n",
    "            whitematter = whitematter.astype(np.float32)\n",
    "            \n",
    "            # print(fullscan.shape, graymatter.shape, whitematter.shape)\n",
    "            # break\n",
    "            # Store sample\n",
    "#             fs[i,] = fullscan[..., np.newaxis]\n",
    "#             gm[i,] = graymatter[..., np.newaxis]\n",
    "#             wm[i,] = whitematter[..., np.newaxis]\n",
    "#             print(graymatter.shape)\n",
    "#             print(whitematter.shape)\n",
    "            gmwm[i,] = np.concatenate((graymatter, whitematter))[..., np.newaxis]\n",
    "\n",
    "\n",
    "            # Store class\n",
    "            y[i] = self.labels[i]\n",
    "\n",
    "        return gmwm, y #keras.utils.to_categorical(y, num_classes=self.n_classes)\n",
    "    "
   ]
  },
  {
   "cell_type": "code",
   "execution_count": 13,
   "metadata": {},
   "outputs": [],
   "source": [
    "X = dataset[:,:4]\n",
    "y = dataset[:,4:]\n",
    "d = DataGenerator(X, y)\n"
   ]
  },
  {
   "cell_type": "code",
   "execution_count": 28,
   "metadata": {},
   "outputs": [
    {
     "data": {
      "text/plain": [
       "2"
      ]
     },
     "execution_count": 28,
     "metadata": {},
     "output_type": "execute_result"
    }
   ],
   "source": [
    "d.__numbatches__()"
   ]
  },
  {
   "cell_type": "code",
   "execution_count": 14,
   "metadata": {
    "pycharm": {
     "name": "#%%\n"
    },
    "scrolled": false
   },
   "outputs": [],
   "source": [
    "a = d.__getitem__(0)\n",
    "# b = np.concatenate((a[1][0].reshape(121,145,121), a[1][0].reshape(121,145,121)), axis=0)"
   ]
  },
  {
   "cell_type": "code",
   "execution_count": 15,
   "metadata": {},
   "outputs": [
    {
     "data": {
      "text/plain": [
       "(128, 128, 128, 1)"
      ]
     },
     "execution_count": 15,
     "metadata": {},
     "output_type": "execute_result"
    }
   ],
   "source": [
    "a[0][0].shape"
   ]
  },
  {
   "cell_type": "code",
   "execution_count": 4,
   "metadata": {
    "pycharm": {
     "name": "#%%\n"
    }
   },
   "outputs": [],
   "source": [
    "def gen(phase_train=True, n_classes = 2 ,params={'z_size':500, 'strides':(2,2,2), 'kernel_size':(4,4,4)}):\n",
    "    \"\"\"\n",
    "    Returns a Generator Model with input params and phase_train\n",
    "    Args:\n",
    "        phase_train (boolean): training phase or not\n",
    "        params (dict): Dictionary with model parameters\n",
    "    Returns:\n",
    "        model (keras.Model): Keras Generator model\n",
    "    \"\"\"\n",
    "\n",
    "    z_size = params['z_size']\n",
    "    strides = params['strides']\n",
    "    kernel_size = params['kernel_size']\n",
    "    \n",
    "    in_label = Input(shape=(1,))\n",
    "    li = Embedding(n_classes, 50)(in_label)\n",
    "    li = Dense(z_size)(li)\n",
    "    li = Reshape((1,1,1,z_size))(li)\n",
    "    \n",
    "    \n",
    "    inputs = Input(shape=(1, 1, 1, z_size))\n",
    "    \n",
    "    \n",
    "    merge_inputs = Concatenate()([inputs, li])\n",
    "    \n",
    "    g1 = Deconv3D(filters=128, kernel_size=kernel_size,\n",
    "                  strides=(1, 1, 1), kernel_initializer='glorot_normal',\n",
    "                  bias_initializer='zeros', padding='valid')(merge_inputs)\n",
    "    g1 = BatchNormalization()(g1, training=phase_train)\n",
    "    g1 = Activation(activation='relu')(g1)\n",
    "\n",
    "    g2 = Deconv3D(filters=64, kernel_size=kernel_size,\n",
    "                  strides=strides, kernel_initializer='glorot_normal',\n",
    "                  bias_initializer='zeros', padding='same')(g1)\n",
    "    g2 = BatchNormalization()(g2, training=phase_train)\n",
    "    g2 = Activation(activation='relu')(g2)\n",
    "\n",
    "    g3 = Deconv3D(filters=32, kernel_size=kernel_size,\n",
    "                  strides=strides, kernel_initializer='glorot_normal',\n",
    "                  bias_initializer='zeros', padding='same')(g2)\n",
    "    g3 = BatchNormalization()(g3, training=phase_train)\n",
    "    g3 = Activation(activation='relu')(g3)\n",
    "\n",
    "    g4 = Deconv3D(filters=16, kernel_size=kernel_size,\n",
    "                  strides=strides, kernel_initializer='glorot_normal',\n",
    "                  bias_initializer='zeros', padding='same')(g3)\n",
    "    g4 = BatchNormalization()(g4, training=phase_train)\n",
    "    g4 = Activation(activation='relu')(g4)\n",
    "\n",
    "    g5 = Deconv3D(filters=1, kernel_size=kernel_size,\n",
    "                  strides=strides, kernel_initializer='glorot_normal',\n",
    "                  bias_initializer='zeros', padding='same')(g4)\n",
    "    g5 = BatchNormalization()(g5, training=phase_train)\n",
    "    g5 = Activation(activation='sigmoid')(g5)\n",
    "\n",
    "    model = Model(inputs=[inputs, in_label], outputs=g5)\n",
    "#     model.summary()\n",
    "\n",
    "    return model"
   ]
  },
  {
   "cell_type": "code",
   "execution_count": 22,
   "metadata": {
    "pycharm": {
     "name": "#%%\n"
    },
    "scrolled": true
   },
   "outputs": [
    {
     "name": "stdout",
     "output_type": "stream",
     "text": [
      "__________________________________________________________________________________________________\n",
      "Layer (type)                    Output Shape         Param #     Connected to                     \n",
      "==================================================================================================\n",
      "input_7 (InputLayer)            (None, 1)            0                                            \n",
      "__________________________________________________________________________________________________\n",
      "embedding_4 (Embedding)         (None, 1, 50)        100         input_7[0][0]                    \n",
      "__________________________________________________________________________________________________\n",
      "dense_4 (Dense)                 (None, 1, 500)       25500       embedding_4[0][0]                \n",
      "__________________________________________________________________________________________________\n",
      "input_8 (InputLayer)            (None, 1, 1, 1, 500) 0                                            \n",
      "__________________________________________________________________________________________________\n",
      "reshape_4 (Reshape)             (None, 1, 1, 1, 500) 0           dense_4[0][0]                    \n",
      "__________________________________________________________________________________________________\n",
      "concatenate_4 (Concatenate)     (None, 1, 1, 1, 1000 0           input_8[0][0]                    \n",
      "                                                                 reshape_4[0][0]                  \n",
      "__________________________________________________________________________________________________\n",
      "conv3d_transpose_16 (Conv3DTran (None, 4, 4, 4, 512) 32768512    concatenate_4[0][0]              \n",
      "__________________________________________________________________________________________________\n",
      "batch_normalization_16 (BatchNo (None, 4, 4, 4, 512) 2048        conv3d_transpose_16[0][0]        \n",
      "__________________________________________________________________________________________________\n",
      "activation_16 (Activation)      (None, 4, 4, 4, 512) 0           batch_normalization_16[0][0]     \n",
      "__________________________________________________________________________________________________\n",
      "conv3d_transpose_17 (Conv3DTran (None, 8, 8, 8, 256) 8388864     activation_16[0][0]              \n",
      "__________________________________________________________________________________________________\n",
      "batch_normalization_17 (BatchNo (None, 8, 8, 8, 256) 1024        conv3d_transpose_17[0][0]        \n",
      "__________________________________________________________________________________________________\n",
      "activation_17 (Activation)      (None, 8, 8, 8, 256) 0           batch_normalization_17[0][0]     \n",
      "__________________________________________________________________________________________________\n",
      "conv3d_transpose_18 (Conv3DTran (None, 16, 16, 16, 1 2097280     activation_17[0][0]              \n",
      "__________________________________________________________________________________________________\n",
      "batch_normalization_18 (BatchNo (None, 16, 16, 16, 1 512         conv3d_transpose_18[0][0]        \n",
      "__________________________________________________________________________________________________\n",
      "activation_18 (Activation)      (None, 16, 16, 16, 1 0           batch_normalization_18[0][0]     \n",
      "__________________________________________________________________________________________________\n",
      "conv3d_transpose_19 (Conv3DTran (None, 32, 32, 32, 6 524352      activation_18[0][0]              \n",
      "__________________________________________________________________________________________________\n",
      "batch_normalization_19 (BatchNo (None, 32, 32, 32, 6 256         conv3d_transpose_19[0][0]        \n",
      "__________________________________________________________________________________________________\n",
      "activation_19 (Activation)      (None, 32, 32, 32, 6 0           batch_normalization_19[0][0]     \n",
      "__________________________________________________________________________________________________\n",
      "conv3d_transpose_20 (Conv3DTran (None, 64, 64, 64, 1 4097        activation_19[0][0]              \n",
      "__________________________________________________________________________________________________\n",
      "batch_normalization_20 (BatchNo (None, 64, 64, 64, 1 4           conv3d_transpose_20[0][0]        \n",
      "__________________________________________________________________________________________________\n",
      "activation_20 (Activation)      (None, 64, 64, 64, 1 0           batch_normalization_20[0][0]     \n",
      "==================================================================================================\n",
      "Total params: 43,812,549\n",
      "Trainable params: 43,810,627\n",
      "Non-trainable params: 1,922\n",
      "__________________________________________________________________________________________________\n"
     ]
    }
   ],
   "source": [
    "model = gen()\n",
    "model.summary()\n",
    "# plt.show()\n",
    "plot_model(model, to_file = \"generator_plot.png\", show_shapes = True, show_layer_names = True)\n",
    "# "
   ]
  },
  {
   "cell_type": "code",
   "execution_count": 5,
   "metadata": {},
   "outputs": [],
   "source": [
    "def dis(phase_train = True, n_classes = 2, params={'cube_len':64, 'strides':(2,2,2), 'kernel_size':(4,4,4), 'leak_value':0.2}):\n",
    "    \"\"\"\n",
    "    Returns a Discriminator Model with input params and phase_train \n",
    "    Args:\n",
    "        phase_train (boolean): training phase or not\n",
    "        params (dict): Dictionary with model parameters    \n",
    "    Returns:\n",
    "        model (keras.Model): Keras Discriminator model\n",
    "    \"\"\"\n",
    "    cube_len = params['cube_len']\n",
    "    strides = params['strides']\n",
    "    kernel_size = params['kernel_size'] \n",
    "    leak_value = params['leak_value']\n",
    "    \n",
    "    in_label = Input(shape=(1,))\n",
    "    li = Embedding(n_classes, 5)(in_label)\n",
    "    n_nodes = cube_len * cube_len * cube_len\n",
    "    li = Dense(n_nodes)(li)\n",
    "    li = Reshape((cube_len, cube_len, cube_len, 1))(li)\n",
    "    \n",
    "    inputs = Input(shape=(cube_len, cube_len, cube_len, 1))\n",
    "    \n",
    "    merge_inputs = Concatenate()([inputs, li])\n",
    "    \n",
    "    d1 = Conv3D(filters=16, kernel_size=kernel_size,\n",
    "                  strides=strides, kernel_initializer='glorot_normal',\n",
    "                  bias_initializer='zeros', padding='same')(merge_inputs)\n",
    "    d1 = BatchNormalization()(d1, training=phase_train)\n",
    "    d1 = LeakyReLU(leak_value)(d1)\n",
    "\n",
    "    d2 = Conv3D(filters=32, kernel_size=kernel_size,\n",
    "                  strides=strides, kernel_initializer='glorot_normal',\n",
    "                  bias_initializer='zeros', padding='same')(d1)\n",
    "    d2 = BatchNormalization()(d2, training=phase_train)\n",
    "    d2 = LeakyReLU(leak_value)(d2)\n",
    "\n",
    "    d3 = Conv3D(filters=64, kernel_size=kernel_size,\n",
    "                  strides=strides, kernel_initializer='glorot_normal',\n",
    "                  bias_initializer='zeros', padding='same')(d2)\n",
    "    d3 = BatchNormalization()(d3, training=phase_train)\n",
    "    d3 = LeakyReLU(leak_value)(d3)\n",
    "\n",
    "    d4 = Conv3D(filters=128, kernel_size=kernel_size,\n",
    "                  strides=strides, kernel_initializer='glorot_normal',\n",
    "                  bias_initializer='zeros', padding='same')(d3)\n",
    "    d4 = BatchNormalization()(d4, training=phase_train)\n",
    "    d4 = LeakyReLU(leak_value)(d4)\n",
    "\n",
    "    d5 = Conv3D(filters=1, kernel_size=(1,1,1),\n",
    "                  strides=(1, 1, 1), kernel_initializer='glorot_normal',\n",
    "                  bias_initializer='zeros', padding='valid')(d4)\n",
    "    d5 = BatchNormalization()(d5, training=phase_train)\n",
    "    d5 = Activation(activation='sigmoid')(d5) \n",
    "    \n",
    "    d6 = Flatten()(d5)\n",
    "    d6 = Dropout(0.4)(d6)\n",
    "    d6 = Dense(1, activation='sigmoid')(d6)\n",
    "    model = Model(inputs=[inputs, in_label], outputs=d6)\n",
    "#     model.summary()\n",
    "\n",
    "    return model"
   ]
  },
  {
   "cell_type": "code",
   "execution_count": 15,
   "metadata": {},
   "outputs": [
    {
     "name": "stdout",
     "output_type": "stream",
     "text": [
      "__________________________________________________________________________________________________\n",
      "Layer (type)                    Output Shape         Param #     Connected to                     \n",
      "==================================================================================================\n",
      "input_11 (InputLayer)           (None, 1)            0                                            \n",
      "__________________________________________________________________________________________________\n",
      "embedding_6 (Embedding)         (None, 1, 5)         10          input_11[0][0]                   \n",
      "__________________________________________________________________________________________________\n",
      "dense_9 (Dense)                 (None, 1, 262144)    1572864     embedding_6[0][0]                \n",
      "__________________________________________________________________________________________________\n",
      "input_12 (InputLayer)           (None, 64, 64, 64, 1 0                                            \n",
      "__________________________________________________________________________________________________\n",
      "reshape_6 (Reshape)             (None, 64, 64, 64, 1 0           dense_9[0][0]                    \n",
      "__________________________________________________________________________________________________\n",
      "concatenate_6 (Concatenate)     (None, 64, 64, 64, 2 0           input_12[0][0]                   \n",
      "                                                                 reshape_6[0][0]                  \n",
      "__________________________________________________________________________________________________\n",
      "conv3d_16 (Conv3D)              (None, 32, 32, 32, 1 2064        concatenate_6[0][0]              \n",
      "__________________________________________________________________________________________________\n",
      "batch_normalization_26 (BatchNo (None, 32, 32, 32, 1 64          conv3d_16[0][0]                  \n",
      "__________________________________________________________________________________________________\n",
      "leaky_re_lu_13 (LeakyReLU)      (None, 32, 32, 32, 1 0           batch_normalization_26[0][0]     \n",
      "__________________________________________________________________________________________________\n",
      "conv3d_17 (Conv3D)              (None, 16, 16, 16, 3 32800       leaky_re_lu_13[0][0]             \n",
      "__________________________________________________________________________________________________\n",
      "batch_normalization_27 (BatchNo (None, 16, 16, 16, 3 128         conv3d_17[0][0]                  \n",
      "__________________________________________________________________________________________________\n",
      "leaky_re_lu_14 (LeakyReLU)      (None, 16, 16, 16, 3 0           batch_normalization_27[0][0]     \n",
      "__________________________________________________________________________________________________\n",
      "conv3d_18 (Conv3D)              (None, 8, 8, 8, 64)  131136      leaky_re_lu_14[0][0]             \n",
      "__________________________________________________________________________________________________\n",
      "batch_normalization_28 (BatchNo (None, 8, 8, 8, 64)  256         conv3d_18[0][0]                  \n",
      "__________________________________________________________________________________________________\n",
      "leaky_re_lu_15 (LeakyReLU)      (None, 8, 8, 8, 64)  0           batch_normalization_28[0][0]     \n",
      "__________________________________________________________________________________________________\n",
      "conv3d_19 (Conv3D)              (None, 4, 4, 4, 128) 524416      leaky_re_lu_15[0][0]             \n",
      "__________________________________________________________________________________________________\n",
      "batch_normalization_29 (BatchNo (None, 4, 4, 4, 128) 512         conv3d_19[0][0]                  \n",
      "__________________________________________________________________________________________________\n",
      "leaky_re_lu_16 (LeakyReLU)      (None, 4, 4, 4, 128) 0           batch_normalization_29[0][0]     \n",
      "__________________________________________________________________________________________________\n",
      "conv3d_20 (Conv3D)              (None, 4, 4, 4, 1)   129         leaky_re_lu_16[0][0]             \n",
      "__________________________________________________________________________________________________\n",
      "batch_normalization_30 (BatchNo (None, 4, 4, 4, 1)   4           conv3d_20[0][0]                  \n",
      "__________________________________________________________________________________________________\n",
      "activation_14 (Activation)      (None, 4, 4, 4, 1)   0           batch_normalization_30[0][0]     \n",
      "__________________________________________________________________________________________________\n",
      "flatten_4 (Flatten)             (None, 64)           0           activation_14[0][0]              \n",
      "__________________________________________________________________________________________________\n",
      "dropout_4 (Dropout)             (None, 64)           0           flatten_4[0][0]                  \n",
      "__________________________________________________________________________________________________\n",
      "dense_10 (Dense)                (None, 1)            65          dropout_4[0][0]                  \n",
      "==================================================================================================\n",
      "Total params: 2,264,448\n",
      "Trainable params: 2,263,966\n",
      "Non-trainable params: 482\n",
      "__________________________________________________________________________________________________\n"
     ]
    }
   ],
   "source": [
    "model = dis()\n",
    "model.summary()\n",
    "plot_model(model, to_file = \"discriminator_plot.png\", show_shapes = True, show_layer_names = True)"
   ]
  },
  {
   "cell_type": "code",
   "execution_count": 6,
   "metadata": {},
   "outputs": [],
   "source": [
    "def GAN(generator, discriminator):\n",
    "#     model = Sequential()\n",
    "#     model.add(generator)\n",
    "#     discriminator.trainable = False\n",
    "#     model.add(discriminator)\n",
    "\n",
    "    discriminator.trainable = False\n",
    "    g_image, g_label = generator.input\n",
    "    g_output = generator.output\n",
    "    gan_output = discriminator([g_output, g_label])\n",
    "    model = Model([g_image, g_label], gan_output)\n",
    "    model.summary()\n",
    "    return model"
   ]
  },
  {
   "cell_type": "code",
   "execution_count": 7,
   "metadata": {
    "scrolled": true
   },
   "outputs": [],
   "source": [
    "def train():\n",
    "    n_epochs   = 10000\n",
    "    batch_size = 1\n",
    "    g_lr       = 0.008\n",
    "    d_lr       = 0.000001\n",
    "    beta       = 0.5\n",
    "    z_size     = 500\n",
    "    obj_ratio  = 0.5\n",
    "    discriminator = dis()\n",
    "    generator = gen()\n",
    "    try:\n",
    "        discriminator = multi_gpu_model(discriminator, gpus = 4)\n",
    "        generator = multi_gpu_model(generator, gpus = 4)\n",
    "    except: \n",
    "        pass\n",
    "    discriminator_on_generator = GAN(generator, discriminator)\n",
    "    try:\n",
    "        discriminator_on_generator = multi_gpu_model(discriminator_on_generator, gpus = 4)\n",
    "#         generator = multi_gpu_model(generator)\n",
    "    except: \n",
    "        pass\n",
    "    \n",
    "    g_optim = Adam(lr=g_lr, beta_1=beta)\n",
    "    generator.compile(loss='binary_crossentropy', optimizer=\"SGD\")\n",
    "\n",
    "    d_optim = Adam(lr=d_lr, beta_1=0.9)\n",
    "    discriminator_on_generator.compile(loss='binary_crossentropy', optimizer=g_optim)\n",
    "    discriminator.trainable = True\n",
    "    discriminator.compile(loss='binary_crossentropy', optimizer=d_optim)\n",
    "  \n",
    "     \n",
    "    z_sample = np.random.normal(0, 0.33, size=[batch_size, 1, 1, 1, z_size]).astype(np.float32)\n",
    "#     volumes = d.getAll(obj=obj, train=True, is_local=is_local, obj_ratio=obj_ratio)\n",
    "    X = dataset[:,:4]\n",
    "    y = dataset[:,4:]\n",
    "    dataloader = DataGenerator(X, y, batch_size = batch_size, target_size = 128)\n",
    "    print('Data loaded .......')\n",
    "#     volumes = volu/mes[...,np.newaxis].astype(np.float) \n",
    "\n",
    "#     if not os.path.exists(train_sample_directory):\n",
    "#         os.makedirs(train_sample_directory)\n",
    "#     if not os.path.exists(model_directory):\n",
    "#         os.makedirs(model_directory)         \n",
    "\n",
    "    for epoch in trange(1):\n",
    "        for batch in trange(dataloader.__numbatches__()):\n",
    "            batchdata = dataloader.__getitem__(batch)\n",
    "#             print(batchdata[0].shape)\n",
    "#             idx = np.random.randint(len(volumes), size=batch_size)\n",
    "#             x = volumes[idx]\n",
    "            z = np.random.normal(0, 0.33, size=[batch_size, 1, 1, 1, z_size]).astype(np.float32)\n",
    "            scans = batchdata[0]\n",
    "            labels = batchdata[1]\n",
    "\n",
    "#             generated_volumes = generator.predict(z, verbose=0)\n",
    "\n",
    "#             X = np.concatenate((x, generated_volumes))\n",
    "#             Y = np.reshape(labels + [0]*batch_size, (batch_size,))\n",
    "            \n",
    "            d_loss = discriminator.train_on_batch([scans, labels], np.ones((batch_size, 1)))       \n",
    "            print(\"d_loss : %f\" % (d_loss))\n",
    "\n",
    "#             z = np.random.normal(0, 0.33, size=[batch_size, 1, 1, 1, z_size]).astype(np.float32)            \n",
    "#             discriminator.trainable = False\n",
    "#             g_loss = discriminator_on_generator.train_on_batch(z, np.reshape([1]*batch_size, (-1,1,1,1,1)))\n",
    "#             discriminator.trainable = True\n",
    "\n",
    "#             print(\"g_loss : %f\" % (g_loss))\n",
    "\n",
    "#             if epoch % 1000 == 10:\n",
    "#                 generator.save_weights(model_directory +'generator_' + str(epoch), True)\n",
    "#                 discriminator.save_weights(model_directory +'discriminator_' + str(epoch), True)\n",
    "\n",
    "#             if epoch % 500 == 10:\n",
    "#                 generated_volumes = generator.predict(z_sample, verbose=0)\n",
    "#                 generated_volumes.dump(train_sample_directory+'/'+str(epoch))  \n",
    "# train()        "
   ]
  },
  {
   "cell_type": "code",
   "execution_count": 9,
   "metadata": {},
   "outputs": [],
   "source": [
    "strategy = tf.contrib.distribute.MirroredStrategy()"
   ]
  },
  {
   "cell_type": "code",
   "execution_count": null,
   "metadata": {
    "scrolled": true
   },
   "outputs": [
    {
     "name": "stdout",
     "output_type": "stream",
     "text": [
      "__________________________________________________________________________________________________\n",
      "Layer (type)                    Output Shape         Param #     Connected to                     \n",
      "==================================================================================================\n",
      "input_4 (InputLayer)            (None, 1, 1, 1, 500) 0                                            \n",
      "__________________________________________________________________________________________________\n",
      "input_3 (InputLayer)            (None, 1)            0                                            \n",
      "__________________________________________________________________________________________________\n",
      "lambda_9 (Lambda)               (None, 1, 1, 1, 500) 0           input_4[0][0]                    \n",
      "__________________________________________________________________________________________________\n",
      "lambda_10 (Lambda)              (None, 1)            0           input_3[0][0]                    \n",
      "__________________________________________________________________________________________________\n",
      "lambda_11 (Lambda)              (None, 1, 1, 1, 500) 0           input_4[0][0]                    \n",
      "__________________________________________________________________________________________________\n",
      "lambda_12 (Lambda)              (None, 1)            0           input_3[0][0]                    \n",
      "__________________________________________________________________________________________________\n",
      "lambda_13 (Lambda)              (None, 1, 1, 1, 500) 0           input_4[0][0]                    \n",
      "__________________________________________________________________________________________________\n",
      "lambda_14 (Lambda)              (None, 1)            0           input_3[0][0]                    \n",
      "__________________________________________________________________________________________________\n",
      "lambda_15 (Lambda)              (None, 1, 1, 1, 500) 0           input_4[0][0]                    \n",
      "__________________________________________________________________________________________________\n",
      "lambda_16 (Lambda)              (None, 1)            0           input_3[0][0]                    \n",
      "__________________________________________________________________________________________________\n",
      "model_2 (Model)                 (None, 64, 64, 64, 1 8907957     lambda_9[0][0]                   \n",
      "                                                                 lambda_10[0][0]                  \n",
      "                                                                 lambda_11[0][0]                  \n",
      "                                                                 lambda_12[0][0]                  \n",
      "                                                                 lambda_13[0][0]                  \n",
      "                                                                 lambda_14[0][0]                  \n",
      "                                                                 lambda_15[0][0]                  \n",
      "                                                                 lambda_16[0][0]                  \n",
      "__________________________________________________________________________________________________\n",
      "activation_6 (Concatenate)      (None, 64, 64, 64, 1 0           model_2[1][0]                    \n",
      "                                                                 model_2[2][0]                    \n",
      "                                                                 model_2[3][0]                    \n",
      "                                                                 model_2[4][0]                    \n",
      "__________________________________________________________________________________________________\n",
      "model_3 (Model)                 (None, 1)            2264448     activation_6[0][0]               \n",
      "                                                                 input_3[0][0]                    \n",
      "==================================================================================================\n",
      "Total params: 11,172,405\n",
      "Trainable params: 8,907,475\n",
      "Non-trainable params: 2,264,930\n",
      "__________________________________________________________________________________________________\n",
      "Data loaded .......\n"
     ]
    },
    {
     "name": "stderr",
     "output_type": "stream",
     "text": [
      "  0%|          | 0/1 [00:00<?, ?it/s]\n",
      "  0%|          | 0/1 [00:00<?, ?it/s]\u001b[A"
     ]
    }
   ],
   "source": [
    "# with strategy.scope():\n",
    "#     train()\n",
    "train()"
   ]
  },
  {
   "cell_type": "code",
   "execution_count": 14,
   "metadata": {
    "scrolled": true
   },
   "outputs": [
    {
     "data": {
      "text/plain": [
       "MirroredVariable({'/replica:0/task:0/device:GPU:0': <tf.Variable 'Variable:0' shape=() dtype=int32>, '/replica:0/task:0/device:GPU:1': <tf.Variable 'Variable/replica_1:0' shape=() dtype=int32>, '/replica:0/task:0/device:GPU:2': <tf.Variable 'Variable/replica_2:0' shape=() dtype=int32>, '/replica:0/task:0/device:GPU:3': <tf.Variable 'Variable/replica_3:0' shape=() dtype=int32>})"
      ]
     },
     "execution_count": 14,
     "metadata": {},
     "output_type": "execute_result"
    }
   ],
   "source": []
  },
  {
   "cell_type": "code",
   "execution_count": null,
   "metadata": {},
   "outputs": [],
   "source": [
    "dataloader = DataGenerator(X, y)"
   ]
  },
  {
   "cell_type": "code",
   "execution_count": null,
   "metadata": {},
   "outputs": [],
   "source": [
    "x, y = dataloader.__getitem__(0)"
   ]
  },
  {
   "cell_type": "code",
   "execution_count": null,
   "metadata": {},
   "outputs": [],
   "source": [
    "x.shape"
   ]
  }
 ],
 "metadata": {
  "kernelspec": {
   "display_name": "Python 3",
   "language": "python",
   "name": "python3"
  },
  "language_info": {
   "codemirror_mode": {
    "name": "ipython",
    "version": 3
   },
   "file_extension": ".py",
   "mimetype": "text/x-python",
   "name": "python",
   "nbconvert_exporter": "python",
   "pygments_lexer": "ipython3",
   "version": "3.6.12"
  }
 },
 "nbformat": 4,
 "nbformat_minor": 4
}
